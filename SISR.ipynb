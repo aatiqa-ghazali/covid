{
  "nbformat": 4,
  "nbformat_minor": 0,
  "metadata": {
    "colab": {
      "name": "Untitled2.ipynb",
      "provenance": [],
      "collapsed_sections": [],
      "machine_shape": "hm",
      "authorship_tag": "ABX9TyMAw4LPU7GD/m5X+yVPQMya",
      "include_colab_link": true
    },
    "kernelspec": {
      "name": "python3",
      "display_name": "Python 3"
    },
    "language_info": {
      "name": "python"
    },
    "accelerator": "GPU"
  },
  "cells": [
    {
      "cell_type": "markdown",
      "metadata": {
        "id": "view-in-github",
        "colab_type": "text"
      },
      "source": [
        "<a href=\"https://colab.research.google.com/github/aatiqa-ghazali/covid/blob/main/SISR.ipynb\" target=\"_parent\"><img src=\"https://colab.research.google.com/assets/colab-badge.svg\" alt=\"Open In Colab\"/></a>"
      ]
    },
    {
      "cell_type": "code",
      "metadata": {
        "colab": {
          "base_uri": "https://localhost:8080/"
        },
        "id": "I0GqBXBzYAgu",
        "outputId": "5f8af255-68b4-4ffb-effd-6477b260bf0e"
      },
      "source": [
        "#mounting_drive\n",
        "from google.colab import drive\n",
        "drive.mount('/content/drive')"
      ],
      "execution_count": 2,
      "outputs": [
        {
          "output_type": "stream",
          "name": "stdout",
          "text": [
            "Drive already mounted at /content/drive; to attempt to forcibly remount, call drive.mount(\"/content/drive\", force_remount=True).\n"
          ]
        }
      ]
    },
    {
      "cell_type": "code",
      "metadata": {
        "colab": {
          "base_uri": "https://localhost:8080/"
        },
        "id": "Wr4nkCHhaUTK",
        "outputId": "e9d87c3c-522a-4003-cec7-7383ee0d8a2c"
      },
      "source": [
        "!pip install -q condacolab\n",
        "import condacolab\n",
        "condacolab.install()"
      ],
      "execution_count": 3,
      "outputs": [
        {
          "output_type": "stream",
          "name": "stdout",
          "text": [
            "✨🍰✨ Everything looks OK!\n"
          ]
        }
      ]
    },
    {
      "cell_type": "code",
      "metadata": {
        "colab": {
          "base_uri": "https://localhost:8080/"
        },
        "id": "Ad0v3Z_ha-w0",
        "outputId": "e2d3181c-d479-4269-a55f-05e2496ac20a"
      },
      "source": [
        "#install_pytorch_0.4.1\n",
        "!conda install pytorch=0.4.1 -c pytorch\n"
      ],
      "execution_count": 1,
      "outputs": [
        {
          "output_type": "stream",
          "name": "stdout",
          "text": [
            "Collecting package metadata (current_repodata.json): - \b\b\\ \b\b| \b\b/ \b\b- \b\b\\ \b\b| \b\b/ \b\b- \b\b\\ \b\b| \b\b/ \b\b- \b\b\\ \b\b| \b\b/ \b\b- \b\b\\ \b\b| \b\b/ \b\b- \b\b\\ \b\b| \b\b/ \b\b- \b\b\\ \b\b| \b\b/ \b\b- \b\b\\ \b\b| \b\b/ \b\b- \b\b\\ \b\b| \b\b/ \b\b- \b\b\\ \b\b| \b\b/ \b\b- \b\b\\ \b\b| \b\b/ \b\b- \b\b\\ \b\b| \b\b/ \b\b- \b\b\\ \b\b| \b\b/ \b\b- \b\b\\ \b\b| \b\b/ \b\b- \b\b\\ \b\b| \b\b/ \b\b- \b\b\\ \b\b| \b\b/ \b\b- \b\b\\ \b\b| \b\bdone\n",
            "Solving environment: - \b\b\\ \b\b| \b\b/ \b\b- \b\b\\ \b\b| \b\b/ \b\b- \b\b\\ \b\b| \b\b/ \b\b- \b\b\\ \b\b| \b\b/ \b\b- \b\b\\ \b\b| \b\b/ \b\b- \b\b\\ \b\b| \b\b/ \b\b- \b\b\\ \b\b| \b\b/ \b\b- \b\b\\ \b\b| \b\b/ \b\b- \b\b\\ \b\b| \b\b/ \b\b- \b\b\\ \b\b| \b\bdone\n",
            "\n",
            "## Package Plan ##\n",
            "\n",
            "  environment location: /usr/local\n",
            "\n",
            "  added / updated specs:\n",
            "    - pytorch=0.4.1\n",
            "\n",
            "\n",
            "The following packages will be downloaded:\n",
            "\n",
            "    package                    |            build\n",
            "    ---------------------------|-----------------\n",
            "    _openmp_mutex-4.5          |           1_llvm           5 KB  conda-forge\n",
            "    ca-certificates-2021.5.30  |       ha878542_0         136 KB  conda-forge\n",
            "    certifi-2021.5.30          |   py37h89c1867_0         141 KB  conda-forge\n",
            "    conda-4.10.3               |   py37h89c1867_1         3.0 MB  conda-forge\n",
            "    cudatoolkit-11.0.3         |       h15472ef_8       951.9 MB  conda-forge\n",
            "    libblas-3.9.0              |11_linux64_openblas          12 KB  conda-forge\n",
            "    libcblas-3.9.0             |11_linux64_openblas          11 KB  conda-forge\n",
            "    libgfortran-ng-11.1.0      |       h69a702a_8          19 KB  conda-forge\n",
            "    libgfortran5-11.1.0        |       h6c583b3_8         1.7 MB  conda-forge\n",
            "    liblapack-3.9.0            |11_linux64_openblas          11 KB  conda-forge\n",
            "    libopenblas-0.3.17         |pthreads_h8fe5266_1         9.2 MB  conda-forge\n",
            "    llvm-openmp-12.0.1         |       h4bd325d_1         2.8 MB  conda-forge\n",
            "    mkl-2021.3.0               |     h726a3e6_557       217.5 MB  conda-forge\n",
            "    ninja-1.10.2               |       h4bd325d_0         2.4 MB  conda-forge\n",
            "    numpy-1.20.3               |   py37h038b26d_1         5.7 MB  conda-forge\n",
            "    python_abi-3.7             |          2_cp37m           4 KB  conda-forge\n",
            "    pytorch-0.4.1              |py37_py36_py35_py27__9.0.176_7.1.2_2       471.7 MB  pytorch\n",
            "    tbb-2021.3.0               |       h4bd325d_0         2.3 MB  conda-forge\n",
            "    ------------------------------------------------------------\n",
            "                                           Total:        1.63 GB\n",
            "\n",
            "The following NEW packages will be INSTALLED:\n",
            "\n",
            "  cudatoolkit        conda-forge/linux-64::cudatoolkit-11.0.3-h15472ef_8\n",
            "  libblas            conda-forge/linux-64::libblas-3.9.0-11_linux64_openblas\n",
            "  libcblas           conda-forge/linux-64::libcblas-3.9.0-11_linux64_openblas\n",
            "  libgfortran-ng     conda-forge/linux-64::libgfortran-ng-11.1.0-h69a702a_8\n",
            "  libgfortran5       conda-forge/linux-64::libgfortran5-11.1.0-h6c583b3_8\n",
            "  liblapack          conda-forge/linux-64::liblapack-3.9.0-11_linux64_openblas\n",
            "  libopenblas        conda-forge/linux-64::libopenblas-0.3.17-pthreads_h8fe5266_1\n",
            "  llvm-openmp        conda-forge/linux-64::llvm-openmp-12.0.1-h4bd325d_1\n",
            "  mkl                conda-forge/linux-64::mkl-2021.3.0-h726a3e6_557\n",
            "  ninja              conda-forge/linux-64::ninja-1.10.2-h4bd325d_0\n",
            "  numpy              conda-forge/linux-64::numpy-1.20.3-py37h038b26d_1\n",
            "  pytorch            pytorch/linux-64::pytorch-0.4.1-py37_py36_py35_py27__9.0.176_7.1.2_2\n",
            "  tbb                conda-forge/linux-64::tbb-2021.3.0-h4bd325d_0\n",
            "\n",
            "The following packages will be UPDATED:\n",
            "\n",
            "  ca-certificates                      2020.12.5-ha878542_0 --> 2021.5.30-ha878542_0\n",
            "  certifi                          2020.12.5-py37h89c1867_1 --> 2021.5.30-py37h89c1867_0\n",
            "  conda                                4.9.2-py37h89c1867_0 --> 4.10.3-py37h89c1867_1\n",
            "  python_abi                                    3.7-1_cp37m --> 3.7-2_cp37m\n",
            "\n",
            "The following packages will be DOWNGRADED:\n",
            "\n",
            "  _openmp_mutex                                   4.5-1_gnu --> 4.5-1_llvm\n",
            "\n",
            "\n",
            "\n",
            "Downloading and Extracting Packages\n",
            "liblapack-3.9.0      | 11 KB     | : 100% 1.0/1 [00:00<00:00,  7.93it/s]\n",
            "libgfortran5-11.1.0  | 1.7 MB    | : 100% 1.0/1 [00:00<00:00,  2.55it/s]\n",
            "llvm-openmp-12.0.1   | 2.8 MB    | : 100% 1.0/1 [00:00<00:00,  2.04it/s]\n",
            "python_abi-3.7       | 4 KB      | : 100% 1.0/1 [00:00<00:00, 27.47it/s]\n",
            "tbb-2021.3.0         | 2.3 MB    | : 100% 1.0/1 [00:00<00:00,  2.67it/s]\n",
            "_openmp_mutex-4.5    | 5 KB      | : 100% 1.0/1 [00:00<00:00, 28.09it/s]\n",
            "ca-certificates-2021 | 136 KB    | : 100% 1.0/1 [00:00<00:00, 17.55it/s]\n",
            "certifi-2021.5.30    | 141 KB    | : 100% 1.0/1 [00:00<00:00, 18.65it/s]\n",
            "numpy-1.20.3         | 5.7 MB    | : 100% 1.0/1 [00:01<00:00,  1.23s/it]\n",
            "pytorch-0.4.1        | 471.7 MB  | : 100% 1.0/1 [01:08<00:00, 68.49s/it]               \n",
            "conda-4.10.3         | 3.0 MB    | : 100% 1.0/1 [00:00<00:00,  1.47it/s]\n",
            "cudatoolkit-11.0.3   | 951.9 MB  | : 100% 1.0/1 [02:09<00:00, 129.03s/it]              \n",
            "libgfortran-ng-11.1. | 19 KB     | : 100% 1.0/1 [00:00<00:00, 25.00it/s]\n",
            "libblas-3.9.0        | 12 KB     | : 100% 1.0/1 [00:00<00:00, 27.57it/s]\n",
            "mkl-2021.3.0         | 217.5 MB  | : 100% 1.0/1 [00:40<00:00, 40.06s/it]               \n",
            "ninja-1.10.2         | 2.4 MB    | : 100% 1.0/1 [00:00<00:00,  2.37it/s]\n",
            "libcblas-3.9.0       | 11 KB     | : 100% 1.0/1 [00:00<00:00, 24.92it/s]\n",
            "libopenblas-0.3.17   | 9.2 MB    | : 100% 1.0/1 [00:01<00:00,  1.68s/it]               \n",
            "Preparing transaction: - \b\bdone\n",
            "Verifying transaction: | \b\b/ \b\b- \b\bdone\n",
            "Executing transaction: | \b\b/ \b\b- \b\b\\ \b\b| \b\b/ \b\b- \b\b\\ \b\b| \b\b/ \b\b- \b\b\\ \b\b| \b\b/ \b\b- \b\b\\ \b\b| \b\b/ \b\b- \b\b\\ \b\b| \b\b/ \b\b- \b\b\\ \b\b| \b\b/ \b\b- \b\b\\ \b\b| \b\b/ \b\b- \b\b\\ \b\b| \b\b/ \b\b- \b\b\\ \b\b| \b\b/ \b\b- \b\b\\ \b\b| \b\b/ \b\b- \b\b\\ \b\b| \b\b/ \b\b- \b\b\\ \b\b| \b\b/ \b\b- \b\b\\ \b\b| \b\b/ By downloading and using the CUDA Toolkit conda packages, you accept the terms and conditions of the CUDA End User License Agreement (EULA): https://docs.nvidia.com/cuda/eula/index.html\n",
            "\n",
            "\b\b- \b\bdone\n"
          ]
        }
      ]
    },
    {
      "cell_type": "code",
      "metadata": {
        "colab": {
          "base_uri": "https://localhost:8080/"
        },
        "id": "BC7ESTr9lMiP",
        "outputId": "c678e763-689d-4d3a-fae3-b1600b62217f"
      },
      "source": [
        "# Install the python version\n",
        "!apt-get install python2.7"
      ],
      "execution_count": 4,
      "outputs": [
        {
          "output_type": "stream",
          "name": "stdout",
          "text": [
            "Reading package lists... Done\n",
            "Building dependency tree       \n",
            "Reading state information... Done\n",
            "python2.7 is already the newest version (2.7.17-1~18.04ubuntu1.6).\n",
            "python2.7 set to manually installed.\n",
            "0 upgraded, 0 newly installed, 0 to remove and 40 not upgraded.\n"
          ]
        }
      ]
    },
    {
      "cell_type": "code",
      "metadata": {
        "colab": {
          "base_uri": "https://localhost:8080/"
        },
        "id": "en-PcpMlbuA8",
        "outputId": "ff9449a7-af75-4a87-b0c1-89a591f55b95"
      },
      "source": [
        "#install_torchvision\n",
        "!conda install torchvision -c pytorch\n"
      ],
      "execution_count": 5,
      "outputs": [
        {
          "output_type": "stream",
          "name": "stdout",
          "text": [
            "Collecting package metadata (current_repodata.json): - \b\b\\ \b\b| \b\b/ \b\b- \b\b\\ \b\b| \b\b/ \b\b- \b\b\\ \b\b| \b\b/ \b\b- \b\b\\ \b\b| \b\bdone\n",
            "Solving environment: - \b\b\\ \b\b| \b\b/ \b\b- \b\b\\ \b\b| \b\b/ \b\b- \b\b\\ \b\b| \b\b/ \b\b- \b\b\\ \b\b| \b\b/ \b\b- \b\b\\ \b\b| \b\b/ \b\b- \b\b\\ \b\b| \b\b/ \b\b- \b\b\\ \b\b| \b\b/ \b\bdone\n",
            "\n",
            "## Package Plan ##\n",
            "\n",
            "  environment location: /usr/local\n",
            "\n",
            "  added / updated specs:\n",
            "    - torchvision\n",
            "\n",
            "\n",
            "The following packages will be downloaded:\n",
            "\n",
            "    package                    |            build\n",
            "    ---------------------------|-----------------\n",
            "    freetype-2.10.4            |       h0708190_1         890 KB  conda-forge\n",
            "    jpeg-9d                    |       h36c2ea0_0         264 KB  conda-forge\n",
            "    libpng-1.6.37              |       h21135ba_2         306 KB  conda-forge\n",
            "    libtiff-4.0.10             |    hc3755c2_1005         602 KB  conda-forge\n",
            "    olefile-0.46               |     pyh9f0ad1d_1          32 KB  conda-forge\n",
            "    pillow-6.2.1               |   py37h6b7be26_0         637 KB  conda-forge\n",
            "    torchvision-0.2.1          |             py_2          37 KB  pytorch\n",
            "    ------------------------------------------------------------\n",
            "                                           Total:         2.7 MB\n",
            "\n",
            "The following NEW packages will be INSTALLED:\n",
            "\n",
            "  freetype           conda-forge/linux-64::freetype-2.10.4-h0708190_1\n",
            "  jpeg               conda-forge/linux-64::jpeg-9d-h36c2ea0_0\n",
            "  libpng             conda-forge/linux-64::libpng-1.6.37-h21135ba_2\n",
            "  libtiff            conda-forge/linux-64::libtiff-4.0.10-hc3755c2_1005\n",
            "  olefile            conda-forge/noarch::olefile-0.46-pyh9f0ad1d_1\n",
            "  pillow             conda-forge/linux-64::pillow-6.2.1-py37h6b7be26_0\n",
            "  torchvision        pytorch/noarch::torchvision-0.2.1-py_2\n",
            "\n",
            "\n",
            "\n",
            "Downloading and Extracting Packages\n",
            "olefile-0.46         | 32 KB     | : 100% 1.0/1 [00:00<00:00,  9.19it/s]\n",
            "pillow-6.2.1         | 637 KB    | : 100% 1.0/1 [00:00<00:00,  5.28it/s]\n",
            "jpeg-9d              | 264 KB    | : 100% 1.0/1 [00:00<00:00, 11.74it/s]\n",
            "torchvision-0.2.1    | 37 KB     | : 100% 1.0/1 [00:00<00:00,  2.57it/s]               \n",
            "libpng-1.6.37        | 306 KB    | : 100% 1.0/1 [00:00<00:00, 11.26it/s]\n",
            "freetype-2.10.4      | 890 KB    | : 100% 1.0/1 [00:00<00:00,  4.93it/s]\n",
            "libtiff-4.0.10       | 602 KB    | : 100% 1.0/1 [00:00<00:00,  7.17it/s]\n",
            "Preparing transaction: \\ \b\bdone\n",
            "Verifying transaction: / \b\bdone\n",
            "Executing transaction: \\ \b\b| \b\b/ \b\b- \b\b\\ \b\bdone\n"
          ]
        }
      ]
    },
    {
      "cell_type": "code",
      "metadata": {
        "colab": {
          "base_uri": "https://localhost:8080/"
        },
        "id": "OlJLUL9Hlg0s",
        "outputId": "af5d49eb-3202-4986-b18e-4925d0028ab7"
      },
      "source": [
        "!conda install scikit-image"
      ],
      "execution_count": 6,
      "outputs": [
        {
          "output_type": "stream",
          "name": "stdout",
          "text": [
            "Collecting package metadata (current_repodata.json): - \b\b\\ \b\b| \b\b/ \b\b- \b\b\\ \b\b| \b\b/ \b\b- \b\b\\ \b\b| \b\b/ \b\b- \b\b\\ \b\b| \b\bdone\n",
            "Solving environment: - \b\b\\ \b\b| \b\b/ \b\b- \b\b\\ \b\b| \b\b/ \b\b- \b\b\\ \b\b| \b\b/ \b\b- \b\b\\ \b\b| \b\b/ \b\b- \b\b\\ \b\b| \b\b/ \b\b- \b\b\\ \b\b| \b\b/ \b\b- \b\b\\ \b\b| \b\b/ \b\b- \b\b\\ \b\b| \b\b/ \b\b- \b\b\\ \b\b| \b\b/ \b\b- \b\b\\ \b\b| \b\b/ \b\b- \b\b\\ \b\b| \b\b/ \b\b- \b\b\\ \b\b| \b\b/ \b\b- \b\b\\ \b\b| \b\b/ \b\b- \b\b\\ \b\b| \b\b/ \b\b- \b\b\\ \b\b| \b\bdone\n",
            "\n",
            "## Package Plan ##\n",
            "\n",
            "  environment location: /usr/local\n",
            "\n",
            "  added / updated specs:\n",
            "    - scikit-image\n",
            "\n",
            "\n",
            "The following packages will be downloaded:\n",
            "\n",
            "    package                    |            build\n",
            "    ---------------------------|-----------------\n",
            "    appdirs-1.4.4              |     pyh9f0ad1d_0          13 KB  conda-forge\n",
            "    cloudpickle-2.0.0          |     pyhd8ed1ab_0          24 KB  conda-forge\n",
            "    cycler-0.10.0              |             py_2           9 KB  conda-forge\n",
            "    cytoolz-0.11.0             |   py37h5e8e339_3         403 KB  conda-forge\n",
            "    dask-core-2021.9.0         |     pyhd8ed1ab_0         767 KB  conda-forge\n",
            "    decorator-4.4.2            |             py_0          11 KB  conda-forge\n",
            "    enum34-1.1.10              |   py37hc8dfbb8_2           4 KB  conda-forge\n",
            "    fsspec-2021.8.1            |     pyhd8ed1ab_0          82 KB  conda-forge\n",
            "    imagecodecs-lite-2019.12.3 |   py37h902c9e0_3         205 KB  conda-forge\n",
            "    imageio-2.9.0              |             py_0         3.1 MB  conda-forge\n",
            "    kiwisolver-1.3.2           |   py37h2527ec5_0          78 KB  conda-forge\n",
            "    libgcc-ng-11.1.0           |       hc902ee8_8         908 KB  conda-forge\n",
            "    libstdcxx-ng-11.1.0        |       h56837e0_8         4.2 MB  conda-forge\n",
            "    locket-0.2.0               |             py_2           6 KB  conda-forge\n",
            "    matplotlib-base-3.4.3      |   py37h1058ff1_0         7.2 MB  conda-forge\n",
            "    networkx-2.6.3             |     pyhd8ed1ab_0         1.5 MB  conda-forge\n",
            "    openssl-1.1.1l             |       h7f98852_0         2.1 MB  conda-forge\n",
            "    packaging-21.0             |     pyhd8ed1ab_0          35 KB  conda-forge\n",
            "    pandas-1.3.2               |   py37he8f5f7f_0        12.7 MB  conda-forge\n",
            "    partd-1.2.0                |     pyhd8ed1ab_0          18 KB  conda-forge\n",
            "    pathlib-1.0.1              |   py37h89c1867_4           4 KB  conda-forge\n",
            "    pooch-1.5.1                |     pyhd8ed1ab_0          45 KB  conda-forge\n",
            "    pyparsing-2.4.7            |     pyh9f0ad1d_0          60 KB  conda-forge\n",
            "    python-dateutil-2.8.2      |     pyhd8ed1ab_0         240 KB  conda-forge\n",
            "    pytz-2021.1                |     pyhd8ed1ab_0         239 KB  conda-forge\n",
            "    pywavelets-1.1.1           |   py37hb1e94ed_3         4.4 MB  conda-forge\n",
            "    pyyaml-5.4.1               |   py37h5e8e339_1         193 KB  conda-forge\n",
            "    scikit-image-0.18.3        |   py37he8f5f7f_0        11.5 MB  conda-forge\n",
            "    scipy-1.7.1                |   py37hf2a6cf1_0        21.7 MB  conda-forge\n",
            "    tifffile-2019.7.26.2       |           py37_0         218 KB  conda-forge\n",
            "    toolz-0.11.1               |             py_0          46 KB  conda-forge\n",
            "    tornado-6.1                |   py37h5e8e339_1         646 KB  conda-forge\n",
            "    ------------------------------------------------------------\n",
            "                                           Total:        72.6 MB\n",
            "\n",
            "The following NEW packages will be INSTALLED:\n",
            "\n",
            "  appdirs            conda-forge/noarch::appdirs-1.4.4-pyh9f0ad1d_0\n",
            "  cloudpickle        conda-forge/noarch::cloudpickle-2.0.0-pyhd8ed1ab_0\n",
            "  cycler             conda-forge/noarch::cycler-0.10.0-py_2\n",
            "  cytoolz            conda-forge/linux-64::cytoolz-0.11.0-py37h5e8e339_3\n",
            "  dask-core          conda-forge/noarch::dask-core-2021.9.0-pyhd8ed1ab_0\n",
            "  decorator          conda-forge/noarch::decorator-4.4.2-py_0\n",
            "  enum34             conda-forge/linux-64::enum34-1.1.10-py37hc8dfbb8_2\n",
            "  fsspec             conda-forge/noarch::fsspec-2021.8.1-pyhd8ed1ab_0\n",
            "  imagecodecs-lite   conda-forge/linux-64::imagecodecs-lite-2019.12.3-py37h902c9e0_3\n",
            "  imageio            conda-forge/noarch::imageio-2.9.0-py_0\n",
            "  kiwisolver         conda-forge/linux-64::kiwisolver-1.3.2-py37h2527ec5_0\n",
            "  locket             conda-forge/noarch::locket-0.2.0-py_2\n",
            "  matplotlib-base    conda-forge/linux-64::matplotlib-base-3.4.3-py37h1058ff1_0\n",
            "  networkx           conda-forge/noarch::networkx-2.6.3-pyhd8ed1ab_0\n",
            "  packaging          conda-forge/noarch::packaging-21.0-pyhd8ed1ab_0\n",
            "  pandas             conda-forge/linux-64::pandas-1.3.2-py37he8f5f7f_0\n",
            "  partd              conda-forge/noarch::partd-1.2.0-pyhd8ed1ab_0\n",
            "  pathlib            conda-forge/linux-64::pathlib-1.0.1-py37h89c1867_4\n",
            "  pooch              conda-forge/noarch::pooch-1.5.1-pyhd8ed1ab_0\n",
            "  pyparsing          conda-forge/noarch::pyparsing-2.4.7-pyh9f0ad1d_0\n",
            "  python-dateutil    conda-forge/noarch::python-dateutil-2.8.2-pyhd8ed1ab_0\n",
            "  pytz               conda-forge/noarch::pytz-2021.1-pyhd8ed1ab_0\n",
            "  pywavelets         conda-forge/linux-64::pywavelets-1.1.1-py37hb1e94ed_3\n",
            "  pyyaml             conda-forge/linux-64::pyyaml-5.4.1-py37h5e8e339_1\n",
            "  scikit-image       conda-forge/linux-64::scikit-image-0.18.3-py37he8f5f7f_0\n",
            "  scipy              conda-forge/linux-64::scipy-1.7.1-py37hf2a6cf1_0\n",
            "  tifffile           conda-forge/linux-64::tifffile-2019.7.26.2-py37_0\n",
            "  toolz              conda-forge/noarch::toolz-0.11.1-py_0\n",
            "  tornado            conda-forge/linux-64::tornado-6.1-py37h5e8e339_1\n",
            "\n",
            "The following packages will be REMOVED:\n",
            "\n",
            "  libgomp-9.3.0-h2828fa1_18\n",
            "\n",
            "The following packages will be UPDATED:\n",
            "\n",
            "  libgcc-ng                               9.3.0-h2828fa1_18 --> 11.1.0-hc902ee8_8\n",
            "  libstdcxx-ng                            9.3.0-h6de172a_18 --> 11.1.0-h56837e0_8\n",
            "  openssl                                 1.1.1j-h7f98852_0 --> 1.1.1l-h7f98852_0\n",
            "\n",
            "\n",
            "\n",
            "Downloading and Extracting Packages\n",
            "cytoolz-0.11.0       | 403 KB    | : 100% 1.0/1 [00:00<00:00,  4.41it/s]\n",
            "partd-1.2.0          | 18 KB     | : 100% 1.0/1 [00:00<00:00, 21.53it/s]\n",
            "pathlib-1.0.1        | 4 KB      | : 100% 1.0/1 [00:00<00:00, 24.74it/s]\n",
            "openssl-1.1.1l       | 2.1 MB    | : 100% 1.0/1 [00:00<00:00,  2.62it/s]\n",
            "dask-core-2021.9.0   | 767 KB    | : 100% 1.0/1 [00:00<00:00,  4.43it/s]\n",
            "packaging-21.0       | 35 KB     | : 100% 1.0/1 [00:00<00:00, 22.40it/s]\n",
            "libgcc-ng-11.1.0     | 908 KB    | : 100% 1.0/1 [00:00<00:00,  5.95it/s]\n",
            "pooch-1.5.1          | 45 KB     | : 100% 1.0/1 [00:00<00:00, 15.09it/s]\n",
            "imageio-2.9.0        | 3.1 MB    | : 100% 1.0/1 [00:00<00:00,  2.50it/s]\n",
            "scikit-image-0.18.3  | 11.5 MB   | : 100% 1.0/1 [00:01<00:00,  1.78s/it]               \n",
            "pandas-1.3.2         | 12.7 MB   | : 100% 1.0/1 [00:02<00:00,  2.80s/it]               \n",
            "scipy-1.7.1          | 21.7 MB   | : 100% 1.0/1 [00:03<00:00,  3.71s/it]\n",
            "locket-0.2.0         | 6 KB      | : 100% 1.0/1 [00:00<00:00, 27.09it/s]\n",
            "pytz-2021.1          | 239 KB    | : 100% 1.0/1 [00:00<00:00,  8.14it/s]\n",
            "tifffile-2019.7.26.2 | 218 KB    | : 100% 1.0/1 [00:00<00:00, 12.52it/s]\n",
            "appdirs-1.4.4        | 13 KB     | : 100% 1.0/1 [00:00<00:00, 27.45it/s]\n",
            "cloudpickle-2.0.0    | 24 KB     | : 100% 1.0/1 [00:00<00:00, 24.90it/s]\n",
            "tornado-6.1          | 646 KB    | : 100% 1.0/1 [00:00<00:00,  5.22it/s]\n",
            "cycler-0.10.0        | 9 KB      | : 100% 1.0/1 [00:00<00:00, 31.91it/s]\n",
            "toolz-0.11.1         | 46 KB     | : 100% 1.0/1 [00:00<00:00, 22.44it/s]\n",
            "python-dateutil-2.8. | 240 KB    | : 100% 1.0/1 [00:00<00:00, 13.58it/s]\n",
            "matplotlib-base-3.4. | 7.2 MB    | : 100% 1.0/1 [00:01<00:00,  1.28s/it]\n",
            "pywavelets-1.1.1     | 4.4 MB    | : 100% 1.0/1 [00:00<00:00,  1.60it/s]\n",
            "libstdcxx-ng-11.1.0  | 4.2 MB    | : 100% 1.0/1 [00:00<00:00,  1.43it/s]\n",
            "pyparsing-2.4.7      | 60 KB     | : 100% 1.0/1 [00:00<00:00, 20.81it/s]\n",
            "pyyaml-5.4.1         | 193 KB    | : 100% 1.0/1 [00:00<00:00, 10.46it/s]\n",
            "networkx-2.6.3       | 1.5 MB    | : 100% 1.0/1 [00:00<00:00,  2.65it/s]\n",
            "kiwisolver-1.3.2     | 78 KB     | : 100% 1.0/1 [00:00<00:00, 17.44it/s]\n",
            "enum34-1.1.10        | 4 KB      | : 100% 1.0/1 [00:00<00:00, 29.39it/s]\n",
            "fsspec-2021.8.1      | 82 KB     | : 100% 1.0/1 [00:00<00:00, 17.21it/s]\n",
            "decorator-4.4.2      | 11 KB     | : 100% 1.0/1 [00:00<00:00, 28.39it/s]\n",
            "imagecodecs-lite-201 | 205 KB    | : 100% 1.0/1 [00:00<00:00, 14.63it/s]\n",
            "Preparing transaction: - \b\b\\ \b\b| \b\bdone\n",
            "Verifying transaction: - \b\b\\ \b\b| \b\b/ \b\b- \b\b\\ \b\b| \b\b/ \b\b- \b\bdone\n",
            "Executing transaction: | \b\b/ \b\b- \b\b\\ \b\b| \b\b/ \b\b- \b\b\\ \b\b| \b\b/ \b\b- \b\b\\ \b\b| \b\b/ \b\b- \b\b\\ \b\b| \b\b/ \b\b- \b\b\\ \b\b| \b\b/ \b\b- \b\b\\ \b\b| \b\b/ \b\b- \b\b\\ \b\b| \b\b/ \b\b- \b\b\\ \b\b| \b\b/ \b\b- \b\b\\ \b\b| \b\b/ \b\bdone\n"
          ]
        }
      ]
    },
    {
      "cell_type": "code",
      "metadata": {
        "id": "uY2p2fdrmLdu"
      },
      "source": [
        "from skimage import data, io, filters\n"
      ],
      "execution_count": 7,
      "outputs": []
    },
    {
      "cell_type": "code",
      "metadata": {
        "colab": {
          "base_uri": "https://localhost:8080/"
        },
        "id": "SyDKMKXBmOoN",
        "outputId": "17229cab-04c0-41fb-d7ba-793f18f7597a"
      },
      "source": [
        "!conda install pillow\n",
        "!conda install hdf5\n",
        "!conda install scipy\n"
      ],
      "execution_count": 8,
      "outputs": [
        {
          "output_type": "stream",
          "name": "stdout",
          "text": [
            "Collecting package metadata (current_repodata.json): - \b\b\\ \b\b| \b\b/ \b\b- \b\b\\ \b\b| \b\b/ \b\b- \b\b\\ \b\b| \b\b/ \b\b- \b\b\\ \b\b| \b\bdone\n",
            "Solving environment: - \b\b\\ \b\b| \b\b/ \b\b- \b\b\\ \b\b| \b\b/ \b\b- \b\b\\ \b\b| \b\b/ \b\b- \b\b\\ \b\b| \b\b/ \b\b- \b\b\\ \b\b| \b\b/ \b\b- \b\b\\ \b\bdone\n",
            "\n",
            "# All requested packages already installed.\n",
            "\n",
            "Collecting package metadata (current_repodata.json): - \b\b\\ \b\b| \b\b/ \b\b- \b\b\\ \b\b| \b\b/ \b\b- \b\b\\ \b\b| \b\b/ \b\b- \b\b\\ \b\b| \b\bdone\n",
            "Solving environment: - \b\b\\ \b\b| \b\b/ \b\b- \b\b\\ \b\b| \b\b/ \b\b- \b\b\\ \b\b| \b\b/ \b\b- \b\b\\ \b\b| \b\b/ \b\b- \b\b\\ \b\b| \b\b/ \b\b- \b\b\\ \b\b| \b\b/ \b\b- \b\b\\ \b\b| \b\b/ \b\b- \b\b\\ \b\b| \b\b/ \b\b- \b\b\\ \b\b| \b\b/ \b\b- \b\b\\ \b\b| \b\b/ \b\b- \b\b\\ \b\b| \b\bdone\n",
            "\n",
            "## Package Plan ##\n",
            "\n",
            "  environment location: /usr/local\n",
            "\n",
            "  added / updated specs:\n",
            "    - hdf5\n",
            "\n",
            "\n",
            "The following packages will be downloaded:\n",
            "\n",
            "    package                    |            build\n",
            "    ---------------------------|-----------------\n",
            "    hdf5-1.10.6                |nompi_h6a2412b_1114         3.1 MB  conda-forge\n",
            "    ------------------------------------------------------------\n",
            "                                           Total:         3.1 MB\n",
            "\n",
            "The following NEW packages will be INSTALLED:\n",
            "\n",
            "  hdf5               conda-forge/linux-64::hdf5-1.10.6-nompi_h6a2412b_1114\n",
            "\n",
            "\n",
            "\n",
            "Downloading and Extracting Packages\n",
            "hdf5-1.10.6          | 3.1 MB    | : 100% 1.0/1 [00:00<00:00,  1.50it/s]\n",
            "Preparing transaction: - \b\bdone\n",
            "Verifying transaction: | \b\bdone\n",
            "Executing transaction: - \b\bdone\n",
            "Collecting package metadata (current_repodata.json): - \b\b\\ \b\b| \b\b/ \b\b- \b\b\\ \b\b| \b\b/ \b\b- \b\b\\ \b\b| \b\b/ \b\b- \b\b\\ \b\bdone\n",
            "Solving environment: / \b\b- \b\b\\ \b\b| \b\b/ \b\b- \b\b\\ \b\b| \b\b/ \b\b- \b\b\\ \b\b| \b\b/ \b\b- \b\b\\ \b\b| \b\b/ \b\b- \b\b\\ \b\b| \b\b/ \b\b- \b\b\\ \b\b| \b\b/ \b\b- \b\bdone\n",
            "\n",
            "# All requested packages already installed.\n",
            "\n"
          ]
        }
      ]
    },
    {
      "cell_type": "code",
      "metadata": {
        "id": "lQM7jfhMenBs"
      },
      "source": [
        "import cv2\n",
        "import os\n",
        "import h5py\n",
        "import numpy as np\n",
        "import scipy\n",
        "from PIL import Image\n",
        "import importlib\n",
        "import skimage\n",
        "import scipy.misc\n"
      ],
      "execution_count": 9,
      "outputs": []
    },
    {
      "cell_type": "code",
      "metadata": {
        "colab": {
          "base_uri": "https://localhost:8080/"
        },
        "id": "P-CEY_7zkOFA",
        "outputId": "7e238cbd-a5bb-4611-a16b-1bfdf3a87195"
      },
      "source": [
        "!conda install -c conda-forge tensorboardx\n",
        "!conda install -c conda-forge protobuf\n",
        "\n"
      ],
      "execution_count": 10,
      "outputs": [
        {
          "output_type": "stream",
          "name": "stdout",
          "text": [
            "Collecting package metadata (current_repodata.json): - \b\b\\ \b\b| \b\b/ \b\b- \b\b\\ \b\b| \b\b/ \b\b- \b\b\\ \b\b| \b\b/ \b\b- \b\b\\ \b\bdone\n",
            "Solving environment: / \b\b- \b\b\\ \b\b| \b\b/ \b\b- \b\b\\ \b\b| \b\b/ \b\b- \b\b\\ \b\b| \b\b/ \b\b- \b\b\\ \b\b| \b\b/ \b\b- \b\b\\ \b\b| \b\b/ \b\b- \b\b\\ \b\b| \b\b/ \b\bdone\n",
            "\n",
            "## Package Plan ##\n",
            "\n",
            "  environment location: /usr/local\n",
            "\n",
            "  added / updated specs:\n",
            "    - tensorboardx\n",
            "\n",
            "\n",
            "The following packages will be downloaded:\n",
            "\n",
            "    package                    |            build\n",
            "    ---------------------------|-----------------\n",
            "    libprotobuf-3.17.2         |       h780b84a_1         2.5 MB  conda-forge\n",
            "    protobuf-3.17.2            |   py37hcd2ae1e_0         347 KB  conda-forge\n",
            "    tensorboardx-2.4           |     pyhd8ed1ab_0          83 KB  conda-forge\n",
            "    ------------------------------------------------------------\n",
            "                                           Total:         2.9 MB\n",
            "\n",
            "The following NEW packages will be INSTALLED:\n",
            "\n",
            "  libprotobuf        conda-forge/linux-64::libprotobuf-3.17.2-h780b84a_1\n",
            "  protobuf           conda-forge/linux-64::protobuf-3.17.2-py37hcd2ae1e_0\n",
            "  tensorboardx       conda-forge/noarch::tensorboardx-2.4-pyhd8ed1ab_0\n",
            "\n",
            "\n",
            "\n",
            "Downloading and Extracting Packages\n",
            "protobuf-3.17.2      | 347 KB    | : 100% 1.0/1 [00:00<00:00,  3.99it/s]\n",
            "libprotobuf-3.17.2   | 2.5 MB    | : 100% 1.0/1 [00:00<00:00,  1.89it/s]\n",
            "tensorboardx-2.4     | 83 KB     | : 100% 1.0/1 [00:00<00:00, 17.42it/s]\n",
            "Preparing transaction: \\ \b\bdone\n",
            "Verifying transaction: / \b\bdone\n",
            "Executing transaction: \\ \b\b| \b\b/ \b\b- \b\b\\ \b\b| \b\b/ \b\bdone\n",
            "Collecting package metadata (current_repodata.json): - \b\b\\ \b\b| \b\b/ \b\b- \b\b\\ \b\b| \b\b/ \b\b- \b\b\\ \b\b| \b\b/ \b\b- \b\b\\ \b\b| \b\bdone\n",
            "Solving environment: - \b\b\\ \b\b| \b\b/ \b\b- \b\b\\ \b\b| \b\b/ \b\b- \b\b\\ \b\b| \b\b/ \b\b- \b\b\\ \b\b| \b\b/ \b\b- \b\b\\ \b\b| \b\b/ \b\b- \b\b\\ \b\bdone\n",
            "\n",
            "# All requested packages already installed.\n",
            "\n"
          ]
        }
      ]
    },
    {
      "cell_type": "code",
      "metadata": {
        "colab": {
          "base_uri": "https://localhost:8080/"
        },
        "id": "ZfV530y2rjEp",
        "outputId": "c9e2c72a-5a61-42d7-ab49-0f975fcadde7"
      },
      "source": [
        "!conda install h5py\n",
        "!conda install cython"
      ],
      "execution_count": 11,
      "outputs": [
        {
          "output_type": "stream",
          "name": "stdout",
          "text": [
            "Collecting package metadata (current_repodata.json): - \b\b\\ \b\b| \b\b/ \b\b- \b\b\\ \b\b| \b\b/ \b\b- \b\b\\ \b\b| \b\b/ \b\b- \b\b\\ \b\b| \b\bdone\n",
            "Solving environment: - \b\b\\ \b\b| \b\b/ \b\b- \b\b\\ \b\b| \b\b/ \b\b- \b\b\\ \b\b| \b\b/ \b\b- \b\b\\ \b\b| \b\b/ \b\b- \b\b\\ \b\b| \b\b/ \b\b- \b\b\\ \b\b| \b\b/ \b\b- \b\b\\ \b\b| \b\b/ \b\b- \b\b\\ \b\b| \b\bdone\n",
            "\n",
            "## Package Plan ##\n",
            "\n",
            "  environment location: /usr/local\n",
            "\n",
            "  added / updated specs:\n",
            "    - h5py\n",
            "\n",
            "\n",
            "The following packages will be downloaded:\n",
            "\n",
            "    package                    |            build\n",
            "    ---------------------------|-----------------\n",
            "    cached-property-1.5.2      |       hd8ed1ab_1           4 KB  conda-forge\n",
            "    cached_property-1.5.2      |     pyha770c72_1          11 KB  conda-forge\n",
            "    h5py-3.2.1                 |nompi_py37ha3df211_100         1.3 MB  conda-forge\n",
            "    ------------------------------------------------------------\n",
            "                                           Total:         1.3 MB\n",
            "\n",
            "The following NEW packages will be INSTALLED:\n",
            "\n",
            "  cached-property    conda-forge/noarch::cached-property-1.5.2-hd8ed1ab_1\n",
            "  cached_property    conda-forge/noarch::cached_property-1.5.2-pyha770c72_1\n",
            "  h5py               conda-forge/linux-64::h5py-3.2.1-nompi_py37ha3df211_100\n",
            "\n",
            "\n",
            "\n",
            "Downloading and Extracting Packages\n",
            "h5py-3.2.1           | 1.3 MB    | : 100% 1.0/1 [00:00<00:00,  2.44it/s]\n",
            "cached-property-1.5. | 4 KB      | : 100% 1.0/1 [00:00<00:00, 26.92it/s]\n",
            "cached_property-1.5. | 11 KB     | : 100% 1.0/1 [00:00<00:00, 23.32it/s]\n",
            "Preparing transaction: - \b\bdone\n",
            "Verifying transaction: | \b\bdone\n",
            "Executing transaction: - \b\b\\ \b\b| \b\b/ \b\b- \b\b\\ \b\bdone\n",
            "Collecting package metadata (current_repodata.json): - \b\b\\ \b\b| \b\b/ \b\b- \b\b\\ \b\b| \b\b/ \b\b- \b\b\\ \b\b| \b\b/ \b\b- \b\b\\ \b\bdone\n",
            "Solving environment: / \b\b- \b\b\\ \b\b| \b\b/ \b\b- \b\b\\ \b\b| \b\b/ \b\b- \b\b\\ \b\b| \b\b/ \b\b- \b\b\\ \b\b| \b\b/ \b\b- \b\b\\ \b\b| \b\b/ \b\b- \b\b\\ \b\bdone\n",
            "\n",
            "## Package Plan ##\n",
            "\n",
            "  environment location: /usr/local\n",
            "\n",
            "  added / updated specs:\n",
            "    - cython\n",
            "\n",
            "\n",
            "The following packages will be downloaded:\n",
            "\n",
            "    package                    |            build\n",
            "    ---------------------------|-----------------\n",
            "    cython-0.29.24             |   py37hcd2ae1e_0         2.2 MB  conda-forge\n",
            "    ------------------------------------------------------------\n",
            "                                           Total:         2.2 MB\n",
            "\n",
            "The following NEW packages will be INSTALLED:\n",
            "\n",
            "  cython             conda-forge/linux-64::cython-0.29.24-py37hcd2ae1e_0\n",
            "\n",
            "\n",
            "\n",
            "Downloading and Extracting Packages\n",
            "cython-0.29.24       | 2.2 MB    | : 100% 1.0/1 [00:00<00:00,  1.54it/s]\n",
            "Preparing transaction: / \b\bdone\n",
            "Verifying transaction: \\ \b\bdone\n",
            "Executing transaction: / \b\bdone\n"
          ]
        }
      ]
    },
    {
      "cell_type": "code",
      "metadata": {
        "colab": {
          "base_uri": "https://localhost:8080/"
        },
        "id": "qwMGWt6ZtERG",
        "outputId": "1a255593-b332-40a6-d3b6-9d3bbc03683c"
      },
      "source": [
        "!conda install opencv \n",
        "import cv2 \n"
      ],
      "execution_count": 12,
      "outputs": [
        {
          "output_type": "stream",
          "name": "stdout",
          "text": [
            "Collecting package metadata (current_repodata.json): - \b\b\\ \b\b| \b\b/ \b\b- \b\b\\ \b\b| \b\b/ \b\b- \b\b\\ \b\b| \b\b/ \b\b- \b\b\\ \b\b| \b\b/ \b\bdone\n",
            "Solving environment: \\ \b\b| \b\b/ \b\b- \b\b\\ \b\b| \b\b/ \b\b- \b\b\\ \b\b| \b\b/ \b\b- \b\b\\ \b\b| \b\b/ \b\b- \b\b\\ \b\b| \b\b/ \b\b- \b\b\\ \b\b| \b\b/ \b\b- \b\b\\ \b\b| \b\b/ \b\b- \b\b\\ \b\b| \b\b/ \b\b- \b\b\\ \b\b| \b\b/ \b\b- \b\b\\ \b\b| \b\b/ \b\b- \b\b\\ \b\b| \b\b/ \b\b- \b\b\\ \b\b| \b\b/ \b\b- \b\b\\ \b\b| \b\b/ \b\b- \b\b\\ \b\b| \b\b/ \b\b- \b\b\\ \b\b| \b\b/ \b\b- \b\b\\ \b\b| \b\b/ \b\b- \b\b\\ \b\b| \b\b/ \b\b- \b\b\\ \b\b| \b\b/ \b\b- \b\b\\ \b\b| \b\b/ \b\b- \b\b\\ \b\b| \b\b/ \b\b- \b\b\\ \b\b| \b\b/ \b\b- \b\b\\ \b\b| \b\b/ \b\b- \b\b\\ \b\b| \b\b/ \b\b- \b\b\\ \b\b| \b\b/ \b\b- \b\b\\ \b\b| \b\b/ \b\b- \b\b\\ \b\b| \b\b/ \b\b- \b\b\\ \b\b| \b\b/ \b\b- \b\b\\ \b\b| \b\b/ \b\b- \b\b\\ \b\b| \b\b/ \b\b- \b\b\\ \b\b| \b\b/ \b\b- \b\b\\ \b\b| \b\b/ \b\b- \b\b\\ \b\b| \b\b/ \b\b- \b\b\\ \b\b| \b\b/ \b\b- \b\b\\ \b\b| \b\b/ \b\b- \b\b\\ \b\b| \b\b/ \b\b- \b\b\\ \b\b| \b\b/ \b\b- \b\b\\ \b\b| \b\b/ \b\b- \b\b\\ \b\b| \b\b/ \b\b- \b\b\\ \b\b| \b\b/ \b\b- \b\b\\ \b\b| \b\b/ \b\b- \b\b\\ \b\b| \b\b/ \b\b- \b\b\\ \b\b| \b\b/ \b\b- \b\b\\ \b\b| \b\b/ \b\b- \b\b\\ \b\b| \b\b/ \b\b- \b\b\\ \b\b| \b\b/ \b\b- \b\b\\ \b\b| \b\b/ \b\b- \b\b\\ \b\b| \b\b/ \b\b- \b\b\\ \b\b| \b\bfailed with initial frozen solve. Retrying with flexible solve.\n",
            "Solving environment: - \b\b\\ \b\b| \b\b/ \b\b- \b\b\\ \b\b| \b\b/ \b\b- \b\b\\ \b\b| \b\b/ \b\b- \b\b\\ \b\b| \b\b/ \b\b- \b\b\\ \b\b| \b\b/ \b\b- \b\b\\ \b\b| \b\b/ \b\b- \b\b\\ \b\b| \b\b/ \b\b- \b\b\\ \b\b| \b\b/ \b\b- \b\b\\ \b\b| \b\b/ \b\b- \b\b\\ \b\b| \b\b/ \b\b- \b\b\\ \b\b| \b\b/ \b\b- \b\b\\ \b\b| \b\b/ \b\b- \b\b\\ \b\b| \b\b/ \b\b- \b\bfailed with repodata from current_repodata.json, will retry with next repodata source.\n",
            "\n",
            "ResolvePackageNotFound: \n",
            "  - conda==4.9.2\n",
            "\n"
          ]
        }
      ]
    },
    {
      "cell_type": "code",
      "metadata": {
        "colab": {
          "base_uri": "https://localhost:8080/"
        },
        "id": "Q7QwrfsVkXiD",
        "outputId": "37a31f81-6380-423a-c2af-30cd7d17c104"
      },
      "source": [
        "!cd '/content/drive/MyDrive/SISR/dataset/DIV2K'\n",
        "#preprocessing\n",
        "!python '/content/drive/MyDrive/SISR/LESRCNN/dataset/div2h5.py' \n"
      ],
      "execution_count": 13,
      "outputs": [
        {
          "output_type": "stream",
          "name": "stdout",
          "text": [
            "/content/drive/MyDrive/SISR/dataset/DIV2K/DIV2K_train_HR/0001.png\n",
            "/content/drive/MyDrive/SISR/dataset/DIV2K/DIV2K_train_HR/0002.png\n",
            "/content/drive/MyDrive/SISR/dataset/DIV2K/DIV2K_train_HR/0003.png\n",
            "/content/drive/MyDrive/SISR/dataset/DIV2K/DIV2K_train_HR/0004.png\n",
            "/content/drive/MyDrive/SISR/dataset/DIV2K/DIV2K_train_HR/0005.png\n",
            "/content/drive/MyDrive/SISR/dataset/DIV2K/DIV2K_train_HR/0006.png\n",
            "/content/drive/MyDrive/SISR/dataset/DIV2K/DIV2K_train_HR/0007.png\n",
            "/content/drive/MyDrive/SISR/dataset/DIV2K/DIV2K_train_HR/0008.png\n",
            "/content/drive/MyDrive/SISR/dataset/DIV2K/DIV2K_train_HR/0009.png\n",
            "/content/drive/MyDrive/SISR/dataset/DIV2K/DIV2K_train_HR/0010.png\n",
            "/content/drive/MyDrive/SISR/dataset/DIV2K/DIV2K_train_HR/0011.png\n",
            "/content/drive/MyDrive/SISR/dataset/DIV2K/DIV2K_train_HR/0012.png\n",
            "/content/drive/MyDrive/SISR/dataset/DIV2K/DIV2K_train_HR/0013.png\n",
            "/content/drive/MyDrive/SISR/dataset/DIV2K/DIV2K_train_HR/0014.png\n",
            "/content/drive/MyDrive/SISR/dataset/DIV2K/DIV2K_train_HR/0015.png\n",
            "/content/drive/MyDrive/SISR/dataset/DIV2K/DIV2K_train_HR/0016.png\n",
            "/content/drive/MyDrive/SISR/dataset/DIV2K/DIV2K_train_HR/0017.png\n",
            "/content/drive/MyDrive/SISR/dataset/DIV2K/DIV2K_train_HR/0018.png\n",
            "/content/drive/MyDrive/SISR/dataset/DIV2K/DIV2K_train_HR/0019.png\n",
            "/content/drive/MyDrive/SISR/dataset/DIV2K/DIV2K_train_HR/0020.png\n",
            "/content/drive/MyDrive/SISR/dataset/DIV2K/DIV2K_train_HR/0021.png\n",
            "/content/drive/MyDrive/SISR/dataset/DIV2K/DIV2K_train_LR_bicubic/X2/0001x2.png\n",
            "/content/drive/MyDrive/SISR/dataset/DIV2K/DIV2K_train_LR_bicubic/X2/0002x2.png\n",
            "/content/drive/MyDrive/SISR/dataset/DIV2K/DIV2K_train_LR_bicubic/X2/0003x2.png\n",
            "/content/drive/MyDrive/SISR/dataset/DIV2K/DIV2K_train_LR_bicubic/X2/0004x2.png\n",
            "/content/drive/MyDrive/SISR/dataset/DIV2K/DIV2K_train_LR_bicubic/X2/0005x2.png\n",
            "/content/drive/MyDrive/SISR/dataset/DIV2K/DIV2K_train_LR_bicubic/X2/0006x2.png\n",
            "/content/drive/MyDrive/SISR/dataset/DIV2K/DIV2K_train_LR_bicubic/X2/0007x2.png\n",
            "/content/drive/MyDrive/SISR/dataset/DIV2K/DIV2K_train_LR_bicubic/X2/0008x2.png\n",
            "/content/drive/MyDrive/SISR/dataset/DIV2K/DIV2K_train_LR_bicubic/X2/0009x2.png\n",
            "/content/drive/MyDrive/SISR/dataset/DIV2K/DIV2K_train_LR_bicubic/X2/0010x2.png\n",
            "/content/drive/MyDrive/SISR/dataset/DIV2K/DIV2K_train_LR_bicubic/X2/0011x2.png\n",
            "/content/drive/MyDrive/SISR/dataset/DIV2K/DIV2K_train_LR_bicubic/X2/0012x2.png\n",
            "/content/drive/MyDrive/SISR/dataset/DIV2K/DIV2K_train_LR_bicubic/X2/0013x2.png\n",
            "/content/drive/MyDrive/SISR/dataset/DIV2K/DIV2K_train_LR_bicubic/X2/0014x2.png\n",
            "/content/drive/MyDrive/SISR/dataset/DIV2K/DIV2K_train_LR_bicubic/X2/0015x2.png\n",
            "/content/drive/MyDrive/SISR/dataset/DIV2K/DIV2K_train_LR_bicubic/X2/0016x2.png\n",
            "/content/drive/MyDrive/SISR/dataset/DIV2K/DIV2K_train_LR_bicubic/X2/0017x2.png\n",
            "/content/drive/MyDrive/SISR/dataset/DIV2K/DIV2K_train_LR_bicubic/X2/0018x2.png\n",
            "/content/drive/MyDrive/SISR/dataset/DIV2K/DIV2K_train_LR_bicubic/X2/0019x2.png\n",
            "/content/drive/MyDrive/SISR/dataset/DIV2K/DIV2K_train_LR_bicubic/X2/0020x2.png\n",
            "/content/drive/MyDrive/SISR/dataset/DIV2K/DIV2K_train_LR_bicubic/X2/0021x2.png\n",
            "/content/drive/MyDrive/SISR/dataset/DIV2K/DIV2K_train_LR_bicubic/X3/0001x3.png\n",
            "/content/drive/MyDrive/SISR/dataset/DIV2K/DIV2K_train_LR_bicubic/X3/0002x3.png\n",
            "/content/drive/MyDrive/SISR/dataset/DIV2K/DIV2K_train_LR_bicubic/X3/0003x3.png\n",
            "/content/drive/MyDrive/SISR/dataset/DIV2K/DIV2K_train_LR_bicubic/X3/0004x3.png\n",
            "/content/drive/MyDrive/SISR/dataset/DIV2K/DIV2K_train_LR_bicubic/X3/0005x3.png\n",
            "/content/drive/MyDrive/SISR/dataset/DIV2K/DIV2K_train_LR_bicubic/X3/0006x3.png\n",
            "/content/drive/MyDrive/SISR/dataset/DIV2K/DIV2K_train_LR_bicubic/X3/0007x3.png\n",
            "/content/drive/MyDrive/SISR/dataset/DIV2K/DIV2K_train_LR_bicubic/X3/0008x3.png\n",
            "/content/drive/MyDrive/SISR/dataset/DIV2K/DIV2K_train_LR_bicubic/X3/0009x3.png\n",
            "/content/drive/MyDrive/SISR/dataset/DIV2K/DIV2K_train_LR_bicubic/X3/0010x3.png\n",
            "/content/drive/MyDrive/SISR/dataset/DIV2K/DIV2K_train_LR_bicubic/X3/0011x3.png\n",
            "/content/drive/MyDrive/SISR/dataset/DIV2K/DIV2K_train_LR_bicubic/X3/0012x3.png\n",
            "/content/drive/MyDrive/SISR/dataset/DIV2K/DIV2K_train_LR_bicubic/X3/0013x3.png\n",
            "/content/drive/MyDrive/SISR/dataset/DIV2K/DIV2K_train_LR_bicubic/X3/0014x3.png\n",
            "/content/drive/MyDrive/SISR/dataset/DIV2K/DIV2K_train_LR_bicubic/X3/0015x3.png\n",
            "/content/drive/MyDrive/SISR/dataset/DIV2K/DIV2K_train_LR_bicubic/X3/0016x3.png\n",
            "/content/drive/MyDrive/SISR/dataset/DIV2K/DIV2K_train_LR_bicubic/X3/0017x3.png\n",
            "/content/drive/MyDrive/SISR/dataset/DIV2K/DIV2K_train_LR_bicubic/X3/0018x3.png\n",
            "/content/drive/MyDrive/SISR/dataset/DIV2K/DIV2K_train_LR_bicubic/X3/0019x3.png\n",
            "/content/drive/MyDrive/SISR/dataset/DIV2K/DIV2K_train_LR_bicubic/X3/0020x3.png\n",
            "/content/drive/MyDrive/SISR/dataset/DIV2K/DIV2K_train_LR_bicubic/X3/0021x3.png\n",
            "/content/drive/MyDrive/SISR/dataset/DIV2K/DIV2K_train_LR_bicubic/X4/0001x4.png\n",
            "/content/drive/MyDrive/SISR/dataset/DIV2K/DIV2K_train_LR_bicubic/X4/0002x4.png\n",
            "/content/drive/MyDrive/SISR/dataset/DIV2K/DIV2K_train_LR_bicubic/X4/0003x4.png\n",
            "/content/drive/MyDrive/SISR/dataset/DIV2K/DIV2K_train_LR_bicubic/X4/0004x4.png\n",
            "/content/drive/MyDrive/SISR/dataset/DIV2K/DIV2K_train_LR_bicubic/X4/0005x4.png\n",
            "/content/drive/MyDrive/SISR/dataset/DIV2K/DIV2K_train_LR_bicubic/X4/0006x4.png\n",
            "/content/drive/MyDrive/SISR/dataset/DIV2K/DIV2K_train_LR_bicubic/X4/0007x4.png\n",
            "/content/drive/MyDrive/SISR/dataset/DIV2K/DIV2K_train_LR_bicubic/X4/0008x4.png\n",
            "/content/drive/MyDrive/SISR/dataset/DIV2K/DIV2K_train_LR_bicubic/X4/0009x4.png\n",
            "/content/drive/MyDrive/SISR/dataset/DIV2K/DIV2K_train_LR_bicubic/X4/0010x4.png\n",
            "/content/drive/MyDrive/SISR/dataset/DIV2K/DIV2K_train_LR_bicubic/X4/0011x4.png\n",
            "/content/drive/MyDrive/SISR/dataset/DIV2K/DIV2K_train_LR_bicubic/X4/0012x4.png\n",
            "/content/drive/MyDrive/SISR/dataset/DIV2K/DIV2K_train_LR_bicubic/X4/0013x4.png\n",
            "/content/drive/MyDrive/SISR/dataset/DIV2K/DIV2K_train_LR_bicubic/X4/0014x4.png\n",
            "/content/drive/MyDrive/SISR/dataset/DIV2K/DIV2K_train_LR_bicubic/X4/0015x4.png\n",
            "/content/drive/MyDrive/SISR/dataset/DIV2K/DIV2K_train_LR_bicubic/X4/0016x4.png\n",
            "/content/drive/MyDrive/SISR/dataset/DIV2K/DIV2K_train_LR_bicubic/X4/0017x4.png\n",
            "/content/drive/MyDrive/SISR/dataset/DIV2K/DIV2K_train_LR_bicubic/X4/0018x4.png\n",
            "/content/drive/MyDrive/SISR/dataset/DIV2K/DIV2K_train_LR_bicubic/X4/0019x4.png\n",
            "/content/drive/MyDrive/SISR/dataset/DIV2K/DIV2K_train_LR_bicubic/X4/0020x4.png\n",
            "/content/drive/MyDrive/SISR/dataset/DIV2K/DIV2K_train_LR_bicubic/X4/0021x4.png\n"
          ]
        }
      ]
    },
    {
      "cell_type": "code",
      "metadata": {
        "colab": {
          "base_uri": "https://localhost:8080/"
        },
        "id": "i144uY4Atbtl",
        "outputId": "325f74db-50bb-476b-c704-a805de170989"
      },
      "source": [
        "!pip install opencv-python"
      ],
      "execution_count": 14,
      "outputs": [
        {
          "output_type": "stream",
          "name": "stdout",
          "text": [
            "Collecting opencv-python\n",
            "  Downloading opencv_python-4.5.3.56-cp37-cp37m-manylinux2014_x86_64.whl (49.9 MB)\n",
            "\u001b[K     |████████████████████████████████| 49.9 MB 38 kB/s \n",
            "\u001b[?25hRequirement already satisfied: numpy>=1.14.5 in /usr/local/lib/python3.7/site-packages (from opencv-python) (1.20.3)\n",
            "Installing collected packages: opencv-python\n",
            "Successfully installed opencv-python-4.5.3.56\n"
          ]
        }
      ]
    },
    {
      "cell_type": "code",
      "metadata": {
        "id": "E42ea75NtfpZ"
      },
      "source": [
        "import cv2"
      ],
      "execution_count": 15,
      "outputs": []
    },
    {
      "cell_type": "code",
      "metadata": {
        "colab": {
          "base_uri": "https://localhost:8080/"
        },
        "id": "rs4TDu0dfo8_",
        "outputId": "e97e9228-a021-4b46-8cdd-df61dbc126a2"
      },
      "source": [
        "!python '/content/drive/MyDrive/SISR/LESRCNN/x2/train.py' --patch_size 64 --batch_size 1 --max_steps 3000 --decay 1000 --model lesrcnn --ckpt_name lesrcnn_x2 --ckpt_dir '/content/drive/MyDrive/SISR/LESRCNN/checkpoint' --scale 2 --num_gpu 1"
      ],
      "execution_count": 23,
      "outputs": [
        {
          "output_type": "stream",
          "name": "stdout",
          "text": [
            "{\n",
            "    \"batch_size\": 1,\n",
            "    \"ckpt_dir\": \"/content/drive/MyDrive/SISR/LESRCNN/checkpoint\",\n",
            "    \"ckpt_name\": \"lesrcnn_x2\",\n",
            "    \"clip\": 10.0,\n",
            "    \"decay\": 1000,\n",
            "    \"group\": 1,\n",
            "    \"loss_fn\": \"MSE\",\n",
            "    \"lr\": 0.0001,\n",
            "    \"max_steps\": 3000,\n",
            "    \"model\": \"lesrcnn\",\n",
            "    \"num_gpu\": 1,\n",
            "    \"patch_size\": 64,\n",
            "    \"print_interval\": 1000,\n",
            "    \"sample_dir\": \"/content/drive/MyDrive/SISR/LESRCNN/sample/\",\n",
            "    \"scale\": 2,\n",
            "    \"shave\": 20,\n",
            "    \"train_data_path\": \"/content/drive/MyDrive/SISR/LESRCNN/DIV2K_train.h5\",\n",
            "    \"verbose\": \"store_true\"\n",
            "}\n",
            "# of params: 626328\n",
            "ds\n",
            "THCudaCheck FAIL file=/opt/conda/conda-bld/pytorch_1535493744281/work/aten/src/THC/THCGeneral.cpp line=663 error=11 : invalid argument\n",
            "/content/drive/.shortcut-targets-by-id/1BKwPP2ZywCKYF3dJLVL_sxW9waxXkACw/SISR/LESRCNN/x2/solver.py:92: UserWarning: torch.nn.utils.clip_grad_norm is now deprecated in favor of torch.nn.utils.clip_grad_norm_.\n",
            "  nn.utils.clip_grad_norm(self.refiner.parameters(), cfg.clip) #tcw it is drop out, which can prevent overfitting.\n",
            "epochs is 1000, mean_psnr is 0.000000, mean_ssim is 0.000000\n",
            "epochs is 2000, mean_psnr is 0.000000, mean_ssim is 0.000000\n",
            "epochs is 3000, mean_psnr is 0.000000, mean_ssim is 0.000000\n",
            "sdsddwdew\n"
          ]
        }
      ]
    }
  ]
}