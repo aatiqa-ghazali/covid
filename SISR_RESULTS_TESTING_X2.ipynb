{
  "nbformat": 4,
  "nbformat_minor": 0,
  "metadata": {
    "colab": {
      "name": "Copy of Untitled2.ipynb",
      "provenance": [],
      "collapsed_sections": [],
      "machine_shape": "hm",
      "mount_file_id": "1GP6GoDAQVFZ7BsrCOhk1v9B8ueSvfkeb",
      "authorship_tag": "ABX9TyPxkJo3txF+y3jSnbBtlIZR",
      "include_colab_link": true
    },
    "kernelspec": {
      "name": "python3",
      "display_name": "Python 3"
    },
    "language_info": {
      "name": "python"
    },
    "accelerator": "GPU"
  },
  "cells": [
    {
      "cell_type": "markdown",
      "metadata": {
        "id": "view-in-github",
        "colab_type": "text"
      },
      "source": [
        "<a href=\"https://colab.research.google.com/github/aatiqa-ghazali/covid/blob/main/SISR_RESULTS_TESTING_X2.ipynb\" target=\"_parent\"><img src=\"https://colab.research.google.com/assets/colab-badge.svg\" alt=\"Open In Colab\"/></a>"
      ]
    },
    {
      "cell_type": "code",
      "metadata": {
        "colab": {
          "base_uri": "https://localhost:8080/"
        },
        "id": "I0GqBXBzYAgu",
        "outputId": "8f9d0b56-c953-4c9e-fbc6-cedefe8f031a"
      },
      "source": [
        "#mounting_drive\n",
        "from google.colab import drive\n",
        "drive.mount('/content/drive')"
      ],
      "execution_count": 7,
      "outputs": [
        {
          "output_type": "stream",
          "name": "stdout",
          "text": [
            "Drive already mounted at /content/drive; to attempt to forcibly remount, call drive.mount(\"/content/drive\", force_remount=True).\n"
          ]
        }
      ]
    },
    {
      "cell_type": "code",
      "metadata": {
        "colab": {
          "base_uri": "https://localhost:8080/"
        },
        "id": "Wr4nkCHhaUTK",
        "outputId": "78909d66-9ee4-4635-e92c-ae62961a3b47"
      },
      "source": [
        "!pip install -q condacolab\n",
        "import condacolab\n",
        "condacolab.install()"
      ],
      "execution_count": 2,
      "outputs": [
        {
          "output_type": "stream",
          "name": "stdout",
          "text": [
            "⏬ Downloading https://github.com/jaimergp/miniforge/releases/latest/download/Mambaforge-colab-Linux-x86_64.sh...\n",
            "📦 Installing...\n",
            "📌 Adjusting configuration...\n",
            "🩹 Patching environment...\n",
            "⏲ Done in 0:00:26\n",
            "🔁 Restarting kernel...\n"
          ]
        }
      ]
    },
    {
      "cell_type": "code",
      "metadata": {
        "colab": {
          "base_uri": "https://localhost:8080/"
        },
        "id": "uyMmOzD3Ew3r",
        "outputId": "db123bef-74da-4682-caa9-4f3275abf449"
      },
      "source": [
        "# Check the version of CUDA on the system\n",
        "!cat /usr/local/cuda/version.txt"
      ],
      "execution_count": 26,
      "outputs": [
        {
          "output_type": "stream",
          "name": "stdout",
          "text": [
            "CUDA Version 11.0.228\n"
          ]
        }
      ]
    },
    {
      "cell_type": "code",
      "metadata": {
        "colab": {
          "base_uri": "https://localhost:8080/"
        },
        "id": "aL7VUgva4Ci-",
        "outputId": "52051a39-133c-4291-e26c-127730c3275b"
      },
      "source": [
        "import torch\n",
        "torch.cuda.is_available()"
      ],
      "execution_count": 28,
      "outputs": [
        {
          "output_type": "execute_result",
          "data": {
            "text/plain": [
              "True"
            ]
          },
          "metadata": {},
          "execution_count": 28
        }
      ]
    },
    {
      "cell_type": "code",
      "metadata": {
        "colab": {
          "base_uri": "https://localhost:8080/"
        },
        "id": "Ad0v3Z_ha-w0",
        "outputId": "28ab42b6-3178-4ae2-991f-572bb748a1ee"
      },
      "source": [
        "#install_pytorch_0.4.1\n",
        "#use_pytorch_1_with_this_cuda_version\n",
        "\n",
        "!conda install pytorch=0.1 -c pytorch\n"
      ],
      "execution_count": 35,
      "outputs": [
        {
          "output_type": "stream",
          "name": "stdout",
          "text": [
            "Collecting package metadata (current_repodata.json): - \b\b\\ \b\b| \b\b/ \b\b- \b\b\\ \b\b| \b\b/ \b\b- \b\b\\ \b\b| \b\b/ \b\b- \b\b\\ \b\b| \b\b/ \b\b- \b\b\\ \b\b| \b\b/ \b\bdone\n",
            "Solving environment: \\ \b\bfailed with initial frozen solve. Retrying with flexible solve.\n",
            "Collecting package metadata (repodata.json): / \b\b- \b\b\\ \b\b| \b\b/ \b\b- \b\b\\ \b\b| \b\b/ \b\b- \b\b\\ \b\b| \b\b/ \b\b- \b\b\\ \b\b| \b\b/ \b\b- \b\b\\ \b\b| \b\b/ \b\b- \b\b\\ \b\b| \b\b/ \b\b- \b\b\\ \b\b| \b\b/ \b\b- \b\b\\ \b\b| \b\b/ \b\b- \b\b\\ \b\b| \b\b/ \b\b- \b\b\\ \b\b| \b\b/ \b\b- \b\b\\ \b\b| \b\b/ \b\b- \b\b\\ \b\b| \b\b/ \b\b- \b\b\\ \b\b| \b\b/ \b\b- \b\b\\ \b\b| \b\b/ \b\b- \b\b\\ \b\b| \b\b/ \b\b- \b\b\\ \b\b| \b\b/ \b\b- \b\b\\ \b\b| \b\b/ \b\b- \b\b\\ \b\b| \b\b/ \b\b- \b\b\\ \b\b| \b\b/ \b\b- \b\b\\ \b\b| \b\b/ \b\b- \b\b\\ \b\b| \b\b/ \b\b- \b\b\\ \b\b| \b\b/ \b\b- \b\b\\ \b\b| \b\b/ \b\b- \b\b\\ \b\b| \b\b/ \b\b- \b\b\\ \b\b| \b\b/ \b\b- \b\b\\ \b\b| \b\b/ \b\b- \b\b\\ \b\b| \b\b/ \b\b- \b\b\\ \b\b| \b\b/ \b\b- \b\b\\ \b\b| \b\b/ \b\b- \b\b\\ \b\b| \b\b/ \b\b- \b\b\\ \b\b| \b\b/ \b\b- \b\b\\ \b\b| \b\b/ \b\b- \b\b\\ \b\b| \b\b/ \b\b- \b\b\\ \b\b| \b\b/ \b\b- \b\b\\ \b\b| \b\b/ \b\b- \b\b\\ \b\b| \b\b/ \b\b- \b\b\\ \b\b| \b\b/ \b\b- \b\b\\ \b\b| \b\b/ \b\b- \b\b\\ \b\b| \b\b/ \b\b- \b\b\\ \b\b| \b\b/ \b\b- \b\b\\ \b\b| \b\b/ \b\b- \b\b\\ \b\b| \b\b/ \b\b- \b\b\\ \b\b| \b\b/ \b\b- \b\b\\ \b\b| \b\b/ \b\b- \b\b\\ \b\b| \b\b/ \b\b- \b\b\\ \b\b| \b\b/ \b\b- \b\b\\ \b\b| \b\b/ \b\b- \b\b\\ \b\b| \b\b/ \b\b- \b\b\\ \b\b| \b\b/ \b\b- \b\b\\ \b\b| \b\b/ \b\b- \b\b\\ \b\b| \b\b/ \b\b- \b\b\\ \b\b| \b\b/ \b\b- \b\b\\ \b\b| \b\b/ \b\b- \b\b\\ \b\b| \b\b/ \b\b- \b\b\\ \b\b| \b\b/ \b\b- \b\b\\ \b\b| \b\b/ \b\b- \b\b\\ \b\b| \b\b/ \b\b- \b\b\\ \b\b| \b\b/ \b\b- \b\b\\ \b\b| \b\b/ \b\b- \b\b\\ \b\b| \b\b/ \b\b- \b\b\\ \b\b| \b\b/ \b\b- \b\b\\ \b\b| \b\bdone\n",
            "Solving environment: - \b\bfailed with initial frozen solve. Retrying with flexible solve.\n",
            "\n",
            "PackagesNotFoundError: The following packages are not available from current channels:\n",
            "\n",
            "  - pytorch=0.1\n",
            "\n",
            "Current channels:\n",
            "\n",
            "  - https://conda.anaconda.org/pytorch/linux-64\n",
            "  - https://conda.anaconda.org/pytorch/noarch\n",
            "  - https://conda.anaconda.org/conda-forge/linux-64\n",
            "  - https://conda.anaconda.org/conda-forge/noarch\n",
            "\n",
            "To search for alternate channels that may provide the conda package you're\n",
            "looking for, navigate to\n",
            "\n",
            "    https://anaconda.org\n",
            "\n",
            "and use the search bar at the top of the page.\n",
            "\n",
            "\n"
          ]
        }
      ]
    },
    {
      "cell_type": "code",
      "metadata": {
        "colab": {
          "base_uri": "https://localhost:8080/"
        },
        "id": "BC7ESTr9lMiP",
        "outputId": "68842637-b4b7-405e-8c3d-b76d7c288484"
      },
      "source": [
        "# Install the python version\n",
        "!apt-get install python2.7"
      ],
      "execution_count": 1,
      "outputs": [
        {
          "output_type": "stream",
          "name": "stdout",
          "text": [
            "Reading package lists... Done\n",
            "Building dependency tree       \n",
            "Reading state information... Done\n",
            "python2.7 is already the newest version (2.7.17-1~18.04ubuntu1.6).\n",
            "0 upgraded, 0 newly installed, 0 to remove and 40 not upgraded.\n"
          ]
        }
      ]
    },
    {
      "cell_type": "code",
      "metadata": {
        "colab": {
          "base_uri": "https://localhost:8080/"
        },
        "id": "en-PcpMlbuA8",
        "outputId": "fdb21e02-67ff-4894-d3ec-b9f2bd645250"
      },
      "source": [
        "#install_torchvision\n",
        "!conda install torchvision -c pytorch\n"
      ],
      "execution_count": 36,
      "outputs": [
        {
          "output_type": "stream",
          "name": "stdout",
          "text": [
            "Collecting package metadata (current_repodata.json): - \b\b\\ \b\b| \b\b/ \b\b- \b\b\\ \b\b| \b\b/ \b\b- \b\b\\ \b\b| \b\b/ \b\b- \b\b\\ \b\b| \b\b/ \b\b- \b\b\\ \b\bdone\n",
            "Solving environment: / \b\b- \b\b\\ \b\b| \b\b/ \b\b- \b\b\\ \b\b| \b\b/ \b\b- \b\b\\ \b\b| \b\b/ \b\b- \b\b\\ \b\b| \b\b/ \b\b- \b\b\\ \b\b| \b\b/ \b\b- \b\b\\ \b\b| \b\b/ \b\b- \b\b\\ \b\b| \b\b/ \b\b- \b\b\\ \b\b| \b\bdone\n",
            "\n",
            "# All requested packages already installed.\n",
            "\n"
          ]
        }
      ]
    },
    {
      "cell_type": "code",
      "metadata": {
        "colab": {
          "base_uri": "https://localhost:8080/"
        },
        "id": "OlJLUL9Hlg0s",
        "outputId": "6858f6a6-ce79-4f29-e9f1-28fcedd54897"
      },
      "source": [
        "!conda install scikit-image"
      ],
      "execution_count": 3,
      "outputs": [
        {
          "output_type": "stream",
          "name": "stdout",
          "text": [
            "Collecting package metadata (current_repodata.json): - \b\b\\ \b\b| \b\b/ \b\b- \b\b\\ \b\b| \b\b/ \b\b- \b\b\\ \b\b| \b\b/ \b\b- \b\bdone\n",
            "Solving environment: | \b\b/ \b\b- \b\b\\ \b\b| \b\b/ \b\b- \b\b\\ \b\b| \b\b/ \b\b- \b\b\\ \b\b| \b\b/ \b\b- \b\b\\ \b\b| \b\b/ \b\b- \b\b\\ \b\b| \b\b/ \b\b- \b\b\\ \b\b| \b\b/ \b\bdone\n",
            "\n",
            "# All requested packages already installed.\n",
            "\n"
          ]
        }
      ]
    },
    {
      "cell_type": "code",
      "metadata": {
        "id": "uY2p2fdrmLdu",
        "colab": {
          "base_uri": "https://localhost:8080/",
          "height": 485
        },
        "outputId": "7704376f-f2a2-4259-ba42-bce903548a6d"
      },
      "source": [
        "from skimage import data, io, filters\n"
      ],
      "execution_count": 9,
      "outputs": [
        {
          "output_type": "error",
          "ename": "ImportError",
          "evalue": "ignored",
          "traceback": [
            "\u001b[0;31m---------------------------------------------------------------------------\u001b[0m",
            "\u001b[0;31mImportError\u001b[0m                               Traceback (most recent call last)",
            "\u001b[0;32m<ipython-input-9-84c85729544a>\u001b[0m in \u001b[0;36m<module>\u001b[0;34m()\u001b[0m\n\u001b[0;32m----> 1\u001b[0;31m \u001b[0;32mfrom\u001b[0m \u001b[0mskimage\u001b[0m \u001b[0;32mimport\u001b[0m \u001b[0mdata\u001b[0m\u001b[0;34m,\u001b[0m \u001b[0mio\u001b[0m\u001b[0;34m,\u001b[0m \u001b[0mfilters\u001b[0m\u001b[0;34m\u001b[0m\u001b[0;34m\u001b[0m\u001b[0m\n\u001b[0m",
            "\u001b[0;32m/usr/local/lib/python3.7/site-packages/skimage/filters/__init__.py\u001b[0m in \u001b[0;36m<module>\u001b[0;34m()\u001b[0m\n\u001b[1;32m      2\u001b[0m from ._gaussian import (gaussian, _guess_spatial_dimensions,\n\u001b[1;32m      3\u001b[0m                         difference_of_gaussians)\n\u001b[0;32m----> 4\u001b[0;31m from .edges import (sobel, sobel_h, sobel_v,\n\u001b[0m\u001b[1;32m      5\u001b[0m                     \u001b[0mscharr\u001b[0m\u001b[0;34m,\u001b[0m \u001b[0mscharr_h\u001b[0m\u001b[0;34m,\u001b[0m \u001b[0mscharr_v\u001b[0m\u001b[0;34m,\u001b[0m\u001b[0;34m\u001b[0m\u001b[0;34m\u001b[0m\u001b[0m\n\u001b[1;32m      6\u001b[0m                     \u001b[0mprewitt\u001b[0m\u001b[0;34m,\u001b[0m \u001b[0mprewitt_h\u001b[0m\u001b[0;34m,\u001b[0m \u001b[0mprewitt_v\u001b[0m\u001b[0;34m,\u001b[0m\u001b[0;34m\u001b[0m\u001b[0;34m\u001b[0m\u001b[0m\n",
            "\u001b[0;32m/usr/local/lib/python3.7/site-packages/skimage/filters/edges.py\u001b[0m in \u001b[0;36m<module>\u001b[0;34m()\u001b[0m\n\u001b[1;32m     16\u001b[0m \u001b[0;32mfrom\u001b[0m \u001b[0mscipy\u001b[0m\u001b[0;34m.\u001b[0m\u001b[0mndimage\u001b[0m \u001b[0;32mimport\u001b[0m \u001b[0mconvolve\u001b[0m\u001b[0;34m,\u001b[0m \u001b[0mbinary_erosion\u001b[0m\u001b[0;34m\u001b[0m\u001b[0;34m\u001b[0m\u001b[0m\n\u001b[1;32m     17\u001b[0m \u001b[0;34m\u001b[0m\u001b[0m\n\u001b[0;32m---> 18\u001b[0;31m \u001b[0;32mfrom\u001b[0m \u001b[0;34m.\u001b[0m\u001b[0;34m.\u001b[0m\u001b[0mrestoration\u001b[0m\u001b[0;34m.\u001b[0m\u001b[0muft\u001b[0m \u001b[0;32mimport\u001b[0m \u001b[0mlaplacian\u001b[0m\u001b[0;34m\u001b[0m\u001b[0;34m\u001b[0m\u001b[0m\n\u001b[0m\u001b[1;32m     19\u001b[0m \u001b[0;34m\u001b[0m\u001b[0m\n\u001b[1;32m     20\u001b[0m \u001b[0;31m# n-dimensional filter weights\u001b[0m\u001b[0;34m\u001b[0m\u001b[0;34m\u001b[0m\u001b[0;34m\u001b[0m\u001b[0m\n",
            "\u001b[0;32m/usr/local/lib/python3.7/site-packages/skimage/restoration/__init__.py\u001b[0m in \u001b[0;36m<module>\u001b[0;34m()\u001b[0m\n\u001b[1;32m      3\u001b[0m \"\"\"\n\u001b[1;32m      4\u001b[0m \u001b[0;34m\u001b[0m\u001b[0m\n\u001b[0;32m----> 5\u001b[0;31m \u001b[0;32mfrom\u001b[0m \u001b[0;34m.\u001b[0m\u001b[0mdeconvolution\u001b[0m \u001b[0;32mimport\u001b[0m \u001b[0mwiener\u001b[0m\u001b[0;34m,\u001b[0m \u001b[0munsupervised_wiener\u001b[0m\u001b[0;34m,\u001b[0m \u001b[0mrichardson_lucy\u001b[0m\u001b[0;34m\u001b[0m\u001b[0;34m\u001b[0m\u001b[0m\n\u001b[0m\u001b[1;32m      6\u001b[0m \u001b[0;32mfrom\u001b[0m \u001b[0;34m.\u001b[0m\u001b[0munwrap\u001b[0m \u001b[0;32mimport\u001b[0m \u001b[0munwrap_phase\u001b[0m\u001b[0;34m\u001b[0m\u001b[0;34m\u001b[0m\u001b[0m\n\u001b[1;32m      7\u001b[0m from ._denoise import (denoise_tv_chambolle, denoise_tv_bregman,\n",
            "\u001b[0;32m/usr/local/lib/python3.7/site-packages/skimage/restoration/deconvolution.py\u001b[0m in \u001b[0;36m<module>\u001b[0;34m()\u001b[0m\n\u001b[1;32m      4\u001b[0m \u001b[0;32mimport\u001b[0m \u001b[0mnumpy\u001b[0m \u001b[0;32mas\u001b[0m \u001b[0mnp\u001b[0m\u001b[0;34m\u001b[0m\u001b[0;34m\u001b[0m\u001b[0m\n\u001b[1;32m      5\u001b[0m \u001b[0;32mimport\u001b[0m \u001b[0mnumpy\u001b[0m\u001b[0;34m.\u001b[0m\u001b[0mrandom\u001b[0m \u001b[0;32mas\u001b[0m \u001b[0mnpr\u001b[0m\u001b[0;34m\u001b[0m\u001b[0;34m\u001b[0m\u001b[0m\n\u001b[0;32m----> 6\u001b[0;31m \u001b[0;32mfrom\u001b[0m \u001b[0mscipy\u001b[0m\u001b[0;34m.\u001b[0m\u001b[0msignal\u001b[0m \u001b[0;32mimport\u001b[0m \u001b[0mconvolve\u001b[0m\u001b[0;34m\u001b[0m\u001b[0;34m\u001b[0m\u001b[0m\n\u001b[0m\u001b[1;32m      7\u001b[0m \u001b[0;34m\u001b[0m\u001b[0m\n\u001b[1;32m      8\u001b[0m \u001b[0;32mfrom\u001b[0m \u001b[0;34m.\u001b[0m \u001b[0;32mimport\u001b[0m \u001b[0muft\u001b[0m\u001b[0;34m\u001b[0m\u001b[0;34m\u001b[0m\u001b[0m\n",
            "\u001b[0;32m/usr/local/lib/python3.7/site-packages/scipy/signal/__init__.py\u001b[0m in \u001b[0;36m<module>\u001b[0;34m()\u001b[0m\n\u001b[1;32m    292\u001b[0m \u001b[0;32mfrom\u001b[0m \u001b[0;34m.\u001b[0m \u001b[0;32mimport\u001b[0m \u001b[0msigtools\u001b[0m\u001b[0;34m,\u001b[0m \u001b[0mwindows\u001b[0m\u001b[0;34m\u001b[0m\u001b[0;34m\u001b[0m\u001b[0m\n\u001b[1;32m    293\u001b[0m \u001b[0;32mfrom\u001b[0m \u001b[0;34m.\u001b[0m\u001b[0mwaveforms\u001b[0m \u001b[0;32mimport\u001b[0m \u001b[0;34m*\u001b[0m\u001b[0;34m\u001b[0m\u001b[0;34m\u001b[0m\u001b[0m\n\u001b[0;32m--> 294\u001b[0;31m \u001b[0;32mfrom\u001b[0m \u001b[0;34m.\u001b[0m\u001b[0m_max_len_seq\u001b[0m \u001b[0;32mimport\u001b[0m \u001b[0mmax_len_seq\u001b[0m\u001b[0;34m\u001b[0m\u001b[0;34m\u001b[0m\u001b[0m\n\u001b[0m\u001b[1;32m    295\u001b[0m \u001b[0;32mfrom\u001b[0m \u001b[0;34m.\u001b[0m\u001b[0m_upfirdn\u001b[0m \u001b[0;32mimport\u001b[0m \u001b[0mupfirdn\u001b[0m\u001b[0;34m\u001b[0m\u001b[0;34m\u001b[0m\u001b[0m\n\u001b[1;32m    296\u001b[0m \u001b[0;34m\u001b[0m\u001b[0m\n",
            "\u001b[0;32m/usr/local/lib/python3.7/site-packages/scipy/signal/_max_len_seq.py\u001b[0m in \u001b[0;36m<module>\u001b[0;34m()\u001b[0m\n\u001b[1;32m      6\u001b[0m \u001b[0;32mimport\u001b[0m \u001b[0mnumpy\u001b[0m \u001b[0;32mas\u001b[0m \u001b[0mnp\u001b[0m\u001b[0;34m\u001b[0m\u001b[0;34m\u001b[0m\u001b[0m\n\u001b[1;32m      7\u001b[0m \u001b[0;34m\u001b[0m\u001b[0m\n\u001b[0;32m----> 8\u001b[0;31m \u001b[0;32mfrom\u001b[0m \u001b[0;34m.\u001b[0m\u001b[0m_max_len_seq_inner\u001b[0m \u001b[0;32mimport\u001b[0m \u001b[0m_max_len_seq_inner\u001b[0m\u001b[0;34m\u001b[0m\u001b[0;34m\u001b[0m\u001b[0m\n\u001b[0m\u001b[1;32m      9\u001b[0m \u001b[0;34m\u001b[0m\u001b[0m\n\u001b[1;32m     10\u001b[0m \u001b[0m__all__\u001b[0m \u001b[0;34m=\u001b[0m \u001b[0;34m[\u001b[0m\u001b[0;34m'max_len_seq'\u001b[0m\u001b[0;34m]\u001b[0m\u001b[0;34m\u001b[0m\u001b[0;34m\u001b[0m\u001b[0m\n",
            "\u001b[0;31mImportError\u001b[0m: /usr/lib/x86_64-linux-gnu/libstdc++.so.6: version `GLIBCXX_3.4.26' not found (required by /usr/local/lib/python3.7/site-packages/scipy/signal/_max_len_seq_inner.cpython-37m-x86_64-linux-gnu.so)",
            "",
            "\u001b[0;31m---------------------------------------------------------------------------\u001b[0;32m\nNOTE: If your import is failing due to a missing package, you can\nmanually install dependencies using either !pip or !apt.\n\nTo view examples of installing some common dependencies, click the\n\"Open Examples\" button below.\n\u001b[0;31m---------------------------------------------------------------------------\u001b[0m\n"
          ],
          "errorDetails": {
            "actions": [
              {
                "action": "open_url",
                "actionText": "Open Examples",
                "url": "/notebooks/snippets/importing_libraries.ipynb"
              }
            ]
          }
        }
      ]
    },
    {
      "cell_type": "code",
      "metadata": {
        "colab": {
          "base_uri": "https://localhost:8080/"
        },
        "id": "SyDKMKXBmOoN",
        "outputId": "16ef8a01-9965-47a3-ba5d-dba53143acfe"
      },
      "source": [
        "!conda install pillow\n",
        "!conda install hdf5\n",
        "!conda install scipy\n"
      ],
      "execution_count": 4,
      "outputs": [
        {
          "output_type": "stream",
          "name": "stdout",
          "text": [
            "Collecting package metadata (current_repodata.json): - \b\b\\ \b\b| \b\b/ \b\b- \b\b\\ \b\b| \b\b/ \b\b- \b\b\\ \b\b| \b\b/ \b\b- \b\bdone\n",
            "Solving environment: | \b\b/ \b\b- \b\b\\ \b\b| \b\b/ \b\b- \b\b\\ \b\b| \b\b/ \b\b- \b\b\\ \b\b| \b\b/ \b\b- \b\b\\ \b\b| \b\b/ \b\bdone\n",
            "\n",
            "# All requested packages already installed.\n",
            "\n",
            "Collecting package metadata (current_repodata.json): - \b\b\\ \b\b| \b\b/ \b\b- \b\b\\ \b\b| \b\b/ \b\b- \b\b\\ \b\b| \b\b/ \b\b- \b\b\\ \b\bdone\n",
            "Solving environment: / \b\b- \b\b\\ \b\b| \b\b/ \b\b- \b\b\\ \b\b| \b\b/ \b\b- \b\b\\ \b\b| \b\b/ \b\b- \b\b\\ \b\b| \b\b/ \b\b- \b\b\\ \b\b| \b\b/ \b\b- \b\b\\ \b\b| \b\b/ \b\b- \b\b\\ \b\b| \b\b/ \b\b- \b\b\\ \b\b| \b\b/ \b\b- \b\b\\ \b\b| \b\b/ \b\b- \b\bdone\n",
            "\n",
            "## Package Plan ##\n",
            "\n",
            "  environment location: /usr/local\n",
            "\n",
            "  added / updated specs:\n",
            "    - hdf5\n",
            "\n",
            "\n",
            "The following packages will be downloaded:\n",
            "\n",
            "    package                    |            build\n",
            "    ---------------------------|-----------------\n",
            "    hdf5-1.10.6                |nompi_h6a2412b_1114         3.1 MB  conda-forge\n",
            "    ------------------------------------------------------------\n",
            "                                           Total:         3.1 MB\n",
            "\n",
            "The following NEW packages will be INSTALLED:\n",
            "\n",
            "  hdf5               conda-forge/linux-64::hdf5-1.10.6-nompi_h6a2412b_1114\n",
            "\n",
            "\n",
            "\n",
            "Downloading and Extracting Packages\n",
            "hdf5-1.10.6          | 3.1 MB    | : 100% 1.0/1 [00:00<00:00,  1.55it/s]               \n",
            "Preparing transaction: | \b\bdone\n",
            "Verifying transaction: - \b\bdone\n",
            "Executing transaction: | \b\bdone\n",
            "Collecting package metadata (current_repodata.json): - \b\b\\ \b\b| \b\b/ \b\b- \b\b\\ \b\b| \b\b/ \b\b- \b\b\\ \b\b| \b\b/ \b\b- \b\b\\ \b\bdone\n",
            "Solving environment: / \b\b- \b\b\\ \b\b| \b\b/ \b\b- \b\b\\ \b\b| \b\b/ \b\b- \b\b\\ \b\b| \b\b/ \b\b- \b\b\\ \b\b| \b\b/ \b\b- \b\b\\ \b\b| \b\b/ \b\b- \b\bdone\n",
            "\n",
            "# All requested packages already installed.\n",
            "\n"
          ]
        }
      ]
    },
    {
      "cell_type": "code",
      "metadata": {
        "id": "lQM7jfhMenBs"
      },
      "source": [
        "import cv2\n",
        "import os\n",
        "import h5py\n",
        "import numpy as np\n",
        "import scipy\n",
        "from PIL import Image\n",
        "import importlib\n",
        "import skimage\n",
        "import scipy.misc\n"
      ],
      "execution_count": 5,
      "outputs": []
    },
    {
      "cell_type": "code",
      "metadata": {
        "colab": {
          "base_uri": "https://localhost:8080/"
        },
        "id": "P-CEY_7zkOFA",
        "outputId": "bc3717fa-e3b3-41c0-abcb-c4bd6dde2203"
      },
      "source": [
        "!conda install -c conda-forge tensorboardx\n",
        "!conda install -c conda-forge protobuf\n",
        "\n"
      ],
      "execution_count": 6,
      "outputs": [
        {
          "output_type": "stream",
          "name": "stdout",
          "text": [
            "Collecting package metadata (current_repodata.json): - \b\b\\ \b\b| \b\b/ \b\b- \b\b\\ \b\b| \b\b/ \b\b- \b\b\\ \b\b| \b\b/ \b\b- \b\bdone\n",
            "Solving environment: | \b\b/ \b\b- \b\b\\ \b\b| \b\b/ \b\b- \b\b\\ \b\b| \b\b/ \b\b- \b\b\\ \b\b| \b\b/ \b\b- \b\b\\ \b\b| \b\b/ \b\b- \b\b\\ \b\b| \b\b/ \b\bdone\n",
            "\n",
            "## Package Plan ##\n",
            "\n",
            "  environment location: /usr/local\n",
            "\n",
            "  added / updated specs:\n",
            "    - tensorboardx\n",
            "\n",
            "\n",
            "The following packages will be downloaded:\n",
            "\n",
            "    package                    |            build\n",
            "    ---------------------------|-----------------\n",
            "    libprotobuf-3.17.2         |       h780b84a_1         2.5 MB  conda-forge\n",
            "    protobuf-3.17.2            |   py37hcd2ae1e_0         347 KB  conda-forge\n",
            "    tensorboardx-2.4           |     pyhd8ed1ab_0          83 KB  conda-forge\n",
            "    ------------------------------------------------------------\n",
            "                                           Total:         2.9 MB\n",
            "\n",
            "The following NEW packages will be INSTALLED:\n",
            "\n",
            "  libprotobuf        conda-forge/linux-64::libprotobuf-3.17.2-h780b84a_1\n",
            "  protobuf           conda-forge/linux-64::protobuf-3.17.2-py37hcd2ae1e_0\n",
            "  tensorboardx       conda-forge/noarch::tensorboardx-2.4-pyhd8ed1ab_0\n",
            "\n",
            "\n",
            "\n",
            "Downloading and Extracting Packages\n",
            "protobuf-3.17.2      | 347 KB    | : 100% 1.0/1 [00:00<00:00,  3.85it/s]\n",
            "libprotobuf-3.17.2   | 2.5 MB    | : 100% 1.0/1 [00:00<00:00,  2.01it/s]               \n",
            "tensorboardx-2.4     | 83 KB     | : 100% 1.0/1 [00:00<00:00, 10.94it/s]\n",
            "Preparing transaction: \\ \b\bdone\n",
            "Verifying transaction: / \b\bdone\n",
            "Executing transaction: \\ \b\b| \b\b/ \b\b- \b\b\\ \b\b| \b\bdone\n",
            "Collecting package metadata (current_repodata.json): - \b\b\\ \b\b| \b\b/ \b\b- \b\b\\ \b\b| \b\b/ \b\b- \b\b\\ \b\b| \b\bdone\n",
            "Solving environment: - \b\b\\ \b\b| \b\b/ \b\b- \b\b\\ \b\b| \b\b/ \b\b- \b\b\\ \b\b| \b\b/ \b\b- \b\b\\ \b\b| \b\b/ \b\b- \b\b\\ \b\b| \b\b/ \b\bdone\n",
            "\n",
            "# All requested packages already installed.\n",
            "\n"
          ]
        }
      ]
    },
    {
      "cell_type": "code",
      "metadata": {
        "colab": {
          "base_uri": "https://localhost:8080/"
        },
        "id": "ZfV530y2rjEp",
        "outputId": "1e6a896f-a11b-4c92-ab67-5e8f718be561"
      },
      "source": [
        "!conda install h5py\n",
        "!conda install cython"
      ],
      "execution_count": 8,
      "outputs": [
        {
          "output_type": "stream",
          "name": "stdout",
          "text": [
            "Collecting package metadata (current_repodata.json): - \b\b\\ \b\b| \b\b/ \b\b- \b\b\\ \b\b| \b\b/ \b\b- \b\b\\ \b\b| \b\b/ \b\b- \b\b\\ \b\bdone\n",
            "Solving environment: / \b\b- \b\b\\ \b\b| \b\b/ \b\b- \b\b\\ \b\b| \b\b/ \b\b- \b\b\\ \b\b| \b\b/ \b\b- \b\b\\ \b\b| \b\b/ \b\b- \b\b\\ \b\b| \b\b/ \b\b- \b\b\\ \b\b| \b\b/ \b\b- \b\b\\ \b\bdone\n",
            "\n",
            "## Package Plan ##\n",
            "\n",
            "  environment location: /usr/local\n",
            "\n",
            "  added / updated specs:\n",
            "    - h5py\n",
            "\n",
            "\n",
            "The following packages will be downloaded:\n",
            "\n",
            "    package                    |            build\n",
            "    ---------------------------|-----------------\n",
            "    cached-property-1.5.2      |       hd8ed1ab_1           4 KB  conda-forge\n",
            "    cached_property-1.5.2      |     pyha770c72_1          11 KB  conda-forge\n",
            "    h5py-3.2.1                 |nompi_py37ha3df211_100         1.3 MB  conda-forge\n",
            "    ------------------------------------------------------------\n",
            "                                           Total:         1.3 MB\n",
            "\n",
            "The following NEW packages will be INSTALLED:\n",
            "\n",
            "  cached-property    conda-forge/noarch::cached-property-1.5.2-hd8ed1ab_1\n",
            "  cached_property    conda-forge/noarch::cached_property-1.5.2-pyha770c72_1\n",
            "  h5py               conda-forge/linux-64::h5py-3.2.1-nompi_py37ha3df211_100\n",
            "\n",
            "\n",
            "\n",
            "Downloading and Extracting Packages\n",
            "cached-property-1.5. | 4 KB      | : 100% 1.0/1 [00:00<00:00,  7.28it/s]\n",
            "cached_property-1.5. | 11 KB     | : 100% 1.0/1 [00:00<00:00, 19.32it/s]\n",
            "h5py-3.2.1           | 1.3 MB    | : 100% 1.0/1 [00:00<00:00,  3.06it/s]\n",
            "Preparing transaction: / \b\bdone\n",
            "Verifying transaction: \\ \b\bdone\n",
            "Executing transaction: / \b\b- \b\b\\ \b\b| \b\b/ \b\bdone\n",
            "Collecting package metadata (current_repodata.json): - \b\b\\ \b\b| \b\b/ \b\b- \b\b\\ \b\b| \b\b/ \b\b- \b\b\\ \b\b| \b\b/ \b\b- \b\b\\ \b\bdone\n",
            "Solving environment: / \b\b- \b\b\\ \b\b| \b\b/ \b\b- \b\b\\ \b\b| \b\b/ \b\b- \b\b\\ \b\b| \b\b/ \b\b- \b\b\\ \b\b| \b\b/ \b\b- \b\b\\ \b\b| \b\b/ \b\bdone\n",
            "\n",
            "## Package Plan ##\n",
            "\n",
            "  environment location: /usr/local\n",
            "\n",
            "  added / updated specs:\n",
            "    - cython\n",
            "\n",
            "\n",
            "The following packages will be downloaded:\n",
            "\n",
            "    package                    |            build\n",
            "    ---------------------------|-----------------\n",
            "    cython-0.29.24             |   py37hcd2ae1e_0         2.2 MB  conda-forge\n",
            "    ------------------------------------------------------------\n",
            "                                           Total:         2.2 MB\n",
            "\n",
            "The following NEW packages will be INSTALLED:\n",
            "\n",
            "  cython             conda-forge/linux-64::cython-0.29.24-py37hcd2ae1e_0\n",
            "\n",
            "\n",
            "\n",
            "Downloading and Extracting Packages\n",
            "cython-0.29.24       | 2.2 MB    | : 100% 1.0/1 [00:00<00:00,  1.56it/s]               \n",
            "Preparing transaction: \\ \b\bdone\n",
            "Verifying transaction: / \b\bdone\n",
            "Executing transaction: \\ \b\bdone\n"
          ]
        }
      ]
    },
    {
      "cell_type": "code",
      "metadata": {
        "colab": {
          "base_uri": "https://localhost:8080/"
        },
        "id": "uilmeNuc5ij5",
        "outputId": "c655cca9-c78e-46bf-fbb4-f53c6571888b"
      },
      "source": [
        "%%bash\n",
        "mkdir foldername\n",
        "tar -xvf '/content/drive/MyDrive/SISR/LESRCNN/dataset/Urban100.tar.gz' -C '/content/drive/MyDrive/SISR/LESRCNN/dataset'"
      ],
      "execution_count": 9,
      "outputs": [
        {
          "output_type": "stream",
          "name": "stdout",
          "text": [
            "Urban100/x4/img_011_SRF_4_LR.png\n",
            "Urban100/x3/img_084_SRF_3_LR.png\n",
            "Urban100/x4/img_030_SRF_4_HR.png\n",
            "Urban100/x3/img_066_SRF_3_LR.png\n",
            "Urban100/x4/img_012_SRF_4_HR.png\n",
            "Urban100/x3/img_048_SRF_3_LR.png\n",
            "Urban100/x3/img_085_SRF_3_HR.png\n",
            "Urban100/x3/img_067_SRF_3_HR.png\n",
            "Urban100/x4/img_021_SRF_4_HR.png\n",
            "Urban100/x3/img_049_SRF_3_HR.png\n",
            "Urban100/x4/img_061_SRF_4_LR.png\n",
            "Urban100/x4/img_043_SRF_4_LR.png\n",
            "Urban100/x4/img_080_SRF_4_HR.png\n",
            "Urban100/x4/img_062_SRF_4_HR.png\n",
            "Urban100/x4/img_079_SRF_4_LR.png\n",
            "Urban100/x3/img_098_SRF_3_LR.png\n",
            "Urban100/x2/img_013_SRF_2_HR.png\n",
            "Urban100/x4/img_098_SRF_4_HR.png\n",
            "Urban100/x3/img_040_SRF_3_HR.png\n",
            "Urban100/x2/img_062_SRF_2_LR.png\n",
            "Urban100/x2/img_044_SRF_2_LR.png\n",
            "Urban100/x2/img_026_SRF_2_LR.png\n",
            "Urban100/x2/img_081_SRF_2_HR.png\n",
            "Urban100/x2/img_008_SRF_2_LR.png\n",
            "Urban100/x2/img_063_SRF_2_HR.png\n",
            "Urban100/x4/img_002_SRF_4_LR.png\n",
            "Urban100/x2/img_045_SRF_2_HR.png\n",
            "Urban100/x2/img_027_SRF_2_HR.png\n",
            "Urban100/x3/img_008_SRF_3_HR.png\n",
            "Urban100/x4/img_003_SRF_4_HR.png\n",
            "Urban100/x2/img_009_SRF_2_HR.png\n",
            "Urban100/x3/img_021_SRF_3_LR.png\n",
            "Urban100/x3/img_003_SRF_3_LR.png\n",
            "Urban100/x3/img_039_SRF_3_LR.png\n",
            "Urban100/x2/img_094_SRF_2_LR.png\n",
            "Urban100/x3/img_057_SRF_3_LR.png\n",
            "Urban100/x2/img_076_SRF_2_LR.png\n",
            "Urban100/x3/img_022_SRF_3_HR.png\n",
            "Urban100/x2/img_058_SRF_2_LR.png\n",
            "Urban100/x2/img_095_SRF_2_HR.png\n",
            "Urban100/x3/img_076_SRF_3_HR.png\n",
            "Urban100/x2/img_077_SRF_2_HR.png\n",
            "Urban100/x3/img_058_SRF_3_HR.png\n",
            "Urban100/x4/img_070_SRF_4_LR.png\n",
            "Urban100/x4/img_052_SRF_4_LR.png\n",
            "Urban100/x3/img_071_SRF_3_LR.png\n",
            "Urban100/x4/img_034_SRF_4_LR.png\n",
            "Urban100/x4/img_016_SRF_4_LR.png\n",
            "Urban100/x4/img_071_SRF_4_HR.png\n",
            "Urban100/x3/img_090_SRF_3_HR.png\n",
            "Urban100/x4/img_053_SRF_4_HR.png\n",
            "Urban100/x3/img_089_SRF_3_LR.png\n",
            "Urban100/x4/img_035_SRF_4_HR.png\n",
            "Urban100/x4/img_017_SRF_4_HR.png\n",
            "Urban100/x4/img_084_SRF_4_LR.png\n",
            "Urban100/x4/img_066_SRF_4_LR.png\n",
            "Urban100/x2/img_017_SRF_2_LR.png\n",
            "Urban100/x4/img_085_SRF_4_HR.png\n",
            "Urban100/x4/img_026_SRF_4_HR.png\n",
            "Urban100/x2/img_036_SRF_2_HR.png\n",
            "Urban100/x2/img_018_SRF_2_HR.png\n",
            "Urban100/x3/img_030_SRF_3_LR.png\n",
            "Urban100/x3/img_012_SRF_3_LR.png\n",
            "Urban100/x2/img_085_SRF_2_LR.png\n",
            "Urban100/x3/img_031_SRF_3_HR.png\n",
            "Urban100/x2/img_067_SRF_2_LR.png\n",
            "Urban100/x3/img_013_SRF_3_HR.png\n",
            "Urban100/x2/img_049_SRF_2_LR.png\n",
            "Urban100/x2/img_086_SRF_2_HR.png\n",
            "Urban100/x2/img_068_SRF_2_HR.png\n",
            "Urban100/x3/img_080_SRF_3_LR.png\n",
            "Urban100/x3/img_062_SRF_3_LR.png\n",
            "Urban100/x2/img_100_SRF_2_LR.png\n",
            "Urban100/x3/img_044_SRF_3_LR.png\n",
            "Urban100/x4/img_025_SRF_4_LR.png\n",
            "Urban100/x4/img_007_SRF_4_LR.png\n",
            "Urban100/x3/img_026_SRF_3_LR.png\n",
            "Urban100/x3/img_081_SRF_3_HR.png\n",
            "Urban100/x3/img_100_SRF_3_HR.png\n",
            "Urban100/x4/img_044_SRF_4_HR.png\n",
            "Urban100/x3/img_063_SRF_3_HR.png\n",
            "Urban100/x2/img_099_SRF_2_LR.png\n",
            "Urban100/x3/img_045_SRF_3_HR.png\n",
            "Urban100/x4/img_008_SRF_4_HR.png\n",
            "Urban100/x3/img_099_SRF_3_HR.png\n",
            "Urban100/x4/img_093_SRF_4_LR.png\n",
            "Urban100/x3/img_094_SRF_3_LR.png\n",
            "Urban100/x4/img_075_SRF_4_LR.png\n",
            "Urban100/x4/img_057_SRF_4_LR.png\n",
            "Urban100/x4/img_039_SRF_4_LR.png\n",
            "Urban100/x4/img_094_SRF_4_HR.png\n",
            "Urban100/x4/img_076_SRF_4_HR.png\n",
            "Urban100/x4/img_058_SRF_4_HR.png\n",
            "Urban100/x2/img_040_SRF_2_LR.png\n",
            "Urban100/x2/img_022_SRF_2_LR.png\n",
            "Urban100/x2/img_004_SRF_2_LR.png\n",
            "Urban100/x4/img_089_SRF_4_LR.png\n",
            "Urban100/x2/img_041_SRF_2_HR.png\n",
            "Urban100/x3/img_004_SRF_3_HR.png\n",
            "Urban100/x2/img_023_SRF_2_HR.png\n",
            "Urban100/x2/img_059_SRF_2_HR.png\n",
            "Urban100/x2/img_090_SRF_2_LR.png\n",
            "Urban100/x2/img_072_SRF_2_LR.png\n",
            "Urban100/x3/img_053_SRF_3_LR.png\n",
            "Urban100/x3/img_035_SRF_3_LR.png\n",
            "Urban100/x3/img_017_SRF_3_LR.png\n",
            "Urban100/x3/img_072_SRF_3_HR.png\n",
            "Urban100/x2/img_091_SRF_2_HR.png\n",
            "Urban100/x3/img_054_SRF_3_HR.png\n",
            "Urban100/x3/img_036_SRF_3_HR.png\n",
            "Urban100/x3/img_018_SRF_3_HR.png\n",
            "Urban100/x4/img_030_SRF_4_LR.png\n",
            "Urban100/x4/img_012_SRF_4_LR.png\n",
            "Urban100/x4/img_048_SRF_4_LR.png\n",
            "Urban100/x3/img_085_SRF_3_LR.png\n",
            "Urban100/x4/img_031_SRF_4_HR.png\n",
            "Urban100/x3/img_067_SRF_3_LR.png\n",
            "Urban100/x4/img_013_SRF_4_HR.png\n",
            "Urban100/x3/img_049_SRF_3_LR.png\n",
            "Urban100/x4/img_067_SRF_4_HR.png\n",
            "Urban100/x3/img_086_SRF_3_HR.png\n",
            "Urban100/x4/img_049_SRF_4_HR.png\n",
            "Urban100/x3/img_068_SRF_3_HR.png\n",
            "Urban100/x4/img_080_SRF_4_LR.png\n",
            "Urban100/x4/img_062_SRF_4_LR.png\n",
            "Urban100/x2/img_031_SRF_2_LR.png\n",
            "Urban100/x2/img_013_SRF_2_LR.png\n",
            "Urban100/x4/img_081_SRF_4_HR.png\n",
            "Urban100/x4/img_100_SRF_4_HR.png\n",
            "Urban100/x4/img_098_SRF_4_LR.png\n",
            "Urban100/x2/img_050_SRF_2_HR.png\n",
            "Urban100/x2/img_032_SRF_2_HR.png\n",
            "Urban100/x2/img_014_SRF_2_HR.png\n",
            "Urban100/x4/img_099_SRF_4_HR.png\n",
            "Urban100/x4/img_022_SRF_4_HR.png\n",
            "Urban100/x2/img_081_SRF_2_LR.png\n",
            "Urban100/x2/img_063_SRF_2_LR.png\n",
            "Urban100/x2/img_045_SRF_2_LR.png\n",
            "Urban100/x3/img_008_SRF_3_LR.png\n",
            "Urban100/x2/img_027_SRF_2_LR.png\n",
            "Urban100/x2/img_009_SRF_2_LR.png\n",
            "Urban100/x2/img_082_SRF_2_HR.png\n",
            "Urban100/x4/img_021_SRF_4_LR.png\n",
            "Urban100/x2/img_064_SRF_2_HR.png\n",
            "Urban100/x2/img_046_SRF_2_HR.png\n",
            "Urban100/x3/img_027_SRF_3_HR.png\n",
            "Urban100/x2/img_028_SRF_2_HR.png\n",
            "Urban100/x3/img_009_SRF_3_HR.png\n",
            "Urban100/x3/img_040_SRF_3_LR.png\n",
            "Urban100/x4/img_003_SRF_4_LR.png\n",
            "Urban100/x3/img_022_SRF_3_LR.png\n",
            "Urban100/x4/img_040_SRF_4_HR.png\n",
            "Urban100/x2/img_095_SRF_2_LR.png\n",
            "Urban100/x3/img_076_SRF_3_LR.png\n",
            "Urban100/x3/img_058_SRF_3_LR.png\n",
            "Urban100/x2/img_077_SRF_2_LR.png\n",
            "Urban100/x4/img_004_SRF_4_HR.png\n",
            "Urban100/x4/img_071_SRF_4_LR.png\n",
            "Urban100/x3/img_095_SRF_3_HR.png\n",
            "Urban100/x2/img_096_SRF_2_HR.png\n",
            "Urban100/x3/img_077_SRF_3_HR.png\n",
            "Urban100/x3/img_059_SRF_3_HR.png\n",
            "Urban100/x3/img_090_SRF_3_LR.png\n",
            "Urban100/x4/img_053_SRF_4_LR.png\n",
            "Urban100/x4/img_035_SRF_4_LR.png\n",
            "Urban100/x4/img_017_SRF_4_LR.png\n",
            "Urban100/x4/img_090_SRF_4_HR.png\n",
            "Urban100/x4/img_072_SRF_4_HR.png\n",
            "Urban100/x4/img_054_SRF_4_HR.png\n",
            "Urban100/x4/img_036_SRF_4_HR.png\n",
            "Urban100/x2/img_005_SRF_2_HR.png\n",
            "Urban100/x4/img_085_SRF_4_LR.png\n",
            "Urban100/x2/img_054_SRF_2_LR.png\n",
            "Urban100/x2/img_036_SRF_2_LR.png\n",
            "Urban100/.DS_Store\n",
            "Urban100/x2/img_018_SRF_2_LR.png\n",
            "Urban100/x2/img_073_SRF_2_HR.png\n",
            "Urban100/x2/img_055_SRF_2_HR.png\n",
            "Urban100/x2/img_037_SRF_2_HR.png\n",
            "Urban100/x2/img_019_SRF_2_HR.png\n",
            "Urban100/x3/img_031_SRF_3_LR.png\n",
            "Urban100/x3/img_013_SRF_3_LR.png\n",
            "Urban100/x4/img_063_SRF_4_HR.png\n",
            "Urban100/x3/img_050_SRF_3_HR.png\n",
            "Urban100/x2/img_086_SRF_2_LR.png\n",
            "Urban100/x3/img_032_SRF_3_HR.png\n",
            "Urban100/x2/img_068_SRF_2_LR.png\n",
            "Urban100/x3/img_014_SRF_3_HR.png\n",
            "Urban100/x3/img_082_SRF_3_HR.png\n",
            "Urban100/x4/img_045_SRF_4_HR.png\n",
            "Urban100/x2/img_087_SRF_2_HR.png\n",
            "Urban100/x2/img_069_SRF_2_HR.png\n",
            "Urban100/x3/img_100_SRF_3_LR.png\n",
            "Urban100/x3/img_081_SRF_3_LR.png\n",
            "Urban100/x4/img_044_SRF_4_LR.png\n",
            "Urban100/x3/img_063_SRF_3_LR.png\n",
            "Urban100/x3/img_045_SRF_3_LR.png\n",
            "Urban100/x4/img_026_SRF_4_LR.png\n",
            "Urban100/x4/\n",
            "Urban100/x4/img_008_SRF_4_LR.png\n",
            "Urban100/x2/\n",
            "Urban100/x3/\n",
            "Urban100/x3/img_099_SRF_3_LR.png\n",
            "Urban100/x3/img_064_SRF_3_HR.png\n",
            "Urban100/x4/img_027_SRF_4_HR.png\n",
            "Urban100/x4/img_009_SRF_4_HR.png\n",
            "Urban100/x4/img_094_SRF_4_LR.png\n",
            "Urban100/x4/img_076_SRF_4_LR.png\n",
            "Urban100/x4/img_058_SRF_4_LR.png\n",
            "Urban100/x2/img_010_SRF_2_HR.png\n",
            "Urban100/x4/img_095_SRF_4_HR.png\n",
            "Urban100/x4/img_077_SRF_4_HR.png\n",
            "Urban100/x4/img_059_SRF_4_HR.png\n",
            "Urban100/x2/img_041_SRF_2_LR.png\n",
            "Urban100/x2/img_023_SRF_2_LR.png\n",
            "Urban100/x3/img_004_SRF_3_LR.png\n",
            "Urban100/x2/img_060_SRF_2_HR.png\n",
            "Urban100/x3/img_041_SRF_3_HR.png\n",
            "Urban100/x3/img_023_SRF_3_HR.png\n",
            "Urban100/x2/img_042_SRF_2_HR.png\n",
            "Urban100/x2/img_059_SRF_2_LR.png\n",
            "Urban100/x3/img_005_SRF_3_HR.png\n",
            "Urban100/x2/img_078_SRF_2_HR.png\n",
            "Urban100/x3/img_072_SRF_3_LR.png\n",
            "Urban100/x2/img_091_SRF_2_LR.png\n",
            "Urban100/x3/img_054_SRF_3_LR.png\n",
            "Urban100/x3/img_036_SRF_3_LR.png\n",
            "Urban100/x3/img_018_SRF_3_LR.png\n",
            "Urban100/x3/img_091_SRF_3_HR.png\n",
            "Urban100/x3/img_073_SRF_3_HR.png\n",
            "Urban100/x3/img_055_SRF_3_HR.png\n",
            "Urban100/x4/img_018_SRF_4_HR.png\n",
            "Urban100/x3/img_037_SRF_3_HR.png\n",
            "Urban100/x3/img_019_SRF_3_HR.png\n",
            "Urban100/x4/img_031_SRF_4_LR.png\n",
            "Urban100/x4/img_013_SRF_4_LR.png\n",
            "Urban100/x4/img_050_SRF_4_HR.png\n",
            "Urban100/x4/img_032_SRF_4_HR.png\n",
            "Urban100/x3/img_086_SRF_3_LR.png\n",
            "Urban100/x4/img_067_SRF_4_LR.png\n",
            "Urban100/x4/img_049_SRF_4_LR.png\n",
            "Urban100/x3/img_068_SRF_3_LR.png\n",
            "Urban100/x2/img_001_SRF_2_HR.png\n",
            "Urban100/x4/img_086_SRF_4_HR.png\n",
            "Urban100/x4/img_068_SRF_4_HR.png\n",
            "Urban100/x3/img_087_SRF_3_HR.png\n",
            "Urban100/x4/img_081_SRF_4_LR.png\n",
            "Urban100/x4/img_100_SRF_4_LR.png\n",
            "Urban100/x2/img_050_SRF_2_LR.png\n",
            "Urban100/x2/img_032_SRF_2_LR.png\n",
            "Urban100/x2/img_014_SRF_2_LR.png\n",
            "Urban100/x4/img_099_SRF_4_LR.png\n",
            "Urban100/x2/img_051_SRF_2_HR.png\n",
            "Urban100/x2/img_033_SRF_2_HR.png\n",
            "Urban100/x2/img_015_SRF_2_HR.png\n",
            "Urban100/x2/img_082_SRF_2_LR.png\n",
            "Urban100/x2/img_046_SRF_2_LR.png\n",
            "Urban100/x2/img_064_SRF_2_LR.png\n",
            "Urban100/x3/img_010_SRF_3_HR.png\n",
            "Urban100/x3/img_027_SRF_3_LR.png\n",
            "Urban100/x3/img_009_SRF_3_LR.png\n",
            "Urban100/x2/img_083_SRF_2_HR.png\n",
            "Urban100/x3/img_046_SRF_3_HR.png\n",
            "Urban100/x2/img_065_SRF_2_HR.png\n",
            "Urban100/x3/img_028_SRF_3_HR.png\n",
            "Urban100/x4/img_040_SRF_4_LR.png\n",
            "Urban100/x4/img_022_SRF_4_LR.png\n",
            "Urban100/x4/img_004_SRF_4_LR.png\n",
            "Urban100/x3/img_095_SRF_3_LR.png\n",
            "Urban100/x4/img_041_SRF_4_HR.png\n",
            "Urban100/x3/img_077_SRF_3_LR.png\n",
            "Urban100/x4/img_023_SRF_4_HR.png\n",
            "Urban100/x3/img_059_SRF_3_LR.png\n",
            "Urban100/x4/img_005_SRF_4_HR.png\n",
            "Urban100/x3/img_096_SRF_3_HR.png\n",
            "Urban100/x3/img_078_SRF_3_HR.png\n",
            "Urban100/x4/img_090_SRF_4_LR.png\n",
            "Urban100/x4/img_072_SRF_4_LR.png\n",
            "Urban100/x4/img_054_SRF_4_LR.png\n",
            "Urban100/x4/img_036_SRF_4_LR.png\n",
            "Urban100/x2/img_005_SRF_2_LR.png\n",
            "Urban100/x4/img_091_SRF_4_HR.png\n",
            "Urban100/x4/img_073_SRF_4_HR.png\n",
            "Urban100/x4/img_055_SRF_4_HR.png\n",
            "Urban100/x2/img_024_SRF_2_HR.png\n",
            "Urban100/x2/img_006_SRF_2_HR.png\n",
            "Urban100/x2/img_073_SRF_2_LR.png\n",
            "Urban100/x2/img_055_SRF_2_LR.png\n",
            "Urban100/x3/img_001_SRF_3_HR.png\n",
            "Urban100/x2/img_037_SRF_2_LR.png\n",
            "Urban100/x2/img_092_SRF_2_HR.png\n",
            "Urban100/x2/img_019_SRF_2_LR.png\n",
            "Urban100/x2/img_074_SRF_2_HR.png\n",
            "Urban100/x2/img_056_SRF_2_HR.png\n",
            "Urban100/x2/img_038_SRF_2_HR.png\n",
            "Urban100/x3/img_050_SRF_3_LR.png\n",
            "Urban100/x3/img_032_SRF_3_LR.png\n",
            "Urban100/x3/img_014_SRF_3_LR.png\n",
            "Urban100/x4/img_014_SRF_4_HR.png\n",
            "Urban100/x3/img_051_SRF_3_HR.png\n",
            "Urban100/x2/img_087_SRF_2_LR.png\n",
            "Urban100/x3/img_033_SRF_3_HR.png\n",
            "Urban100/x2/img_069_SRF_2_LR.png\n",
            "Urban100/x3/img_069_SRF_3_HR.png\n",
            "Urban100/x2/img_088_SRF_2_HR.png\n",
            "Urban100/x4/img_063_SRF_4_LR.png\n",
            "Urban100/x3/img_082_SRF_3_LR.png\n",
            "Urban100/x4/img_045_SRF_4_LR.png\n",
            "Urban100/x4/img_027_SRF_4_LR.png\n",
            "Urban100/x4/img_009_SRF_4_LR.png\n",
            "Urban100/x4/img_082_SRF_4_HR.png\n",
            "Urban100/x4/img_064_SRF_4_HR.png\n",
            "Urban100/x4/img_046_SRF_4_HR.png\n",
            "Urban100/x4/img_028_SRF_4_HR.png\n",
            "Urban100/x2/img_010_SRF_2_LR.png\n",
            "Urban100/x4/img_095_SRF_4_LR.png\n",
            "Urban100/x4/img_077_SRF_4_LR.png\n",
            "Urban100/x4/img_059_SRF_4_LR.png\n",
            "Urban100/x2/img_011_SRF_2_HR.png\n",
            "Urban100/x2/img_028_SRF_2_LR.png\n",
            "Urban100/x4/img_096_SRF_4_HR.png\n",
            "Urban100/x3/img_041_SRF_3_LR.png\n",
            "Urban100/x4/img_078_SRF_4_HR.png\n",
            "Urban100/x2/img_047_SRF_2_HR.png\n",
            "Urban100/x2/img_029_SRF_2_HR.png\n",
            "Urban100/x2/img_060_SRF_2_LR.png\n",
            "Urban100/x3/img_023_SRF_3_LR.png\n",
            "Urban100/x2/img_042_SRF_2_LR.png\n",
            "Urban100/x3/img_005_SRF_3_LR.png\n",
            "Urban100/x2/img_061_SRF_2_HR.png\n",
            "Urban100/x3/img_060_SRF_3_HR.png\n",
            "Urban100/x2/img_096_SRF_2_LR.png\n",
            "Urban100/x3/img_042_SRF_3_HR.png\n",
            "Urban100/x2/img_078_SRF_2_LR.png\n",
            "Urban100/x3/img_024_SRF_3_HR.png\n",
            "Urban100/x3/img_006_SRF_3_HR.png\n",
            "Urban100/x2/img_097_SRF_2_HR.png\n",
            "Urban100/x2/img_079_SRF_2_HR.png\n",
            "Urban100/x3/img_091_SRF_3_LR.png\n",
            "Urban100/x3/img_073_SRF_3_LR.png\n",
            "Urban100/x4/img_018_SRF_4_LR.png\n",
            "Urban100/x3/img_055_SRF_3_LR.png\n",
            "Urban100/x4/img_001_SRF_4_HR.png\n",
            "Urban100/x3/img_037_SRF_3_LR.png\n",
            "Urban100/x3/img_019_SRF_3_LR.png\n",
            "Urban100/x3/img_092_SRF_3_HR.png\n",
            "Urban100/x3/img_074_SRF_3_HR.png\n",
            "Urban100/x4/img_037_SRF_4_HR.png\n",
            "Urban100/x3/img_056_SRF_3_HR.png\n",
            "Urban100/x4/img_019_SRF_4_HR.png\n",
            "Urban100/x3/img_038_SRF_3_HR.png\n",
            "Urban100/x4/img_050_SRF_4_LR.png\n",
            "Urban100/x2/img_001_SRF_2_LR.png\n",
            "Urban100/x4/img_086_SRF_4_LR.png\n",
            "Urban100/x4/img_068_SRF_4_LR.png\n",
            "Urban100/x3/img_087_SRF_3_LR.png\n",
            "Urban100/x2/img_020_SRF_2_HR.png\n",
            "Urban100/x2/img_002_SRF_2_HR.png\n",
            "Urban100/x4/img_087_SRF_4_HR.png\n",
            "Urban100/x4/img_069_SRF_4_HR.png\n",
            "Urban100/x2/img_051_SRF_2_LR.png\n",
            "Urban100/x2/img_033_SRF_2_LR.png\n",
            "Urban100/x2/img_015_SRF_2_LR.png\n",
            "Urban100/x2/img_070_SRF_2_HR.png\n",
            "Urban100/x2/img_052_SRF_2_HR.png\n",
            "Urban100/x3/img_015_SRF_3_HR.png\n",
            "Urban100/x2/img_034_SRF_2_HR.png\n",
            "Urban100/x2/img_016_SRF_2_HR.png\n",
            "Urban100/x3/img_010_SRF_3_LR.png\n",
            "Urban100/x4/img_010_SRF_4_HR.png\n",
            "Urban100/x3/img_064_SRF_3_LR.png\n",
            "Urban100/x2/img_083_SRF_2_LR.png\n",
            "Urban100/x2/img_065_SRF_2_LR.png\n",
            "Urban100/x3/img_046_SRF_3_LR.png\n",
            "Urban100/x3/img_028_SRF_3_LR.png\n",
            "Urban100/x3/img_083_SRF_3_HR.png\n",
            "Urban100/x3/img_065_SRF_3_HR.png\n",
            "Urban100/x2/img_084_SRF_2_HR.png\n",
            "Urban100/x3/img_047_SRF_3_HR.png\n",
            "Urban100/x3/img_029_SRF_3_HR.png\n",
            "Urban100/x4/img_041_SRF_4_LR.png\n",
            "Urban100/x4/img_023_SRF_4_LR.png\n",
            "Urban100/x4/img_005_SRF_4_LR.png\n",
            "Urban100/x4/img_060_SRF_4_HR.png\n",
            "Urban100/x3/img_096_SRF_3_LR.png\n",
            "Urban100/x4/img_042_SRF_4_HR.png\n",
            "Urban100/x3/img_078_SRF_3_LR.png\n",
            "Urban100/x4/img_024_SRF_4_HR.png\n",
            "Urban100/x4/img_006_SRF_4_HR.png\n",
            "Urban100/x3/img_097_SRF_3_HR.png\n",
            "Urban100/x3/img_079_SRF_3_HR.png\n",
            "Urban100/x4/img_091_SRF_4_LR.png\n",
            "Urban100/x4/img_073_SRF_4_LR.png\n",
            "Urban100/x4/img_055_SRF_4_LR.png\n",
            "Urban100/x2/img_024_SRF_2_LR.png\n",
            "Urban100/x2/img_006_SRF_2_LR.png\n",
            "Urban100/x4/img_092_SRF_4_HR.png\n",
            "Urban100/x4/img_074_SRF_4_HR.png\n",
            "Urban100/x2/img_043_SRF_2_HR.png\n",
            "Urban100/x2/img_025_SRF_2_HR.png\n",
            "Urban100/x2/img_007_SRF_2_HR.png\n",
            "Urban100/x3/img_001_SRF_3_LR.png\n",
            "Urban100/x2/img_092_SRF_2_LR.png\n",
            "Urban100/x2/img_074_SRF_2_LR.png\n",
            "Urban100/x3/img_020_SRF_3_HR.png\n",
            "Urban100/x2/img_056_SRF_2_LR.png\n",
            "Urban100/x3/img_002_SRF_3_HR.png\n",
            "Urban100/x2/img_038_SRF_2_LR.png\n",
            "Urban100/x2/img_093_SRF_2_HR.png\n",
            "Urban100/x3/img_051_SRF_3_LR.png\n",
            "Urban100/x2/img_075_SRF_2_HR.png\n",
            "Urban100/x2/img_057_SRF_2_HR.png\n",
            "Urban100/x2/img_039_SRF_2_HR.png\n",
            "Urban100/x4/img_032_SRF_4_LR.png\n",
            "Urban100/x4/img_014_SRF_4_LR.png\n",
            "Urban100/x3/img_033_SRF_3_LR.png\n",
            "Urban100/x2/img_088_SRF_2_LR.png\n",
            "Urban100/x4/img_051_SRF_4_HR.png\n",
            "Urban100/x3/img_070_SRF_3_HR.png\n",
            "Urban100/x4/img_033_SRF_4_HR.png\n",
            "Urban100/x3/img_052_SRF_3_HR.png\n",
            "Urban100/x3/img_069_SRF_3_LR.png\n",
            "Urban100/x4/img_015_SRF_4_HR.png\n",
            "Urban100/x3/img_088_SRF_3_HR.png\n",
            "Urban100/x4/img_082_SRF_4_LR.png\n",
            "Urban100/x4/img_064_SRF_4_LR.png\n",
            "Urban100/x4/img_046_SRF_4_LR.png\n",
            "Urban100/x4/img_028_SRF_4_LR.png\n",
            "Urban100/x4/img_083_SRF_4_HR.png\n",
            "Urban100/x4/img_065_SRF_4_HR.png\n",
            "Urban100/x4/img_047_SRF_4_HR.png\n",
            "Urban100/x4/img_029_SRF_4_HR.png\n",
            "Urban100/x2/img_011_SRF_2_LR.png\n",
            "Urban100/x4/img_096_SRF_4_LR.png\n",
            "Urban100/x4/img_078_SRF_4_LR.png\n",
            "Urban100/x2/img_030_SRF_2_HR.png\n",
            "Urban100/x3/img_011_SRF_3_HR.png\n",
            "Urban100/x2/img_047_SRF_2_LR.png\n",
            "Urban100/x2/img_012_SRF_2_HR.png\n",
            "Urban100/x2/img_029_SRF_2_LR.png\n",
            "Urban100/x4/img_097_SRF_4_HR.png\n",
            "Urban100/x2/img_066_SRF_2_HR.png\n",
            "Urban100/x2/img_048_SRF_2_HR.png\n",
            "Urban100/x3/img_060_SRF_3_LR.png\n",
            "Urban100/x3/img_042_SRF_3_LR.png\n",
            "Urban100/x2/img_061_SRF_2_LR.png\n",
            "Urban100/x3/img_024_SRF_3_LR.png\n",
            "Urban100/x3/img_006_SRF_3_LR.png\n",
            "Urban100/x2/img_080_SRF_2_HR.png\n",
            "Urban100/x3/img_061_SRF_3_HR.png\n",
            "Urban100/x2/img_097_SRF_2_LR.png\n",
            "Urban100/x3/img_043_SRF_3_HR.png\n",
            "Urban100/x2/img_079_SRF_2_LR.png\n",
            "Urban100/x3/img_025_SRF_3_HR.png\n",
            "Urban100/x4/img_020_SRF_4_HR.png\n",
            "Urban100/x3/img_007_SRF_3_HR.png\n",
            "Urban100/x4/img_001_SRF_4_LR.png\n",
            "Urban100/x2/img_098_SRF_2_HR.png\n",
            "Urban100/x3/img_092_SRF_3_LR.png\n",
            "Urban100/x3/img_074_SRF_3_LR.png\n",
            "Urban100/x4/img_037_SRF_4_LR.png\n",
            "Urban100/x3/img_056_SRF_3_LR.png\n",
            "Urban100/x4/img_019_SRF_4_LR.png\n",
            "Urban100/x3/img_093_SRF_3_HR.png\n",
            "Urban100/x4/img_056_SRF_4_HR.png\n",
            "Urban100/x3/img_075_SRF_3_HR.png\n",
            "Urban100/x4/img_038_SRF_4_HR.png\n",
            "Urban100/x2/img_020_SRF_2_LR.png\n",
            "Urban100/x2/img_002_SRF_2_LR.png\n",
            "Urban100/x4/img_087_SRF_4_LR.png\n",
            "Urban100/x4/img_069_SRF_4_LR.png\n",
            "Urban100/x2/img_021_SRF_2_HR.png\n",
            "Urban100/x2/img_003_SRF_2_HR.png\n",
            "Urban100/x4/img_088_SRF_4_HR.png\n",
            "Urban100/x2/img_070_SRF_2_LR.png\n",
            "Urban100/x2/img_052_SRF_2_LR.png\n",
            "Urban100/x3/img_015_SRF_3_LR.png\n",
            "Urban100/x2/img_034_SRF_2_LR.png\n",
            "Urban100/x2/img_016_SRF_2_LR.png\n",
            "Urban100/x2/img_071_SRF_2_HR.png\n",
            "Urban100/x2/img_053_SRF_2_HR.png\n",
            "Urban100/x3/img_034_SRF_3_HR.png\n",
            "Urban100/x3/img_016_SRF_3_HR.png\n",
            "Urban100/x2/img_035_SRF_2_HR.png\n",
            "Urban100/x4/img_010_SRF_4_LR.png\n",
            "Urban100/x2/img_089_SRF_2_HR.png\n",
            "Urban100/x3/img_083_SRF_3_LR.png\n",
            "Urban100/x3/img_065_SRF_3_LR.png\n",
            "Urban100/x2/img_084_SRF_2_LR.png\n",
            "Urban100/x4/img_011_SRF_4_HR.png\n",
            "Urban100/x3/img_047_SRF_3_LR.png\n",
            "Urban100/x3/img_029_SRF_3_LR.png\n",
            "Urban100/x3/img_084_SRF_3_HR.png\n",
            "Urban100/x3/img_066_SRF_3_HR.png\n",
            "Urban100/x3/img_048_SRF_3_HR.png\n",
            "Urban100/x4/img_060_SRF_4_LR.png\n",
            "Urban100/x4/img_042_SRF_4_LR.png\n",
            "Urban100/x4/img_024_SRF_4_LR.png\n",
            "Urban100/x4/img_061_SRF_4_HR.png\n",
            "Urban100/x3/img_097_SRF_3_LR.png\n",
            "Urban100/x4/img_043_SRF_4_HR.png\n",
            "Urban100/x3/img_079_SRF_3_LR.png\n",
            "Urban100/x4/img_079_SRF_4_HR.png\n",
            "Urban100/x3/img_098_SRF_3_HR.png\n",
            "Urban100/x4/img_092_SRF_4_LR.png\n",
            "Urban100/x2/img_043_SRF_2_LR.png\n",
            "Urban100/x2/img_025_SRF_2_LR.png\n",
            "Urban100/x2/img_007_SRF_2_LR.png\n",
            "Urban100/x2/img_062_SRF_2_HR.png\n",
            "Urban100/x2/img_044_SRF_2_HR.png\n",
            "Urban100/x2/img_026_SRF_2_HR.png\n",
            "Urban100/x4/img_002_SRF_4_HR.png\n",
            "Urban100/x2/img_008_SRF_2_HR.png\n",
            "Urban100/x3/img_020_SRF_3_LR.png\n",
            "Urban100/x3/img_002_SRF_3_LR.png\n",
            "Urban100/x2/img_093_SRF_2_LR.png\n",
            "Urban100/x3/img_038_SRF_3_LR.png\n",
            "Urban100/x2/img_075_SRF_2_LR.png\n",
            "Urban100/x3/img_021_SRF_3_HR.png\n",
            "Urban100/x2/img_057_SRF_2_LR.png\n",
            "Urban100/x3/img_003_SRF_3_HR.png\n",
            "Urban100/x2/img_039_SRF_2_LR.png\n",
            "Urban100/x4/img_051_SRF_4_LR.png\n",
            "Urban100/x2/img_094_SRF_2_HR.png\n",
            "Urban100/x2/img_076_SRF_2_HR.png\n",
            "Urban100/x3/img_057_SRF_3_HR.png\n",
            "Urban100/x3/img_039_SRF_3_HR.png\n",
            "Urban100/x2/img_058_SRF_2_HR.png\n",
            "Urban100/x3/img_070_SRF_3_LR.png\n",
            "Urban100/x3/img_052_SRF_3_LR.png\n",
            "Urban100/x4/img_033_SRF_4_LR.png\n",
            "Urban100/x4/img_015_SRF_4_LR.png\n",
            "Urban100/x4/img_070_SRF_4_HR.png\n",
            "Urban100/x4/img_052_SRF_4_HR.png\n",
            "Urban100/x3/img_071_SRF_3_HR.png\n",
            "Urban100/x3/img_088_SRF_3_LR.png\n",
            "Urban100/x4/img_034_SRF_4_HR.png\n",
            "Urban100/x4/img_016_SRF_4_HR.png\n",
            "Urban100/x3/img_089_SRF_3_HR.png\n",
            "Urban100/x4/img_083_SRF_4_LR.png\n",
            "Urban100/x4/img_065_SRF_4_LR.png\n",
            "Urban100/x4/img_047_SRF_4_LR.png\n",
            "Urban100/x4/img_029_SRF_4_LR.png\n",
            "Urban100/x4/img_084_SRF_4_HR.png\n",
            "Urban100/x4/img_025_SRF_4_HR.png\n",
            "Urban100/x4/img_066_SRF_4_HR.png\n",
            "Urban100/x4/img_048_SRF_4_HR.png\n",
            "Urban100/x2/img_017_SRF_2_HR.png\n",
            "Urban100/x2/img_030_SRF_2_LR.png\n",
            "Urban100/x3/img_011_SRF_3_LR.png\n",
            "Urban100/x2/img_012_SRF_2_LR.png\n",
            "Urban100/x4/img_097_SRF_4_LR.png\n",
            "Urban100/x2/img_031_SRF_2_HR.png\n",
            "Urban100/x3/img_030_SRF_3_HR.png\n",
            "Urban100/x2/img_066_SRF_2_LR.png\n",
            "Urban100/x3/img_012_SRF_3_HR.png\n",
            "Urban100/x2/img_048_SRF_2_LR.png\n",
            "Urban100/x2/img_080_SRF_2_LR.png\n",
            "Urban100/x2/img_085_SRF_2_HR.png\n",
            "Urban100/x2/img_067_SRF_2_HR.png\n",
            "Urban100/x2/img_049_SRF_2_HR.png\n",
            "Urban100/x3/img_061_SRF_3_LR.png\n",
            "Urban100/x3/img_043_SRF_3_LR.png\n",
            "Urban100/x3/img_025_SRF_3_LR.png\n",
            "Urban100/x4/img_006_SRF_4_LR.png\n",
            "Urban100/x3/img_080_SRF_3_HR.png\n",
            "Urban100/x3/img_007_SRF_3_LR.png\n",
            "Urban100/x2/img_100_SRF_2_HR.png\n",
            "Urban100/x3/img_062_SRF_3_HR.png\n",
            "Urban100/x2/img_098_SRF_2_LR.png\n",
            "Urban100/x3/img_044_SRF_3_HR.png\n",
            "Urban100/x4/img_007_SRF_4_HR.png\n",
            "Urban100/x3/img_026_SRF_3_HR.png\n",
            "Urban100/x4/img_020_SRF_4_LR.png\n",
            "Urban100/x2/img_099_SRF_2_HR.png\n",
            "Urban100/x3/img_093_SRF_3_LR.png\n",
            "Urban100/x4/img_074_SRF_4_LR.png\n",
            "Urban100/x3/img_075_SRF_3_LR.png\n",
            "Urban100/x4/img_056_SRF_4_LR.png\n",
            "Urban100/x4/img_038_SRF_4_LR.png\n",
            "Urban100/x4/img_093_SRF_4_HR.png\n",
            "Urban100/x4/img_075_SRF_4_HR.png\n",
            "Urban100/x3/img_094_SRF_3_HR.png\n",
            "Urban100/x4/img_057_SRF_4_HR.png\n",
            "Urban100/x4/img_039_SRF_4_HR.png\n",
            "Urban100/\n",
            "Urban100/x2/img_021_SRF_2_LR.png\n",
            "Urban100/x2/img_003_SRF_2_LR.png\n",
            "Urban100/x4/img_088_SRF_4_LR.png\n",
            "Urban100/x2/img_040_SRF_2_HR.png\n",
            "Urban100/x2/img_022_SRF_2_HR.png\n",
            "Urban100/x2/img_004_SRF_2_HR.png\n",
            "Urban100/x4/img_089_SRF_4_HR.png\n",
            "Urban100/x2/img_071_SRF_2_LR.png\n",
            "Urban100/x3/img_034_SRF_3_LR.png\n",
            "Urban100/x2/img_053_SRF_2_LR.png\n",
            "Urban100/x3/img_016_SRF_3_LR.png\n",
            "Urban100/x2/img_035_SRF_2_LR.png\n",
            "Urban100/x3/img_053_SRF_3_HR.png\n",
            "Urban100/x2/img_090_SRF_2_HR.png\n",
            "Urban100/x2/img_054_SRF_2_HR.png\n",
            "Urban100/x2/img_072_SRF_2_HR.png\n",
            "Urban100/x2/img_089_SRF_2_LR.png\n",
            "Urban100/x3/img_035_SRF_3_HR.png\n",
            "Urban100/x3/img_017_SRF_3_HR.png\n"
          ]
        }
      ]
    },
    {
      "cell_type": "code",
      "metadata": {
        "colab": {
          "base_uri": "https://localhost:8080/"
        },
        "id": "Q7QwrfsVkXiD",
        "outputId": "f4f55811-ab0c-4055-d69e-14fe30460bf7"
      },
      "source": [
        "!cd '/content/drive/MyDrive/SISR/dataset/DIV2K'\n",
        "#preprocessing\n",
        "!python '/content/drive/MyDrive/SISR/LESRCNN/dataset/div2h5.py' \n"
      ],
      "execution_count": 10,
      "outputs": [
        {
          "output_type": "stream",
          "name": "stdout",
          "text": [
            "/content/drive/MyDrive/SISR/dataset/DIV2K/DIV2K_train_HR/0001.png\n",
            "/content/drive/MyDrive/SISR/dataset/DIV2K/DIV2K_train_HR/0002.png\n",
            "/content/drive/MyDrive/SISR/dataset/DIV2K/DIV2K_train_HR/0003.png\n",
            "/content/drive/MyDrive/SISR/dataset/DIV2K/DIV2K_train_HR/0004.png\n",
            "/content/drive/MyDrive/SISR/dataset/DIV2K/DIV2K_train_HR/0005.png\n",
            "/content/drive/MyDrive/SISR/dataset/DIV2K/DIV2K_train_HR/0006.png\n",
            "/content/drive/MyDrive/SISR/dataset/DIV2K/DIV2K_train_HR/0007.png\n",
            "/content/drive/MyDrive/SISR/dataset/DIV2K/DIV2K_train_HR/0008.png\n",
            "/content/drive/MyDrive/SISR/dataset/DIV2K/DIV2K_train_HR/0009.png\n",
            "/content/drive/MyDrive/SISR/dataset/DIV2K/DIV2K_train_HR/0010.png\n",
            "/content/drive/MyDrive/SISR/dataset/DIV2K/DIV2K_train_HR/0011.png\n",
            "/content/drive/MyDrive/SISR/dataset/DIV2K/DIV2K_train_HR/0012.png\n",
            "/content/drive/MyDrive/SISR/dataset/DIV2K/DIV2K_train_HR/0013.png\n",
            "/content/drive/MyDrive/SISR/dataset/DIV2K/DIV2K_train_HR/0014.png\n",
            "/content/drive/MyDrive/SISR/dataset/DIV2K/DIV2K_train_HR/0015.png\n",
            "/content/drive/MyDrive/SISR/dataset/DIV2K/DIV2K_train_HR/0016.png\n",
            "/content/drive/MyDrive/SISR/dataset/DIV2K/DIV2K_train_HR/0017.png\n",
            "/content/drive/MyDrive/SISR/dataset/DIV2K/DIV2K_train_HR/0018.png\n",
            "/content/drive/MyDrive/SISR/dataset/DIV2K/DIV2K_train_HR/0019.png\n",
            "/content/drive/MyDrive/SISR/dataset/DIV2K/DIV2K_train_HR/0020.png\n",
            "/content/drive/MyDrive/SISR/dataset/DIV2K/DIV2K_train_HR/0021.png\n",
            "/content/drive/MyDrive/SISR/dataset/DIV2K/DIV2K_train_LR_bicubic/X2/0001x2.png\n",
            "/content/drive/MyDrive/SISR/dataset/DIV2K/DIV2K_train_LR_bicubic/X2/0002x2.png\n",
            "/content/drive/MyDrive/SISR/dataset/DIV2K/DIV2K_train_LR_bicubic/X2/0003x2.png\n",
            "/content/drive/MyDrive/SISR/dataset/DIV2K/DIV2K_train_LR_bicubic/X2/0004x2.png\n",
            "/content/drive/MyDrive/SISR/dataset/DIV2K/DIV2K_train_LR_bicubic/X2/0005x2.png\n",
            "/content/drive/MyDrive/SISR/dataset/DIV2K/DIV2K_train_LR_bicubic/X2/0006x2.png\n",
            "/content/drive/MyDrive/SISR/dataset/DIV2K/DIV2K_train_LR_bicubic/X2/0007x2.png\n",
            "/content/drive/MyDrive/SISR/dataset/DIV2K/DIV2K_train_LR_bicubic/X2/0008x2.png\n",
            "/content/drive/MyDrive/SISR/dataset/DIV2K/DIV2K_train_LR_bicubic/X2/0009x2.png\n",
            "/content/drive/MyDrive/SISR/dataset/DIV2K/DIV2K_train_LR_bicubic/X2/0010x2.png\n",
            "/content/drive/MyDrive/SISR/dataset/DIV2K/DIV2K_train_LR_bicubic/X2/0011x2.png\n",
            "/content/drive/MyDrive/SISR/dataset/DIV2K/DIV2K_train_LR_bicubic/X2/0012x2.png\n",
            "/content/drive/MyDrive/SISR/dataset/DIV2K/DIV2K_train_LR_bicubic/X2/0013x2.png\n",
            "/content/drive/MyDrive/SISR/dataset/DIV2K/DIV2K_train_LR_bicubic/X2/0014x2.png\n",
            "/content/drive/MyDrive/SISR/dataset/DIV2K/DIV2K_train_LR_bicubic/X2/0015x2.png\n",
            "/content/drive/MyDrive/SISR/dataset/DIV2K/DIV2K_train_LR_bicubic/X2/0016x2.png\n",
            "/content/drive/MyDrive/SISR/dataset/DIV2K/DIV2K_train_LR_bicubic/X2/0017x2.png\n",
            "/content/drive/MyDrive/SISR/dataset/DIV2K/DIV2K_train_LR_bicubic/X2/0018x2.png\n",
            "/content/drive/MyDrive/SISR/dataset/DIV2K/DIV2K_train_LR_bicubic/X2/0019x2.png\n",
            "/content/drive/MyDrive/SISR/dataset/DIV2K/DIV2K_train_LR_bicubic/X2/0020x2.png\n",
            "/content/drive/MyDrive/SISR/dataset/DIV2K/DIV2K_train_LR_bicubic/X2/0021x2.png\n",
            "/content/drive/MyDrive/SISR/dataset/DIV2K/DIV2K_train_LR_bicubic/X3/0001x3.png\n",
            "/content/drive/MyDrive/SISR/dataset/DIV2K/DIV2K_train_LR_bicubic/X3/0002x3.png\n",
            "/content/drive/MyDrive/SISR/dataset/DIV2K/DIV2K_train_LR_bicubic/X3/0003x3.png\n",
            "/content/drive/MyDrive/SISR/dataset/DIV2K/DIV2K_train_LR_bicubic/X3/0004x3.png\n",
            "/content/drive/MyDrive/SISR/dataset/DIV2K/DIV2K_train_LR_bicubic/X3/0005x3.png\n",
            "/content/drive/MyDrive/SISR/dataset/DIV2K/DIV2K_train_LR_bicubic/X3/0006x3.png\n",
            "/content/drive/MyDrive/SISR/dataset/DIV2K/DIV2K_train_LR_bicubic/X3/0007x3.png\n",
            "/content/drive/MyDrive/SISR/dataset/DIV2K/DIV2K_train_LR_bicubic/X3/0008x3.png\n",
            "/content/drive/MyDrive/SISR/dataset/DIV2K/DIV2K_train_LR_bicubic/X3/0009x3.png\n",
            "/content/drive/MyDrive/SISR/dataset/DIV2K/DIV2K_train_LR_bicubic/X3/0010x3.png\n",
            "/content/drive/MyDrive/SISR/dataset/DIV2K/DIV2K_train_LR_bicubic/X3/0011x3.png\n",
            "/content/drive/MyDrive/SISR/dataset/DIV2K/DIV2K_train_LR_bicubic/X3/0012x3.png\n",
            "/content/drive/MyDrive/SISR/dataset/DIV2K/DIV2K_train_LR_bicubic/X3/0013x3.png\n",
            "/content/drive/MyDrive/SISR/dataset/DIV2K/DIV2K_train_LR_bicubic/X3/0014x3.png\n",
            "/content/drive/MyDrive/SISR/dataset/DIV2K/DIV2K_train_LR_bicubic/X3/0015x3.png\n",
            "/content/drive/MyDrive/SISR/dataset/DIV2K/DIV2K_train_LR_bicubic/X3/0016x3.png\n",
            "/content/drive/MyDrive/SISR/dataset/DIV2K/DIV2K_train_LR_bicubic/X3/0017x3.png\n",
            "/content/drive/MyDrive/SISR/dataset/DIV2K/DIV2K_train_LR_bicubic/X3/0018x3.png\n",
            "/content/drive/MyDrive/SISR/dataset/DIV2K/DIV2K_train_LR_bicubic/X3/0019x3.png\n",
            "/content/drive/MyDrive/SISR/dataset/DIV2K/DIV2K_train_LR_bicubic/X3/0020x3.png\n",
            "/content/drive/MyDrive/SISR/dataset/DIV2K/DIV2K_train_LR_bicubic/X3/0021x3.png\n",
            "/content/drive/MyDrive/SISR/dataset/DIV2K/DIV2K_train_LR_bicubic/X4/0001x4.png\n",
            "/content/drive/MyDrive/SISR/dataset/DIV2K/DIV2K_train_LR_bicubic/X4/0002x4.png\n",
            "/content/drive/MyDrive/SISR/dataset/DIV2K/DIV2K_train_LR_bicubic/X4/0003x4.png\n",
            "/content/drive/MyDrive/SISR/dataset/DIV2K/DIV2K_train_LR_bicubic/X4/0004x4.png\n",
            "/content/drive/MyDrive/SISR/dataset/DIV2K/DIV2K_train_LR_bicubic/X4/0005x4.png\n",
            "/content/drive/MyDrive/SISR/dataset/DIV2K/DIV2K_train_LR_bicubic/X4/0006x4.png\n",
            "/content/drive/MyDrive/SISR/dataset/DIV2K/DIV2K_train_LR_bicubic/X4/0007x4.png\n",
            "/content/drive/MyDrive/SISR/dataset/DIV2K/DIV2K_train_LR_bicubic/X4/0008x4.png\n",
            "/content/drive/MyDrive/SISR/dataset/DIV2K/DIV2K_train_LR_bicubic/X4/0009x4.png\n",
            "/content/drive/MyDrive/SISR/dataset/DIV2K/DIV2K_train_LR_bicubic/X4/0010x4.png\n",
            "/content/drive/MyDrive/SISR/dataset/DIV2K/DIV2K_train_LR_bicubic/X4/0011x4.png\n",
            "/content/drive/MyDrive/SISR/dataset/DIV2K/DIV2K_train_LR_bicubic/X4/0012x4.png\n",
            "/content/drive/MyDrive/SISR/dataset/DIV2K/DIV2K_train_LR_bicubic/X4/0013x4.png\n",
            "/content/drive/MyDrive/SISR/dataset/DIV2K/DIV2K_train_LR_bicubic/X4/0014x4.png\n",
            "/content/drive/MyDrive/SISR/dataset/DIV2K/DIV2K_train_LR_bicubic/X4/0015x4.png\n",
            "/content/drive/MyDrive/SISR/dataset/DIV2K/DIV2K_train_LR_bicubic/X4/0016x4.png\n",
            "/content/drive/MyDrive/SISR/dataset/DIV2K/DIV2K_train_LR_bicubic/X4/0017x4.png\n",
            "/content/drive/MyDrive/SISR/dataset/DIV2K/DIV2K_train_LR_bicubic/X4/0018x4.png\n",
            "/content/drive/MyDrive/SISR/dataset/DIV2K/DIV2K_train_LR_bicubic/X4/0019x4.png\n",
            "/content/drive/MyDrive/SISR/dataset/DIV2K/DIV2K_train_LR_bicubic/X4/0020x4.png\n",
            "/content/drive/MyDrive/SISR/dataset/DIV2K/DIV2K_train_LR_bicubic/X4/0021x4.png\n"
          ]
        }
      ]
    },
    {
      "cell_type": "code",
      "metadata": {
        "colab": {
          "base_uri": "https://localhost:8080/"
        },
        "id": "i144uY4Atbtl",
        "outputId": "487ef170-74b6-4719-aa6a-0aa3061ac8d0"
      },
      "source": [
        "!pip install opencv-python"
      ],
      "execution_count": 11,
      "outputs": [
        {
          "output_type": "stream",
          "name": "stdout",
          "text": [
            "Collecting opencv-python\n",
            "  Downloading opencv_python-4.5.3.56-cp37-cp37m-manylinux2014_x86_64.whl (49.9 MB)\n",
            "\u001b[K     |████████████████████████████████| 49.9 MB 29 kB/s \n",
            "\u001b[?25hRequirement already satisfied: numpy>=1.14.5 in /usr/local/lib/python3.7/site-packages (from opencv-python) (1.20.3)\n",
            "Installing collected packages: opencv-python\n",
            "Successfully installed opencv-python-4.5.3.56\n"
          ]
        }
      ]
    },
    {
      "cell_type": "code",
      "metadata": {
        "id": "E42ea75NtfpZ"
      },
      "source": [
        "import cv2"
      ],
      "execution_count": 12,
      "outputs": []
    },
    {
      "cell_type": "code",
      "metadata": {
        "colab": {
          "base_uri": "https://localhost:8080/"
        },
        "id": "DLlsAOIv8Wpd",
        "outputId": "25e758da-bc46-4722-e75f-b63ec337d153"
      },
      "source": [
        "!pip uninstall scikit-image\n",
        "!pip install scikit-image==0.15.0 -U -i https://pypi.tuna.tsinghua.edu.cn/simple\n"
      ],
      "execution_count": 13,
      "outputs": [
        {
          "output_type": "stream",
          "name": "stdout",
          "text": [
            "Found existing installation: scikit-image 0.18.3\n",
            "Uninstalling scikit-image-0.18.3:\n",
            "  Would remove:\n",
            "    /usr/local/bin/skivi\n",
            "    /usr/local/lib/python3.7/site-packages/scikit_image-0.18.3-py3.7.egg-info\n",
            "    /usr/local/lib/python3.7/site-packages/skimage\n",
            "Proceed (y/n)? Y\n",
            "  Successfully uninstalled scikit-image-0.18.3\n",
            "Looking in indexes: https://pypi.tuna.tsinghua.edu.cn/simple\n",
            "Collecting scikit-image==0.15.0\n",
            "  Downloading https://pypi.tuna.tsinghua.edu.cn/packages/2e/21/ea56c8bb2e8112837dd71aebeb2ac67913e784911c0d7f493a593fa1a207/scikit_image-0.15.0-cp37-cp37m-manylinux1_x86_64.whl (26.3 MB)\n",
            "\u001b[K     |████████████████████████████████| 26.3 MB 29 kB/s \n",
            "\u001b[?25hRequirement already satisfied: networkx>=2.0 in /usr/local/lib/python3.7/site-packages (from scikit-image==0.15.0) (2.6.3)\n",
            "Requirement already satisfied: PyWavelets>=0.4.0 in /usr/local/lib/python3.7/site-packages (from scikit-image==0.15.0) (1.1.1)\n",
            "Requirement already satisfied: scipy>=0.17.0 in /usr/local/lib/python3.7/site-packages (from scikit-image==0.15.0) (1.7.1)\n",
            "Requirement already satisfied: imageio>=2.0.1 in /usr/local/lib/python3.7/site-packages (from scikit-image==0.15.0) (2.9.0)\n",
            "Requirement already satisfied: pillow>=4.3.0 in /usr/local/lib/python3.7/site-packages (from scikit-image==0.15.0) (6.2.1)\n",
            "Requirement already satisfied: matplotlib!=3.0.0,>=2.0.0 in /usr/local/lib/python3.7/site-packages (from scikit-image==0.15.0) (3.4.3)\n",
            "Requirement already satisfied: numpy in /usr/local/lib/python3.7/site-packages (from imageio>=2.0.1->scikit-image==0.15.0) (1.20.3)\n",
            "Requirement already satisfied: python-dateutil>=2.7 in /usr/local/lib/python3.7/site-packages (from matplotlib!=3.0.0,>=2.0.0->scikit-image==0.15.0) (2.8.2)\n",
            "Requirement already satisfied: kiwisolver>=1.0.1 in /usr/local/lib/python3.7/site-packages (from matplotlib!=3.0.0,>=2.0.0->scikit-image==0.15.0) (1.3.2)\n",
            "Requirement already satisfied: cycler>=0.10 in /usr/local/lib/python3.7/site-packages (from matplotlib!=3.0.0,>=2.0.0->scikit-image==0.15.0) (0.10.0)\n",
            "Requirement already satisfied: pyparsing>=2.2.1 in /usr/local/lib/python3.7/site-packages (from matplotlib!=3.0.0,>=2.0.0->scikit-image==0.15.0) (2.4.7)\n",
            "Requirement already satisfied: six in /usr/local/lib/python3.7/site-packages (from cycler>=0.10->matplotlib!=3.0.0,>=2.0.0->scikit-image==0.15.0) (1.15.0)\n",
            "Installing collected packages: scikit-image\n",
            "Successfully installed scikit-image-0.15.0\n"
          ]
        }
      ]
    },
    {
      "cell_type": "code",
      "metadata": {
        "colab": {
          "base_uri": "https://localhost:8080/"
        },
        "id": "rs4TDu0dfo8_",
        "outputId": "f7fd9246-dc9a-406a-aea1-425008ccb11c"
      },
      "source": [
        "#!python '/content/drive/MyDrive/SISR/LESRCNN/x2/train.py' --patch_size 64 --batch_size 1 --max_steps 30000 --decay 10000 --model lesrcnn --ckpt_name lesrcnn_x2 --ckpt_dir '/content/drive/MyDrive/SISR/LESRCNN/checkpoint' --scale 2 --num_gpu 1\n",
        "!python '/content/drive/MyDrive/SISR/LESRCNN/x2/train.py' --patch_size 64 --batch_size 1 --max_steps 600000 --decay 400000 --model lesrcnn --ckpt_name lesrcnn_x2 --ckpt_dir '/content/drive/MyDrive/SISR/LESRCNN/checkpoint' --scale 2 --num_gpu 1"
      ],
      "execution_count": 37,
      "outputs": [
        {
          "output_type": "stream",
          "name": "stdout",
          "text": [
            "{\n",
            "    \"batch_size\": 1,\n",
            "    \"ckpt_dir\": \"/content/drive/MyDrive/SISR/LESRCNN/checkpoint\",\n",
            "    \"ckpt_name\": \"lesrcnn_x2\",\n",
            "    \"clip\": 10.0,\n",
            "    \"decay\": 400000,\n",
            "    \"group\": 1,\n",
            "    \"loss_fn\": \"MSE\",\n",
            "    \"lr\": 0.0001,\n",
            "    \"max_steps\": 600000,\n",
            "    \"model\": \"lesrcnn\",\n",
            "    \"num_gpu\": 1,\n",
            "    \"patch_size\": 64,\n",
            "    \"print_interval\": 1000,\n",
            "    \"sample_dir\": \"/content/drive/MyDrive/SISR/LESRCNN/sample/\",\n",
            "    \"scale\": 2,\n",
            "    \"shave\": 20,\n",
            "    \"train_data_path\": \"/content/drive/MyDrive/SISR/LESRCNN/DIV2K_train.h5\",\n",
            "    \"verbose\": \"store_true\"\n",
            "}\n",
            "# of params: 626328\n",
            "ds\n",
            "THCudaCheck FAIL file=/opt/conda/conda-bld/pytorch_1535493744281/work/aten/src/THC/THCGeneral.cpp line=663 error=11 : invalid argument\n",
            "Traceback (most recent call last):\n",
            "  File \"/content/drive/MyDrive/SISR/LESRCNN/x2/train.py\", line 54, in <module>\n",
            "    main(cfg)\n",
            "  File \"/content/drive/MyDrive/SISR/LESRCNN/x2/train.py\", line 50, in main\n",
            "    solver.fit()\n",
            "  File \"/content/drive/.shortcut-targets-by-id/1BKwPP2ZywCKYF3dJLVL_sxW9waxXkACw/SISR/LESRCNN/x2/solver.py\", line 89, in fit\n",
            "    loss = self.loss_fn(sr, hr)\n",
            "  File \"/usr/local/lib/python3.7/site-packages/torch/nn/modules/module.py\", line 477, in __call__\n",
            "    result = self.forward(*input, **kwargs)\n",
            "  File \"/usr/local/lib/python3.7/site-packages/torch/nn/modules/loss.py\", line 421, in forward\n",
            "    return F.mse_loss(input, target, reduction=self.reduction)\n",
            "  File \"/usr/local/lib/python3.7/site-packages/torch/nn/functional.py\", line 1716, in mse_loss\n",
            "    return _pointwise_loss(lambda a, b: (a - b) ** 2, torch._C._nn.mse_loss, input, target, reduction)\n",
            "  File \"/usr/local/lib/python3.7/site-packages/torch/nn/functional.py\", line 1674, in _pointwise_loss\n",
            "    return lambd_optimized(input, target, reduction)\n",
            "KeyboardInterrupt\n"
          ]
        }
      ]
    },
    {
      "cell_type": "code",
      "metadata": {
        "colab": {
          "base_uri": "https://localhost:8080/"
        },
        "id": "gpIXYy2u2cXA",
        "outputId": "0794dc09-4907-4fe9-f0f6-71c70c129da2"
      },
      "source": [
        "!pip install torchinfo\n"
      ],
      "execution_count": 19,
      "outputs": [
        {
          "output_type": "stream",
          "name": "stdout",
          "text": [
            "Collecting torchinfo\n",
            "  Downloading torchinfo-1.5.3-py3-none-any.whl (19 kB)\n",
            "Installing collected packages: torchinfo\n",
            "Successfully installed torchinfo-1.5.3\n"
          ]
        }
      ]
    },
    {
      "cell_type": "code",
      "metadata": {
        "colab": {
          "base_uri": "https://localhost:8080/"
        },
        "id": "SKaVymgL2lxv",
        "outputId": "f5d583da-2707-4e2f-8f8e-5709bbc226eb"
      },
      "source": [
        "!pip install torchsummary\n"
      ],
      "execution_count": 22,
      "outputs": [
        {
          "output_type": "stream",
          "name": "stdout",
          "text": [
            "Collecting torchsummary\n",
            "  Downloading torchsummary-1.5.1-py3-none-any.whl (2.8 kB)\n",
            "Installing collected packages: torchsummary\n",
            "Successfully installed torchsummary-1.5.1\n"
          ]
        }
      ]
    },
    {
      "cell_type": "code",
      "metadata": {
        "colab": {
          "base_uri": "https://localhost:8080/"
        },
        "id": "hTM5LHrU-KZt",
        "outputId": "68da231c-06c7-448f-99d4-244000aee40e"
      },
      "source": [
        "!pip install numpy torchvision_nightly\n",
        "!pip install torch_nightly -f https://download.pytorch.org/whl/nightly/cu80/torch_nightly.html"
      ],
      "execution_count": 49,
      "outputs": [
        {
          "output_type": "stream",
          "name": "stdout",
          "text": [
            "Requirement already satisfied: numpy in /usr/local/lib/python3.7/site-packages (1.20.3)\n",
            "\u001b[31mERROR: Could not find a version that satisfies the requirement torchvision_nightly\u001b[0m\n",
            "\u001b[31mERROR: No matching distribution found for torchvision_nightly\u001b[0m\n",
            "Looking in links: https://download.pytorch.org/whl/nightly/cu80/torch_nightly.html\n",
            "Collecting torch_nightly\n",
            "\u001b[31m  ERROR: HTTP error 403 while getting https://download.pytorch.org/whl/nightly/torch_nightly-1.2.0.dev20190731%2Bcu100-cp37-cp37m-linux_x86_64.whl (from https://download.pytorch.org/whl/nightly/cu80/torch_nightly.html)\u001b[0m\n",
            "\u001b[31mERROR: Could not install requirement torch_nightly from https://download.pytorch.org/whl/nightly/torch_nightly-1.2.0.dev20190731%2Bcu100-cp37-cp37m-linux_x86_64.whl because of HTTP error 403 Client Error: Forbidden for url: https://download.pytorch.org/whl/nightly/torch_nightly-1.2.0.dev20190731%2Bcu100-cp37-cp37m-linux_x86_64.whl for URL https://download.pytorch.org/whl/nightly/torch_nightly-1.2.0.dev20190731%2Bcu100-cp37-cp37m-linux_x86_64.whl (from https://download.pytorch.org/whl/nightly/cu80/torch_nightly.html)\u001b[0m\n"
          ]
        }
      ]
    },
    {
      "cell_type": "code",
      "metadata": {
        "colab": {
          "base_uri": "https://localhost:8080/"
        },
        "id": "Q5xWzl-jvZY5",
        "outputId": "27174651-96d9-414f-e275-23cb8fab8c0b"
      },
      "source": [
        "!python '/content/drive/MyDrive/SISR/LESRCNN/x2/tcw_sample.py' --model lesrcnn --test_data_dir '/content/drive/MyDrive/SISR/LESRCNN/dataset/Urban100' --scale 2 --ckpt_path '/content/drive/MyDrive/SISR/LESRCNN/x2/lesrcnn_x2.pth' --sample_dir samples_singlemodel_urban100_x2"
      ],
      "execution_count": 55,
      "outputs": [
        {
          "output_type": "stream",
          "name": "stdout",
          "text": [
            "{\n",
            "    \"ckpt_path\": \"/content/drive/MyDrive/SISR/LESRCNN/x2/lesrcnn_x2.pth\",\n",
            "    \"cuda\": \"true\",\n",
            "    \"group\": 1,\n",
            "    \"model\": \"lesrcnn\",\n",
            "    \"sample_dir\": \"samples_singlemodel_urban100_x2\",\n",
            "    \"scale\": 2,\n",
            "    \"shave\": 20,\n",
            "    \"test_data_dir\": \"/content/drive/MyDrive/SISR/LESRCNN/dataset/Urban100\"\n",
            "}\n",
            "THCudaCheck FAIL file=/opt/conda/conda-bld/pytorch_1535493744281/work/aten/src/THC/THCGeneral.cpp line=663 error=11 : invalid argument\n",
            "31.446798201336406 0.9206362833156811\n"
          ]
        }
      ]
    }
  ]
}