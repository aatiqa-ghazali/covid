{
  "nbformat": 4,
  "nbformat_minor": 0,
  "metadata": {
    "colab": {
      "name": "dipresults.ipynb",
      "provenance": [],
      "collapsed_sections": [],
      "mount_file_id": "1ibcFzLLwXriCMFBcKnWhAi8qyw5QO9q8",
      "authorship_tag": "ABX9TyPjb0aE9/k31Uuvzy4CcLG5",
      "include_colab_link": true
    },
    "kernelspec": {
      "name": "python3",
      "display_name": "Python 3"
    },
    "language_info": {
      "name": "python"
    }
  },
  "cells": [
    {
      "cell_type": "markdown",
      "metadata": {
        "id": "view-in-github",
        "colab_type": "text"
      },
      "source": [
        "<a href=\"https://colab.research.google.com/github/aatiqa-ghazali/covid/blob/main/fullModel.ipynb\" target=\"_parent\"><img src=\"https://colab.research.google.com/assets/colab-badge.svg\" alt=\"Open In Colab\"/></a>"
      ]
    },
    {
      "cell_type": "code",
      "metadata": {
        "id": "A8TajsyQ5VBZ"
      },
      "source": [
        "import os\n",
        "import matplotlib.pyplot as plt\n",
        "\n",
        "import tensorflow as tf\n",
        "from tensorflow.keras.preprocessing.image import ImageDataGenerator \n",
        "from tensorflow import keras"
      ],
      "execution_count": 1,
      "outputs": []
    },
    {
      "cell_type": "code",
      "metadata": {
        "id": "vbw0LxnB6N4K"
      },
      "source": [
        "# Define constants\n",
        "SEED = 1\n",
        "BATCH_SIZE_TRAIN = 32\n",
        "BATCH_SIZE_TEST = 32\n",
        "\n",
        "IMAGE_HEIGHT = 40\n",
        "IMAGE_WIDTH = 80\n",
        "IMG_SIZE = (IMAGE_HEIGHT, IMAGE_WIDTH)\n",
        "\n",
        "data_dir_train = '/content/drive/MyDrive/newdata/slices'\n",
        "# The images should be stored under: \"data/slices/training/img/img\"\n",
        "data_dir_train_image = os.path.join(data_dir_train, 'data')\n",
        "# The images should be stored under: \"data/slices/training/mask/img\"\n",
        "data_dir_train_mask = os.path.join(data_dir_train, 'label')\n",
        "\n",
        "\n",
        "\n",
        "NUM_TRAIN = 120\n",
        "\n",
        "\n",
        "NUM_OF_EPOCHS = 100"
      ],
      "execution_count": 5,
      "outputs": []
    },
    {
      "cell_type": "code",
      "metadata": {
        "id": "K6VTwuOxA4p6"
      },
      "source": [
        "#take the images from all directories and feed them to the neural netwrok\n",
        "def create_segmentation_generator_train(img_path, msk_path, BATCH_SIZE):\n",
        "    data_gen_args = dict(rescale=1./255\n",
        "#                      featurewise_center=True,\n",
        "#                      featurewise_std_normalization=True,\n",
        "#                      rotation_range=90\n",
        "#                      width_shift_range=0.2,\n",
        "#                      height_shift_range=0.2,\n",
        "#                      zoom_range=0.3\n",
        "                        )\n",
        "    datagen = ImageDataGenerator(**data_gen_args)\n",
        "    \n",
        "    img_generator = datagen.flow_from_directory(img_path, target_size=IMG_SIZE, class_mode=None, color_mode='grayscale', batch_size=BATCH_SIZE, seed=SEED)\n",
        "    msk_generator = datagen.flow_from_directory(msk_path, target_size=IMG_SIZE, class_mode=None, color_mode='grayscale', batch_size=BATCH_SIZE, seed=SEED)\n",
        "    return zip(img_generator, msk_generator)\n",
        "\n",
        "# Remember not to perform any image augmentation in the test generator!\n",
        "def create_segmentation_generator_test(img_path, msk_path, BATCH_SIZE):\n",
        "    data_gen_args = dict(rescale=1./255)\n",
        "    datagen = ImageDataGenerator(**data_gen_args)\n",
        "    \n",
        "    img_generator = datagen.flow_from_directory(img_path, target_size=IMG_SIZE, class_mode=None, color_mode='grayscale', batch_size=BATCH_SIZE, seed=SEED)\n",
        "    msk_generator = datagen.flow_from_directory(msk_path, target_size=IMG_SIZE, class_mode=None, color_mode='grayscale', batch_size=BATCH_SIZE, seed=SEED)\n",
        "    return zip(img_generator, msk_generator)"
      ],
      "execution_count": 6,
      "outputs": []
    },
    {
      "cell_type": "code",
      "metadata": {
        "colab": {
          "base_uri": "https://localhost:8080/"
        },
        "id": "GoQ4xWmqB_ew",
        "outputId": "e5444b75-4321-438c-ea62-a248ce679b78"
      },
      "source": [
        "train_generator = create_segmentation_generator_train(data_dir_train_image, data_dir_train_mask, BATCH_SIZE_TRAIN)\n"
      ],
      "execution_count": 7,
      "outputs": [
        {
          "output_type": "stream",
          "text": [
            "Found 43133 images belonging to 1 classes.\n",
            "Found 33148 images belonging to 1 classes.\n"
          ],
          "name": "stdout"
        }
      ]
    },
    {
      "cell_type": "code",
      "metadata": {
        "id": "ZXEyrpe3Xbvb"
      },
      "source": [
        "def display(display_list):\n",
        "    plt.figure(figsize=(30,30))\n",
        "    \n",
        "    title = ['Input Image', 'True Mask', 'Predicted Mask']\n",
        "    \n",
        "    for i in range(len(display_list)):\n",
        "        plt.subplot(1, len(display_list), i+1)\n",
        "        plt.title(title[i])\n",
        "        plt.imshow(tf.keras.preprocessing.image.array_to_img(display_list[i]), cmap='gray')\n",
        "    plt.show()"
      ],
      "execution_count": 8,
      "outputs": []
    },
    {
      "cell_type": "code",
      "metadata": {
        "id": "RznuVIBIXdQ9"
      },
      "source": [
        "\n",
        "def show_dataset(datagen, num=1):\n",
        "    for i in range(0,num):\n",
        "        image,mask = next(datagen)\n",
        "        display([image[0], mask[0]])"
      ],
      "execution_count": 9,
      "outputs": []
    },
    {
      "cell_type": "code",
      "metadata": {
        "colab": {
          "base_uri": "https://localhost:8080/",
          "height": 606
        },
        "id": "sI5wJPNJXjwQ",
        "outputId": "c3f02130-f7c2-43d7-c781-77f912568d2e"
      },
      "source": [
        "show_dataset(train_generator, 2)\n"
      ],
      "execution_count": 10,
      "outputs": [
        {
          "output_type": "display_data",
          "data": {
            "image/png": "[encoded data removed]",
            "text/plain": [
              "<Figure size 2160x2160 with 2 Axes>"
            ]
          },
          "metadata": {
            "tags": [],
            "needs_background": "light"
          }
        },
        {
          "output_type": "display_data",
          "data": {
            "image/png": "[encoded data removed]",
            "text/plain": [
              "<Figure size 2160x2160 with 2 Axes>"
            ]
          },
          "metadata": {
            "tags": [],
            "needs_background": "light"
          }
        }
      ]
    },
    {
      "cell_type": "code",
      "metadata": {
        "id": "nT9ON-03YFa8"
      },
      "source": [
        "def unet(n_levels, initial_features=32, n_blocks=2, kernel_size=3, pooling_size=2, in_channels=1, out_channels=1):\n",
        "    inputs = keras.layers.Input(shape=(IMAGE_HEIGHT, IMAGE_WIDTH, in_channels))\n",
        "    x = inputs\n",
        "    \n",
        "    convpars = dict(kernel_size=kernel_size, activation='relu', padding='same')\n",
        "    \n",
        "    #downstream\n",
        "    skips = {}\n",
        "    for level in range(n_levels):\n",
        "        for _ in range(n_blocks):\n",
        "            x = keras.layers.Conv2D(initial_features * 2 ** level, **convpars)(x)\n",
        "        if level < n_levels - 1:\n",
        "            skips[level] = x\n",
        "            x = keras.layers.MaxPool2D(pooling_size)(x)\n",
        "            \n",
        "    # upstream\n",
        "    for level in reversed(range(n_levels-1)):\n",
        "        x = keras.layers.Conv2DTranspose(initial_features * 2 ** level, strides=pooling_size, **convpars)(x)\n",
        "        x = keras.layers.Concatenate()([x, skips[level]])\n",
        "        for _ in range(n_blocks):\n",
        "            x = keras.layers.Conv2D(initial_features * 2 ** level, **convpars)(x)\n",
        "            \n",
        "    # output\n",
        "    activation = 'sigmoid' if out_channels == 1 else 'softmax'\n",
        "    x = keras.layers.Conv2D(out_channels, kernel_size=1, activation=activation, padding='same')(x)\n",
        "    \n",
        "    return keras.Model(inputs=[inputs], outputs=[x], name=f'UNET-L{n_levels}-F{initial_features}')"
      ],
      "execution_count": 11,
      "outputs": []
    },
    {
      "cell_type": "code",
      "metadata": {
        "id": "E9-pIYiuYIbm"
      },
      "source": [
        "EPOCH_STEP_TRAIN = NUM_TRAIN // BATCH_SIZE_TRAIN\n",
        "\n",
        "model = unet(4)\n",
        "model.compile(optimizer='adam', loss='binary_crossentropy', metrics=['accuracy'])"
      ],
      "execution_count": 12,
      "outputs": []
    },
    {
      "cell_type": "code",
      "metadata": {
        "colab": {
          "base_uri": "https://localhost:8080/"
        },
        "id": "iYzlR8UEZncV",
        "outputId": "b716a713-c86e-491b-c800-b9ed3aeb91b5"
      },
      "source": [
        "model.summary()\n"
      ],
      "execution_count": 14,
      "outputs": [
        {
          "output_type": "stream",
          "text": [
            "Model: \"UNET-L4-F32\"\n",
            "__________________________________________________________________________________________________\n",
            "Layer (type)                    Output Shape         Param #     Connected to                     \n",
            "==================================================================================================\n",
            "input_1 (InputLayer)            [(None, 40, 80, 1)]  0                                            \n",
            "__________________________________________________________________________________________________\n",
            "conv2d (Conv2D)                 (None, 40, 80, 32)   320         input_1[0][0]                    \n",
            "__________________________________________________________________________________________________\n",
            "conv2d_1 (Conv2D)               (None, 40, 80, 32)   9248        conv2d[0][0]                     \n",
            "__________________________________________________________________________________________________\n",
            "max_pooling2d (MaxPooling2D)    (None, 20, 40, 32)   0           conv2d_1[0][0]                   \n",
            "__________________________________________________________________________________________________\n",
            "conv2d_2 (Conv2D)               (None, 20, 40, 64)   18496       max_pooling2d[0][0]              \n",
            "__________________________________________________________________________________________________\n",
            "conv2d_3 (Conv2D)               (None, 20, 40, 64)   36928       conv2d_2[0][0]                   \n",
            "__________________________________________________________________________________________________\n",
            "max_pooling2d_1 (MaxPooling2D)  (None, 10, 20, 64)   0           conv2d_3[0][0]                   \n",
            "__________________________________________________________________________________________________\n",
            "conv2d_4 (Conv2D)               (None, 10, 20, 128)  73856       max_pooling2d_1[0][0]            \n",
            "__________________________________________________________________________________________________\n",
            "conv2d_5 (Conv2D)               (None, 10, 20, 128)  147584      conv2d_4[0][0]                   \n",
            "__________________________________________________________________________________________________\n",
            "max_pooling2d_2 (MaxPooling2D)  (None, 5, 10, 128)   0           conv2d_5[0][0]                   \n",
            "__________________________________________________________________________________________________\n",
            "conv2d_6 (Conv2D)               (None, 5, 10, 256)   295168      max_pooling2d_2[0][0]            \n",
            "__________________________________________________________________________________________________\n",
            "conv2d_7 (Conv2D)               (None, 5, 10, 256)   590080      conv2d_6[0][0]                   \n",
            "__________________________________________________________________________________________________\n",
            "conv2d_transpose (Conv2DTranspo (None, 10, 20, 128)  295040      conv2d_7[0][0]                   \n",
            "__________________________________________________________________________________________________\n",
            "concatenate (Concatenate)       (None, 10, 20, 256)  0           conv2d_transpose[0][0]           \n",
            "                                                                 conv2d_5[0][0]                   \n",
            "__________________________________________________________________________________________________\n",
            "conv2d_8 (Conv2D)               (None, 10, 20, 128)  295040      concatenate[0][0]                \n",
            "__________________________________________________________________________________________________\n",
            "conv2d_9 (Conv2D)               (None, 10, 20, 128)  147584      conv2d_8[0][0]                   \n",
            "__________________________________________________________________________________________________\n",
            "conv2d_transpose_1 (Conv2DTrans (None, 20, 40, 64)   73792       conv2d_9[0][0]                   \n",
            "__________________________________________________________________________________________________\n",
            "concatenate_1 (Concatenate)     (None, 20, 40, 128)  0           conv2d_transpose_1[0][0]         \n",
            "                                                                 conv2d_3[0][0]                   \n",
            "__________________________________________________________________________________________________\n",
            "conv2d_10 (Conv2D)              (None, 20, 40, 64)   73792       concatenate_1[0][0]              \n",
            "__________________________________________________________________________________________________\n",
            "conv2d_11 (Conv2D)              (None, 20, 40, 64)   36928       conv2d_10[0][0]                  \n",
            "__________________________________________________________________________________________________\n",
            "conv2d_transpose_2 (Conv2DTrans (None, 40, 80, 32)   18464       conv2d_11[0][0]                  \n",
            "__________________________________________________________________________________________________\n",
            "concatenate_2 (Concatenate)     (None, 40, 80, 64)   0           conv2d_transpose_2[0][0]         \n",
            "                                                                 conv2d_1[0][0]                   \n",
            "__________________________________________________________________________________________________\n",
            "conv2d_12 (Conv2D)              (None, 40, 80, 32)   18464       concatenate_2[0][0]              \n",
            "__________________________________________________________________________________________________\n",
            "conv2d_13 (Conv2D)              (None, 40, 80, 32)   9248        conv2d_12[0][0]                  \n",
            "__________________________________________________________________________________________________\n",
            "conv2d_14 (Conv2D)              (None, 40, 80, 1)    33          conv2d_13[0][0]                  \n",
            "==================================================================================================\n",
            "Total params: 2,140,065\n",
            "Trainable params: 2,140,065\n",
            "Non-trainable params: 0\n",
            "__________________________________________________________________________________________________\n"
          ],
          "name": "stdout"
        }
      ]
    },
    {
      "cell_type": "code",
      "metadata": {
        "colab": {
          "base_uri": "https://localhost:8080/"
        },
        "id": "p_j54O52ZxO0",
        "outputId": "af42c98b-84c9-4aa8-d066-b6c9f37ec4df"
      },
      "source": [
        "history=model.fit_generator(generator=train_generator, \n",
        "                    steps_per_epoch=EPOCH_STEP_TRAIN, \n",
        "                   epochs=NUM_OF_EPOCHS)"
      ],
      "execution_count": 15,
      "outputs": [
        {
          "output_type": "stream",
          "text": [
            "/usr/local/lib/python3.7/dist-packages/tensorflow/python/keras/engine/training.py:1940: UserWarning: `Model.fit_generator` is deprecated and will be removed in a future version. Please use `Model.fit`, which supports generators.\n",
            "  warnings.warn('`Model.fit_generator` is deprecated and '\n"
          ],
          "name": "stderr"
        },
        {
          "output_type": "stream",
          "text": [
            "Epoch 1/100\n",
            "3/3 [==============================] - 42s 19s/step - loss: 0.6644 - accuracy: 0.6708\n",
            "Epoch 2/100\n",
            "3/3 [==============================] - 57s 19s/step - loss: 0.4796 - accuracy: 0.9855\n",
            "Epoch 3/100\n",
            "3/3 [==============================] - 57s 19s/step - loss: 0.1568 - accuracy: 0.9889\n",
            "Epoch 4/100\n",
            "3/3 [==============================] - 58s 19s/step - loss: 0.1116 - accuracy: 0.9876\n",
            "Epoch 5/100\n",
            "3/3 [==============================] - 57s 19s/step - loss: 0.1070 - accuracy: 0.9826\n",
            "Epoch 6/100\n",
            "3/3 [==============================] - 56s 19s/step - loss: 0.1261 - accuracy: 0.9790\n",
            "Epoch 7/100\n",
            "3/3 [==============================] - 57s 19s/step - loss: 0.0793 - accuracy: 0.9883\n",
            "Epoch 8/100\n",
            "3/3 [==============================] - 55s 18s/step - loss: 0.0630 - accuracy: 0.9897\n",
            "Epoch 9/100\n",
            "3/3 [==============================] - 56s 19s/step - loss: 0.0865 - accuracy: 0.9874\n",
            "Epoch 10/100\n",
            "3/3 [==============================] - 57s 19s/step - loss: 0.0998 - accuracy: 0.9828\n",
            "Epoch 11/100\n",
            "3/3 [==============================] - 56s 19s/step - loss: 0.1073 - accuracy: 0.9814\n",
            "Epoch 12/100\n",
            "3/3 [==============================] - 57s 19s/step - loss: 0.1238 - accuracy: 0.9776\n",
            "Epoch 13/100\n",
            "3/3 [==============================] - 58s 20s/step - loss: 0.1090 - accuracy: 0.9780\n",
            "Epoch 14/100\n",
            "3/3 [==============================] - 55s 19s/step - loss: 0.1131 - accuracy: 0.9766\n",
            "Epoch 15/100\n",
            "3/3 [==============================] - 55s 18s/step - loss: 0.0644 - accuracy: 0.9909\n",
            "Epoch 16/100\n",
            "3/3 [==============================] - 55s 18s/step - loss: 0.0897 - accuracy: 0.9849\n",
            "Epoch 17/100\n",
            "3/3 [==============================] - 55s 18s/step - loss: 0.0777 - accuracy: 0.9860\n",
            "Epoch 18/100\n",
            "3/3 [==============================] - 55s 18s/step - loss: 0.0935 - accuracy: 0.9820\n",
            "Epoch 19/100\n",
            "3/3 [==============================] - 55s 19s/step - loss: 0.0669 - accuracy: 0.9886\n",
            "Epoch 20/100\n",
            "3/3 [==============================] - 55s 19s/step - loss: 0.1037 - accuracy: 0.9794\n",
            "Epoch 21/100\n",
            "3/3 [==============================] - 54s 18s/step - loss: 0.0811 - accuracy: 0.9837\n",
            "Epoch 22/100\n",
            "3/3 [==============================] - 55s 18s/step - loss: 0.0949 - accuracy: 0.9802\n",
            "Epoch 23/100\n",
            "3/3 [==============================] - 54s 18s/step - loss: 0.0794 - accuracy: 0.9862\n",
            "Epoch 24/100\n",
            "3/3 [==============================] - 54s 18s/step - loss: 0.0907 - accuracy: 0.9825\n",
            "Epoch 25/100\n",
            "3/3 [==============================] - 54s 18s/step - loss: 0.0862 - accuracy: 0.9843\n",
            "Epoch 26/100\n",
            "3/3 [==============================] - 55s 18s/step - loss: 0.0913 - accuracy: 0.9809\n",
            "Epoch 27/100\n",
            "3/3 [==============================] - 54s 18s/step - loss: 0.0786 - accuracy: 0.9847\n",
            "Epoch 28/100\n",
            "3/3 [==============================] - 56s 19s/step - loss: 0.0936 - accuracy: 0.9809\n",
            "Epoch 29/100\n",
            "3/3 [==============================] - 57s 19s/step - loss: 0.0611 - accuracy: 0.9887\n",
            "Epoch 30/100\n",
            "3/3 [==============================] - 55s 18s/step - loss: 0.0919 - accuracy: 0.9802\n",
            "Epoch 31/100\n",
            "3/3 [==============================] - 54s 18s/step - loss: 0.0847 - accuracy: 0.9814\n",
            "Epoch 32/100\n",
            "3/3 [==============================] - 54s 18s/step - loss: 0.0764 - accuracy: 0.9846\n",
            "Epoch 33/100\n",
            "3/3 [==============================] - 55s 18s/step - loss: 0.0985 - accuracy: 0.9776\n",
            "Epoch 34/100\n",
            "3/3 [==============================] - 57s 19s/step - loss: 0.0779 - accuracy: 0.9836\n",
            "Epoch 35/100\n",
            "3/3 [==============================] - 56s 19s/step - loss: 0.0914 - accuracy: 0.9794\n",
            "Epoch 36/100\n",
            "3/3 [==============================] - 55s 19s/step - loss: 0.0698 - accuracy: 0.9848\n",
            "Epoch 37/100\n",
            "3/3 [==============================] - 55s 19s/step - loss: 0.0588 - accuracy: 0.9886\n",
            "Epoch 38/100\n",
            "3/3 [==============================] - 56s 19s/step - loss: 0.0922 - accuracy: 0.9796\n",
            "Epoch 39/100\n",
            "3/3 [==============================] - 54s 18s/step - loss: 0.0771 - accuracy: 0.9840\n",
            "Epoch 40/100\n",
            "3/3 [==============================] - 55s 19s/step - loss: 0.0675 - accuracy: 0.9866\n",
            "Epoch 41/100\n",
            "3/3 [==============================] - 55s 19s/step - loss: 0.0535 - accuracy: 0.9897\n",
            "Epoch 42/100\n",
            "3/3 [==============================] - 56s 19s/step - loss: 0.0750 - accuracy: 0.9840\n",
            "Epoch 43/100\n",
            "3/3 [==============================] - 54s 18s/step - loss: 0.0875 - accuracy: 0.9805\n",
            "Epoch 44/100\n",
            "3/3 [==============================] - 54s 18s/step - loss: 0.1104 - accuracy: 0.9742\n",
            "Epoch 45/100\n",
            "3/3 [==============================] - 55s 18s/step - loss: 0.0889 - accuracy: 0.9806\n",
            "Epoch 46/100\n",
            "3/3 [==============================] - 60s 19s/step - loss: 0.0724 - accuracy: 0.9842\n",
            "Epoch 47/100\n",
            "3/3 [==============================] - 56s 19s/step - loss: 0.0616 - accuracy: 0.9884\n",
            "Epoch 48/100\n",
            "3/3 [==============================] - 57s 19s/step - loss: 0.0625 - accuracy: 0.9864\n",
            "Epoch 49/100\n",
            "3/3 [==============================] - 54s 18s/step - loss: 0.0627 - accuracy: 0.9864\n",
            "Epoch 50/100\n",
            "3/3 [==============================] - 55s 18s/step - loss: 0.0860 - accuracy: 0.9812\n",
            "Epoch 51/100\n",
            "3/3 [==============================] - 54s 18s/step - loss: 0.0783 - accuracy: 0.9831\n",
            "Epoch 52/100\n",
            "3/3 [==============================] - 52s 18s/step - loss: 0.0721 - accuracy: 0.9844\n",
            "Epoch 53/100\n",
            "3/3 [==============================] - 58s 19s/step - loss: 0.0653 - accuracy: 0.9854\n",
            "Epoch 54/100\n",
            "3/3 [==============================] - 56s 18s/step - loss: 0.0608 - accuracy: 0.9863\n",
            "Epoch 55/100\n",
            "3/3 [==============================] - 56s 19s/step - loss: 0.0810 - accuracy: 0.9814\n",
            "Epoch 56/100\n",
            "3/3 [==============================] - 56s 19s/step - loss: 0.0832 - accuracy: 0.9806\n",
            "Epoch 57/100\n",
            "3/3 [==============================] - 57s 18s/step - loss: 0.0580 - accuracy: 0.9886\n",
            "Epoch 58/100\n",
            "3/3 [==============================] - 55s 18s/step - loss: 0.0668 - accuracy: 0.9853\n",
            "Epoch 59/100\n",
            "3/3 [==============================] - 53s 18s/step - loss: 0.0896 - accuracy: 0.9800\n",
            "Epoch 60/100\n",
            "3/3 [==============================] - 53s 18s/step - loss: 0.0761 - accuracy: 0.9839\n",
            "Epoch 61/100\n",
            "3/3 [==============================] - 56s 19s/step - loss: 0.0473 - accuracy: 0.9917\n",
            "Epoch 62/100\n",
            "3/3 [==============================] - 55s 18s/step - loss: 0.0738 - accuracy: 0.9837\n",
            "Epoch 63/100\n",
            "3/3 [==============================] - 54s 18s/step - loss: 0.0799 - accuracy: 0.9828\n",
            "Epoch 64/100\n",
            "3/3 [==============================] - 53s 18s/step - loss: 0.0831 - accuracy: 0.9809\n",
            "Epoch 65/100\n",
            "3/3 [==============================] - 55s 18s/step - loss: 0.1079 - accuracy: 0.9740\n",
            "Epoch 66/100\n",
            "3/3 [==============================] - 54s 18s/step - loss: 0.0698 - accuracy: 0.9855\n",
            "Epoch 67/100\n",
            "3/3 [==============================] - 55s 18s/step - loss: 0.0944 - accuracy: 0.9782\n",
            "Epoch 68/100\n",
            "3/3 [==============================] - 56s 18s/step - loss: 0.0629 - accuracy: 0.9863\n",
            "Epoch 69/100\n",
            "3/3 [==============================] - 54s 18s/step - loss: 0.0773 - accuracy: 0.9836\n",
            "Epoch 70/100\n",
            "3/3 [==============================] - 54s 18s/step - loss: 0.0797 - accuracy: 0.9823\n",
            "Epoch 71/100\n",
            "3/3 [==============================] - 53s 18s/step - loss: 0.0903 - accuracy: 0.9793\n",
            "Epoch 72/100\n",
            "3/3 [==============================] - 54s 18s/step - loss: 0.0748 - accuracy: 0.9835\n",
            "Epoch 73/100\n",
            "3/3 [==============================] - 54s 18s/step - loss: 0.0724 - accuracy: 0.9844\n",
            "Epoch 74/100\n",
            "3/3 [==============================] - 58s 20s/step - loss: 0.0926 - accuracy: 0.9793\n",
            "Epoch 75/100\n",
            "3/3 [==============================] - 54s 18s/step - loss: 0.0846 - accuracy: 0.9815\n",
            "Epoch 76/100\n",
            "3/3 [==============================] - 54s 18s/step - loss: 0.0822 - accuracy: 0.9806\n",
            "Epoch 77/100\n",
            "3/3 [==============================] - 52s 18s/step - loss: 0.0887 - accuracy: 0.9794\n",
            "Epoch 78/100\n",
            "3/3 [==============================] - 54s 18s/step - loss: 0.0815 - accuracy: 0.9819\n",
            "Epoch 79/100\n",
            "3/3 [==============================] - 58s 18s/step - loss: 0.0719 - accuracy: 0.9842\n",
            "Epoch 80/100\n",
            "3/3 [==============================] - 54s 18s/step - loss: 0.0675 - accuracy: 0.9857\n",
            "Epoch 81/100\n",
            "3/3 [==============================] - 54s 18s/step - loss: 0.0996 - accuracy: 0.9776\n",
            "Epoch 82/100\n",
            "3/3 [==============================] - 54s 18s/step - loss: 0.0935 - accuracy: 0.9780\n",
            "Epoch 83/100\n",
            "3/3 [==============================] - 54s 18s/step - loss: 0.0781 - accuracy: 0.9819\n",
            "Epoch 84/100\n",
            "3/3 [==============================] - 58s 20s/step - loss: 0.0730 - accuracy: 0.9842\n",
            "Epoch 85/100\n",
            "3/3 [==============================] - 54s 18s/step - loss: 0.0616 - accuracy: 0.9868\n",
            "Epoch 86/100\n",
            "3/3 [==============================] - 56s 19s/step - loss: 0.0655 - accuracy: 0.9859\n",
            "Epoch 87/100\n",
            "3/3 [==============================] - 54s 18s/step - loss: 0.0940 - accuracy: 0.9773\n",
            "Epoch 88/100\n",
            "3/3 [==============================] - 54s 18s/step - loss: 0.0973 - accuracy: 0.9764\n",
            "Epoch 89/100\n",
            "3/3 [==============================] - 57s 19s/step - loss: 0.0606 - accuracy: 0.9880\n",
            "Epoch 90/100\n",
            "3/3 [==============================] - 53s 18s/step - loss: 0.0673 - accuracy: 0.9865\n",
            "Epoch 91/100\n",
            "3/3 [==============================] - 55s 18s/step - loss: 0.0838 - accuracy: 0.9817\n",
            "Epoch 92/100\n",
            "3/3 [==============================] - 55s 19s/step - loss: 0.1040 - accuracy: 0.9751\n",
            "Epoch 93/100\n",
            "3/3 [==============================] - 53s 18s/step - loss: 0.0788 - accuracy: 0.9848\n",
            "Epoch 94/100\n",
            "3/3 [==============================] - 52s 17s/step - loss: 0.0607 - accuracy: 0.9873\n",
            "Epoch 95/100\n",
            "3/3 [==============================] - 54s 18s/step - loss: 0.0875 - accuracy: 0.9822\n",
            "Epoch 96/100\n",
            "3/3 [==============================] - 56s 18s/step - loss: 0.0688 - accuracy: 0.9855\n",
            "Epoch 97/100\n",
            "3/3 [==============================] - 56s 19s/step - loss: 0.0769 - accuracy: 0.9825\n",
            "Epoch 98/100\n",
            "3/3 [==============================] - 55s 18s/step - loss: 0.0722 - accuracy: 0.9844\n",
            "Epoch 99/100\n",
            "3/3 [==============================] - 53s 18s/step - loss: 0.0825 - accuracy: 0.9818\n",
            "Epoch 100/100\n",
            "3/3 [==============================] - 53s 18s/step - loss: 0.0658 - accuracy: 0.9860\n"
          ],
          "name": "stdout"
        }
      ]
    },
    {
      "cell_type": "code",
      "metadata": {
        "colab": {
          "base_uri": "https://localhost:8080/"
        },
        "id": "fyRsAVEKzipN",
        "outputId": "3b97b565-e70c-4b32-9164-23329abd2618"
      },
      "source": [
        "# list all data in history\n",
        "print(history.history.keys())\n"
      ],
      "execution_count": 16,
      "outputs": [
        {
          "output_type": "stream",
          "text": [
            "dict_keys(['loss', 'accuracy'])\n"
          ],
          "name": "stdout"
        }
      ]
    },
    {
      "cell_type": "code",
      "metadata": {
        "colab": {
          "base_uri": "https://localhost:8080/",
          "height": 295
        },
        "id": "T6f0jHHZQWU2",
        "outputId": "a0e4998b-cb79-412a-d204-21a2751be4ca"
      },
      "source": [
        "# summarize history for accuracy\n",
        "plt.plot(history.history['accuracy'])\n",
        "\n",
        "plt.title('model accuracy')\n",
        "plt.ylabel('accuracy')\n",
        "plt.xlabel('epoch')\n",
        "plt.legend(['train', 'test'], loc='upper left')\n",
        "plt.show()\n"
      ],
      "execution_count": 18,
      "outputs": [
        {
          "output_type": "display_data",
          "data": {
            "image/png": "[encoded data removed]",
            "text/plain": [
              "<Figure size 432x288 with 1 Axes>"
            ]
          },
          "metadata": {
            "tags": [],
            "needs_background": "light"
          }
        }
      ]
    },
    {
      "cell_type": "code",
      "metadata": {
        "colab": {
          "base_uri": "https://localhost:8080/",
          "height": 295
        },
        "id": "2wRAwhYPz8Op",
        "outputId": "b8de409b-ed53-41c9-b5b4-56dc288a927a"
      },
      "source": [
        "# summarize history for loss\n",
        "plt.plot(history.history['loss'])\n",
        "#plt.plot(history.history['val_loss'])\n",
        "plt.title('model loss')\n",
        "plt.ylabel('loss')\n",
        "plt.xlabel('epoch')\n",
        "plt.legend(['train', 'test'], loc='upper left')\n",
        "plt.show()"
      ],
      "execution_count": 19,
      "outputs": [
        {
          "output_type": "display_data",
          "data": {
            "image/png": "[encoded data removed]",
            "text/plain": [
              "<Figure size 432x288 with 1 Axes>"
            ]
          },
          "metadata": {
            "tags": [],
            "needs_background": "light"
          }
        }
      ]
    },
    {
      "cell_type": "code",
      "metadata": {
        "id": "WLvLHZsTN6W2"
      },
      "source": [
        "model.save(f'unet2D_results_{IMAGE_HEIGHT}_{IMAGE_WIDTH}.h5')\n"
      ],
      "execution_count": 21,
      "outputs": []
    },
    {
      "cell_type": "code",
      "metadata": {
        "id": "TiE99__iSqAZ"
      },
      "source": [
        "from tensorflow import keras\n",
        "model = keras.models.load_model('/content/UNET-ToothSegmentation_40_80.h5')"
      ],
      "execution_count": null,
      "outputs": []
    },
    {
      "cell_type": "code",
      "metadata": {
        "id": "xPp6CufKUOge"
      },
      "source": [
        "import tensorflow.keras as keras\n"
      ],
      "execution_count": null,
      "outputs": []
    },
    {
      "cell_type": "code",
      "metadata": {
        "colab": {
          "base_uri": "https://localhost:8080/",
          "height": 306
        },
        "id": "OZST6Sr2TYTM",
        "outputId": "49598ceb-4744-4aac-a95c-fc8a4c317cf3"
      },
      "source": [
        "model.evaluate()"
      ],
      "execution_count": null,
      "outputs": [
        {
          "output_type": "error",
          "ename": "ValueError",
          "evalue": "ignored",
          "traceback": [
            "\u001b[0;31m---------------------------------------------------------------------------\u001b[0m",
            "\u001b[0;31mValueError\u001b[0m                                Traceback (most recent call last)",
            "\u001b[0;32m<ipython-input-33-34717fd9598c>\u001b[0m in \u001b[0;36m<module>\u001b[0;34m()\u001b[0m\n\u001b[0;32m----> 1\u001b[0;31m \u001b[0mmodel\u001b[0m\u001b[0;34m.\u001b[0m\u001b[0mevaluate\u001b[0m\u001b[0;34m(\u001b[0m\u001b[0;34m)\u001b[0m\u001b[0;34m\u001b[0m\u001b[0;34m\u001b[0m\u001b[0m\n\u001b[0m",
            "\u001b[0;32m/usr/local/lib/python3.7/dist-packages/tensorflow/python/keras/engine/training.py\u001b[0m in \u001b[0;36mevaluate\u001b[0;34m(self, x, y, batch_size, verbose, sample_weight, steps, callbacks, max_queue_size, workers, use_multiprocessing, return_dict, **kwargs)\u001b[0m\n\u001b[1;32m   1464\u001b[0m             \u001b[0muse_multiprocessing\u001b[0m\u001b[0;34m=\u001b[0m\u001b[0muse_multiprocessing\u001b[0m\u001b[0;34m,\u001b[0m\u001b[0;34m\u001b[0m\u001b[0;34m\u001b[0m\u001b[0m\n\u001b[1;32m   1465\u001b[0m             \u001b[0mmodel\u001b[0m\u001b[0;34m=\u001b[0m\u001b[0mself\u001b[0m\u001b[0;34m,\u001b[0m\u001b[0;34m\u001b[0m\u001b[0;34m\u001b[0m\u001b[0m\n\u001b[0;32m-> 1466\u001b[0;31m             steps_per_execution=self._steps_per_execution)\n\u001b[0m\u001b[1;32m   1467\u001b[0m \u001b[0;34m\u001b[0m\u001b[0m\n\u001b[1;32m   1468\u001b[0m       \u001b[0;31m# Container that configures and calls `tf.keras.Callback`s.\u001b[0m\u001b[0;34m\u001b[0m\u001b[0;34m\u001b[0m\u001b[0;34m\u001b[0m\u001b[0m\n",
            "\u001b[0;32m/usr/local/lib/python3.7/dist-packages/tensorflow/python/keras/engine/data_adapter.py\u001b[0m in \u001b[0;36mget_data_handler\u001b[0;34m(*args, **kwargs)\u001b[0m\n\u001b[1;32m   1362\u001b[0m   \u001b[0;32mif\u001b[0m \u001b[0mgetattr\u001b[0m\u001b[0;34m(\u001b[0m\u001b[0mkwargs\u001b[0m\u001b[0;34m[\u001b[0m\u001b[0;34m\"model\"\u001b[0m\u001b[0;34m]\u001b[0m\u001b[0;34m,\u001b[0m \u001b[0;34m\"_cluster_coordinator\"\u001b[0m\u001b[0;34m,\u001b[0m \u001b[0;32mNone\u001b[0m\u001b[0;34m)\u001b[0m\u001b[0;34m:\u001b[0m\u001b[0;34m\u001b[0m\u001b[0;34m\u001b[0m\u001b[0m\n\u001b[1;32m   1363\u001b[0m     \u001b[0;32mreturn\u001b[0m \u001b[0m_ClusterCoordinatorDataHandler\u001b[0m\u001b[0;34m(\u001b[0m\u001b[0;34m*\u001b[0m\u001b[0margs\u001b[0m\u001b[0;34m,\u001b[0m \u001b[0;34m**\u001b[0m\u001b[0mkwargs\u001b[0m\u001b[0;34m)\u001b[0m\u001b[0;34m\u001b[0m\u001b[0;34m\u001b[0m\u001b[0m\n\u001b[0;32m-> 1364\u001b[0;31m   \u001b[0;32mreturn\u001b[0m \u001b[0mDataHandler\u001b[0m\u001b[0;34m(\u001b[0m\u001b[0;34m*\u001b[0m\u001b[0margs\u001b[0m\u001b[0;34m,\u001b[0m \u001b[0;34m**\u001b[0m\u001b[0mkwargs\u001b[0m\u001b[0;34m)\u001b[0m\u001b[0;34m\u001b[0m\u001b[0;34m\u001b[0m\u001b[0m\n\u001b[0m\u001b[1;32m   1365\u001b[0m \u001b[0;34m\u001b[0m\u001b[0m\n\u001b[1;32m   1366\u001b[0m \u001b[0;34m\u001b[0m\u001b[0m\n",
            "\u001b[0;32m/usr/local/lib/python3.7/dist-packages/tensorflow/python/keras/engine/data_adapter.py\u001b[0m in \u001b[0;36m__init__\u001b[0;34m(self, x, y, sample_weight, batch_size, steps_per_epoch, initial_epoch, epochs, shuffle, class_weight, max_queue_size, workers, use_multiprocessing, model, steps_per_execution, distribute)\u001b[0m\n\u001b[1;32m   1150\u001b[0m       \u001b[0mself\u001b[0m\u001b[0;34m.\u001b[0m\u001b[0m_steps_per_execution_value\u001b[0m \u001b[0;34m=\u001b[0m \u001b[0msteps_per_execution\u001b[0m\u001b[0;34m.\u001b[0m\u001b[0mnumpy\u001b[0m\u001b[0;34m(\u001b[0m\u001b[0;34m)\u001b[0m\u001b[0;34m.\u001b[0m\u001b[0mitem\u001b[0m\u001b[0;34m(\u001b[0m\u001b[0;34m)\u001b[0m\u001b[0;34m\u001b[0m\u001b[0;34m\u001b[0m\u001b[0m\n\u001b[1;32m   1151\u001b[0m \u001b[0;34m\u001b[0m\u001b[0m\n\u001b[0;32m-> 1152\u001b[0;31m     \u001b[0madapter_cls\u001b[0m \u001b[0;34m=\u001b[0m \u001b[0mselect_data_adapter\u001b[0m\u001b[0;34m(\u001b[0m\u001b[0mx\u001b[0m\u001b[0;34m,\u001b[0m \u001b[0my\u001b[0m\u001b[0;34m)\u001b[0m\u001b[0;34m\u001b[0m\u001b[0;34m\u001b[0m\u001b[0m\n\u001b[0m\u001b[1;32m   1153\u001b[0m     \u001b[0mself\u001b[0m\u001b[0;34m.\u001b[0m\u001b[0m_verify_data_adapter_compatibility\u001b[0m\u001b[0;34m(\u001b[0m\u001b[0madapter_cls\u001b[0m\u001b[0;34m)\u001b[0m\u001b[0;34m\u001b[0m\u001b[0;34m\u001b[0m\u001b[0m\n\u001b[1;32m   1154\u001b[0m     self._adapter = adapter_cls(\n",
            "\u001b[0;32m/usr/local/lib/python3.7/dist-packages/tensorflow/python/keras/engine/data_adapter.py\u001b[0m in \u001b[0;36mselect_data_adapter\u001b[0;34m(x, y)\u001b[0m\n\u001b[1;32m    992\u001b[0m         \u001b[0;34m\"Failed to find data adapter that can handle \"\u001b[0m\u001b[0;34m\u001b[0m\u001b[0;34m\u001b[0m\u001b[0m\n\u001b[1;32m    993\u001b[0m         \"input: {}, {}\".format(\n\u001b[0;32m--> 994\u001b[0;31m             _type_name(x), _type_name(y)))\n\u001b[0m\u001b[1;32m    995\u001b[0m   \u001b[0;32melif\u001b[0m \u001b[0mlen\u001b[0m\u001b[0;34m(\u001b[0m\u001b[0madapter_cls\u001b[0m\u001b[0;34m)\u001b[0m \u001b[0;34m>\u001b[0m \u001b[0;36m1\u001b[0m\u001b[0;34m:\u001b[0m\u001b[0;34m\u001b[0m\u001b[0;34m\u001b[0m\u001b[0m\n\u001b[1;32m    996\u001b[0m     raise RuntimeError(\n",
            "\u001b[0;31mValueError\u001b[0m: Failed to find data adapter that can handle input: <class 'NoneType'>, <class 'NoneType'>"
          ]
        }
      ]
    },
    {
      "cell_type": "code",
      "metadata": {
        "colab": {
          "base_uri": "https://localhost:8080/",
          "height": 163
        },
        "id": "GoyvocDFN96B",
        "outputId": "2bc72afe-183e-4720-abcf-f92806995965"
      },
      "source": [
        "test_generator = create_segmentation_generator_test(data_dir_test_image, data_dir_test_mask, 1)\n"
      ],
      "execution_count": null,
      "outputs": [
        {
          "output_type": "error",
          "ename": "NameError",
          "evalue": "ignored",
          "traceback": [
            "\u001b[0;31m---------------------------------------------------------------------------\u001b[0m",
            "\u001b[0;31mNameError\u001b[0m                                 Traceback (most recent call last)",
            "\u001b[0;32m<ipython-input-18-2667f93cb069>\u001b[0m in \u001b[0;36m<module>\u001b[0;34m()\u001b[0m\n\u001b[0;32m----> 1\u001b[0;31m \u001b[0mtest_generator\u001b[0m \u001b[0;34m=\u001b[0m \u001b[0mcreate_segmentation_generator_test\u001b[0m\u001b[0;34m(\u001b[0m\u001b[0mdata_dir_test_image\u001b[0m\u001b[0;34m,\u001b[0m \u001b[0mdata_dir_test_mask\u001b[0m\u001b[0;34m,\u001b[0m \u001b[0;36m1\u001b[0m\u001b[0;34m)\u001b[0m\u001b[0;34m\u001b[0m\u001b[0;34m\u001b[0m\u001b[0m\n\u001b[0m",
            "\u001b[0;31mNameError\u001b[0m: name 'data_dir_test_image' is not defined"
          ]
        }
      ]
    },
    {
      "cell_type": "code",
      "metadata": {
        "id": "NRSMpfqJOCcv"
      },
      "source": [
        "def show_prediction(datagen, num=1):\n",
        "    for i in range(0,num):\n",
        "        image,mask = next(datagen)\n",
        "        pred_mask = model.predict(image)[0] > 0.5\n",
        "        display([image[0], mask[0], pred_mask])"
      ],
      "execution_count": null,
      "outputs": []
    },
    {
      "cell_type": "code",
      "metadata": {
        "colab": {
          "base_uri": "https://localhost:8080/",
          "height": 163
        },
        "id": "bRPb_SjmOIF4",
        "outputId": "fafe87dc-2c67-4493-cd84-4e17b5a55977"
      },
      "source": [
        "show_prediction(test_generator, 3)\n"
      ],
      "execution_count": null,
      "outputs": [
        {
          "output_type": "error",
          "ename": "NameError",
          "evalue": "ignored",
          "traceback": [
            "\u001b[0;31m---------------------------------------------------------------------------\u001b[0m",
            "\u001b[0;31mNameError\u001b[0m                                 Traceback (most recent call last)",
            "\u001b[0;32m<ipython-input-20-4982594a635e>\u001b[0m in \u001b[0;36m<module>\u001b[0;34m()\u001b[0m\n\u001b[0;32m----> 1\u001b[0;31m \u001b[0mshow_prediction\u001b[0m\u001b[0;34m(\u001b[0m\u001b[0mtest_generator\u001b[0m\u001b[0;34m,\u001b[0m \u001b[0;36m3\u001b[0m\u001b[0;34m)\u001b[0m\u001b[0;34m\u001b[0m\u001b[0;34m\u001b[0m\u001b[0m\n\u001b[0m",
            "\u001b[0;31mNameError\u001b[0m: name 'test_generator' is not defined"
          ]
        }
      ]
    },
    {
      "cell_type": "code",
      "metadata": {
        "id": "axOkFwhAOKJb"
      },
      "source": [
        ""
      ],
      "execution_count": null,
      "outputs": []
    }
  ]
}