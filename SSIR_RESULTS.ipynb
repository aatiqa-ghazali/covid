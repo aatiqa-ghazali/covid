{
  "nbformat": 4,
  "nbformat_minor": 0,
  "metadata": {
    "colab": {
      "name": "Untitled2.ipynb",
      "provenance": [],
      "collapsed_sections": [],
      "machine_shape": "hm",
      "authorship_tag": "ABX9TyPg5yqHIU5iW+nIaqQJVrvr",
      "include_colab_link": true
    },
    "kernelspec": {
      "name": "python3",
      "display_name": "Python 3"
    },
    "language_info": {
      "name": "python"
    },
    "accelerator": "GPU"
  },
  "cells": [
    {
      "cell_type": "markdown",
      "metadata": {
        "id": "view-in-github",
        "colab_type": "text"
      },
      "source": [
        "<a href=\"https://colab.research.google.com/github/aatiqa-ghazali/covid/blob/main/SSIR_RESULTS.ipynb\" target=\"_parent\"><img src=\"https://colab.research.google.com/assets/colab-badge.svg\" alt=\"Open In Colab\"/></a>"
      ]
    },
    {
      "cell_type": "code",
      "metadata": {
        "colab": {
          "base_uri": "https://localhost:8080/"
        },
        "id": "I0GqBXBzYAgu",
        "outputId": "5e91ca5e-372b-4344-ea52-cbf6a2a45573"
      },
      "source": [
        "#mounting_drive\n",
        "from google.colab import drive\n",
        "drive.mount('/content/drive')"
      ],
      "execution_count": 41,
      "outputs": [
        {
          "output_type": "stream",
          "name": "stdout",
          "text": [
            "Drive already mounted at /content/drive; to attempt to forcibly remount, call drive.mount(\"/content/drive\", force_remount=True).\n"
          ]
        }
      ]
    },
    {
      "cell_type": "code",
      "metadata": {
        "colab": {
          "base_uri": "https://localhost:8080/"
        },
        "id": "Wr4nkCHhaUTK",
        "outputId": "1ef7473a-5d15-48be-8563-704392dbfd57"
      },
      "source": [
        "!pip install -q condacolab\n",
        "import condacolab\n",
        "condacolab.install()"
      ],
      "execution_count": 42,
      "outputs": [
        {
          "output_type": "stream",
          "name": "stdout",
          "text": [
            "✨🍰✨ Everything looks OK!\n"
          ]
        }
      ]
    },
    {
      "cell_type": "code",
      "metadata": {
        "colab": {
          "base_uri": "https://localhost:8080/"
        },
        "id": "uyMmOzD3Ew3r",
        "outputId": "206a9b94-7423-41f8-e496-ce40445beeec"
      },
      "source": [
        "# Check the version of CUDA on the system\n",
        "!cat /usr/local/cuda/version.txt"
      ],
      "execution_count": 1,
      "outputs": [
        {
          "output_type": "stream",
          "name": "stdout",
          "text": [
            "CUDA Version 11.0.228\n"
          ]
        }
      ]
    },
    {
      "cell_type": "code",
      "metadata": {
        "colab": {
          "base_uri": "https://localhost:8080/"
        },
        "id": "Ad0v3Z_ha-w0",
        "outputId": "fffc33a2-b0e7-4390-a38f-08a8848fe746"
      },
      "source": [
        "#install_pytorch_0.4.1\n",
        "#use_pytorch_1_with_this_cuda_version\n",
        "\n",
        "!conda install pytorch=0.4.1 -c pytorch\n"
      ],
      "execution_count": 20,
      "outputs": [
        {
          "output_type": "stream",
          "name": "stdout",
          "text": [
            "Collecting package metadata (current_repodata.json): - \b\b\\ \b\b| \b\b/ \b\b- \b\b\\ \b\b| \b\b/ \b\b- \b\b\\ \b\b| \b\b/ \b\b- \b\b\\ \b\b| \b\b/ \b\b- \b\b\\ \b\b| \b\b/ \b\b- \b\bdone\n",
            "Solving environment: | \b\b/ \b\b- \b\b\\ \b\b| \b\b/ \b\b- \b\b\\ \b\b| \b\b/ \b\b- \b\b\\ \b\b| \b\b/ \b\b- \b\b\\ \b\b| \b\b/ \b\b- \b\b\\ \b\b| \b\b/ \b\b- \b\b\\ \b\b| \b\b/ \b\b- \b\b\\ \b\b| \b\b/ \b\b- \b\b\\ \b\b| \b\b/ \b\b- \b\b\\ \b\b| \b\b/ \b\b- \b\b\\ \b\b| \b\b/ \b\b- \b\b\\ \b\b| \b\b/ \b\b- \b\b\\ \b\b| \b\b/ \b\b- \b\b\\ \b\b| \b\b/ \b\b- \b\b\\ \b\b| \b\b/ \b\b- \b\b\\ \b\b| \b\b/ \b\b- \b\b\\ \b\b| \b\b/ \b\b- \b\b\\ \b\b| \b\b/ \b\b- \b\b\\ \b\b| \b\b/ \b\b- \b\b\\ \b\b| \b\b/ \b\b- \b\b\\ \b\b| \b\b/ \b\b- \b\b\\ \b\b| \b\b/ \b\b- \b\b\\ \b\b| \b\b/ \b\b- \b\bdone\n",
            "\n",
            "## Package Plan ##\n",
            "\n",
            "  environment location: /usr/local\n",
            "\n",
            "  added / updated specs:\n",
            "    - pytorch=0.4.1\n",
            "\n",
            "\n",
            "The following packages will be downloaded:\n",
            "\n",
            "    package                    |            build\n",
            "    ---------------------------|-----------------\n",
            "    pytorch-0.4.1              |py37_py36_py35_py27__9.0.176_7.1.2_2       471.7 MB  pytorch\n",
            "    torchvision-0.2.1          |             py_2          37 KB  pytorch\n",
            "    ------------------------------------------------------------\n",
            "                                           Total:       471.7 MB\n",
            "\n",
            "The following packages will be DOWNGRADED:\n",
            "\n",
            "  pytorch              1.0.0-py3.7_cuda9.0.176_cudnn7.4.1_1 --> 0.4.1-py37_py36_py35_py27__9.0.176_7.1.2_2\n",
            "  torchvision                                    0.2.2-py_3 --> 0.2.1-py_2\n",
            "\n",
            "\n",
            "\n",
            "Downloading and Extracting Packages\n",
            "pytorch-0.4.1        | 471.7 MB  | : 100% 1.0/1 [01:03<00:00, 63.87s/it]               \n",
            "torchvision-0.2.1    | 37 KB     | : 100% 1.0/1 [00:00<00:00,  2.59it/s]               \n",
            "Preparing transaction: | \b\b/ \b\bdone\n",
            "Verifying transaction: \\ \b\b| \b\bdone\n",
            "Executing transaction: - \b\b\\ \b\b| \b\b/ \b\b- \b\b\\ \b\b| \b\b/ \b\b- \b\bdone\n"
          ]
        }
      ]
    },
    {
      "cell_type": "code",
      "metadata": {
        "colab": {
          "base_uri": "https://localhost:8080/"
        },
        "id": "BC7ESTr9lMiP",
        "outputId": "a7665897-d644-498f-b36a-5392e0e38d92"
      },
      "source": [
        "# Install the python version\n",
        "!apt-get install python2.7"
      ],
      "execution_count": 21,
      "outputs": [
        {
          "output_type": "stream",
          "name": "stdout",
          "text": [
            "Reading package lists... Done\n",
            "Building dependency tree       \n",
            "Reading state information... Done\n",
            "python2.7 is already the newest version (2.7.17-1~18.04ubuntu1.6).\n",
            "0 upgraded, 0 newly installed, 0 to remove and 40 not upgraded.\n"
          ]
        }
      ]
    },
    {
      "cell_type": "code",
      "metadata": {
        "colab": {
          "base_uri": "https://localhost:8080/"
        },
        "id": "en-PcpMlbuA8",
        "outputId": "e1a8bba2-fee6-4661-ecdf-4e9f5fbf2112"
      },
      "source": [
        "#install_torchvision\n",
        "!conda install torchvision -c pytorch\n"
      ],
      "execution_count": 22,
      "outputs": [
        {
          "output_type": "stream",
          "name": "stdout",
          "text": [
            "Collecting package metadata (current_repodata.json): - \b\b\\ \b\b| \b\b/ \b\b- \b\b\\ \b\b| \b\b/ \b\b- \b\b\\ \b\b| \b\b/ \b\b- \b\b\\ \b\b| \b\b/ \b\b- \b\b\\ \b\b| \b\bdone\n",
            "Solving environment: - \b\b\\ \b\b| \b\b/ \b\b- \b\b\\ \b\b| \b\b/ \b\b- \b\b\\ \b\b| \b\b/ \b\b- \b\b\\ \b\b| \b\b/ \b\b- \b\b\\ \b\b| \b\b/ \b\b- \b\b\\ \b\b| \b\b/ \b\b- \b\b\\ \b\b| \b\b/ \b\b- \b\b\\ \b\b| \b\b/ \b\b- \b\b\\ \b\b| \b\b/ \b\b- \b\b\\ \b\b| \b\b/ \b\b- \b\b\\ \b\b| \b\b/ \b\bdone\n",
            "\n",
            "# All requested packages already installed.\n",
            "\n"
          ]
        }
      ]
    },
    {
      "cell_type": "code",
      "metadata": {
        "colab": {
          "base_uri": "https://localhost:8080/"
        },
        "id": "OlJLUL9Hlg0s",
        "outputId": "6891741f-d76b-4852-86c0-8e9ac6d8740f"
      },
      "source": [
        "!conda install scikit-image"
      ],
      "execution_count": 23,
      "outputs": [
        {
          "output_type": "stream",
          "name": "stdout",
          "text": [
            "Collecting package metadata (current_repodata.json): - \b\b\\ \b\b| \b\b/ \b\b- \b\b\\ \b\b| \b\b/ \b\b- \b\b\\ \b\b| \b\b/ \b\b- \b\b\\ \b\b| \b\b/ \b\bdone\n",
            "Solving environment: \\ \b\b| \b\b/ \b\b- \b\b\\ \b\b| \b\b/ \b\b- \b\b\\ \b\b| \b\b/ \b\b- \b\b\\ \b\b| \b\b/ \b\b- \b\b\\ \b\b| \b\b/ \b\b- \b\b\\ \b\b| \b\b/ \b\b- \b\b\\ \b\b| \b\b/ \b\b- \b\b\\ \b\b| \b\b/ \b\b- \b\b\\ \b\b| \b\b/ \b\b- \b\b\\ \b\b| \b\bdone\n",
            "\n",
            "# All requested packages already installed.\n",
            "\n"
          ]
        }
      ]
    },
    {
      "cell_type": "code",
      "metadata": {
        "id": "uY2p2fdrmLdu"
      },
      "source": [
        "from skimage import data, io, filters\n"
      ],
      "execution_count": 24,
      "outputs": []
    },
    {
      "cell_type": "code",
      "metadata": {
        "colab": {
          "base_uri": "https://localhost:8080/"
        },
        "id": "SyDKMKXBmOoN",
        "outputId": "69159b6f-9530-4e12-a665-cddc6a08b84c"
      },
      "source": [
        "!conda install pillow\n",
        "!conda install hdf5\n",
        "!conda install scipy\n"
      ],
      "execution_count": 26,
      "outputs": [
        {
          "output_type": "stream",
          "name": "stdout",
          "text": [
            "Collecting package metadata (current_repodata.json): - \b\b\\ \b\b| \b\b/ \b\b- \b\b\\ \b\b| \b\b/ \b\b- \b\b\\ \b\b| \b\b/ \b\b- \b\b\\ \b\b| \b\b/ \b\bdone\n",
            "Solving environment: \\ \b\b| \b\b/ \b\b- \b\b\\ \b\b| \b\b/ \b\b- \b\b\\ \b\b| \b\b/ \b\b- \b\b\\ \b\b| \b\b/ \b\b- \b\b\\ \b\b| \b\b/ \b\b- \b\b\\ \b\b| \b\b/ \b\b- \b\b\\ \b\b| \b\b/ \b\b- \b\bdone\n",
            "\n",
            "# All requested packages already installed.\n",
            "\n",
            "Collecting package metadata (current_repodata.json): - \b\b\\ \b\b| \b\b/ \b\b- \b\b\\ \b\b| \b\b/ \b\b- \b\b\\ \b\b| \b\b/ \b\b- \b\b\\ \b\b| \b\b/ \b\b- \b\b\\ \b\bdone\n",
            "Solving environment: / \b\b- \b\b\\ \b\b| \b\b/ \b\b- \b\b\\ \b\b| \b\b/ \b\b- \b\b\\ \b\b| \b\b/ \b\b- \b\b\\ \b\b| \b\b/ \b\b- \b\b\\ \b\b| \b\b/ \b\b- \b\b\\ \b\b| \b\b/ \b\b- \b\b\\ \b\b| \b\bdone\n",
            "\n",
            "# All requested packages already installed.\n",
            "\n",
            "Collecting package metadata (current_repodata.json): - \b\b\\ \b\b| \b\b/ \b\b- \b\b\\ \b\b| \b\b/ \b\b- \b\b\\ \b\b| \b\b/ \b\b- \b\b\\ \b\b| \b\b/ \b\bdone\n",
            "Solving environment: \\ \b\b| \b\b/ \b\b- \b\b\\ \b\b| \b\b/ \b\b- \b\b\\ \b\b| \b\b/ \b\b- \b\b\\ \b\b| \b\b/ \b\b- \b\b\\ \b\b| \b\b/ \b\b- \b\b\\ \b\b| \b\b/ \b\b- \b\b\\ \b\b| \b\b/ \b\b- \b\b\\ \b\b| \b\b/ \b\b- \b\b\\ \b\bdone\n",
            "\n",
            "# All requested packages already installed.\n",
            "\n"
          ]
        }
      ]
    },
    {
      "cell_type": "code",
      "metadata": {
        "id": "lQM7jfhMenBs"
      },
      "source": [
        "import cv2\n",
        "import os\n",
        "import h5py\n",
        "import numpy as np\n",
        "import scipy\n",
        "from PIL import Image\n",
        "import importlib\n",
        "import skimage\n",
        "import scipy.misc\n"
      ],
      "execution_count": 29,
      "outputs": []
    },
    {
      "cell_type": "code",
      "metadata": {
        "colab": {
          "base_uri": "https://localhost:8080/"
        },
        "id": "P-CEY_7zkOFA",
        "outputId": "008cd43d-0dd0-4b55-cf0b-5e9eeb430d54"
      },
      "source": [
        "!conda install -c conda-forge tensorboardx\n",
        "!conda install -c conda-forge protobuf\n",
        "\n"
      ],
      "execution_count": 30,
      "outputs": [
        {
          "output_type": "stream",
          "name": "stdout",
          "text": [
            "Collecting package metadata (current_repodata.json): - \b\b\\ \b\b| \b\b/ \b\b- \b\b\\ \b\b| \b\b/ \b\b- \b\b\\ \b\b| \b\b/ \b\b- \b\b\\ \b\b| \b\b/ \b\bdone\n",
            "Solving environment: \\ \b\b| \b\b/ \b\b- \b\b\\ \b\b| \b\b/ \b\b- \b\b\\ \b\b| \b\b/ \b\b- \b\b\\ \b\b| \b\b/ \b\b- \b\b\\ \b\b| \b\b/ \b\b- \b\b\\ \b\b| \b\b/ \b\b- \b\b\\ \b\b| \b\b/ \b\b- \b\b\\ \b\b| \b\b/ \b\bdone\n",
            "\n",
            "# All requested packages already installed.\n",
            "\n",
            "Collecting package metadata (current_repodata.json): - \b\b\\ \b\b| \b\b/ \b\b- \b\b\\ \b\b| \b\b/ \b\b- \b\b\\ \b\b| \b\b/ \b\b- \b\b\\ \b\b| \b\b/ \b\bdone\n",
            "Solving environment: \\ \b\b| \b\b/ \b\b- \b\b\\ \b\b| \b\b/ \b\b- \b\b\\ \b\b| \b\b/ \b\b- \b\b\\ \b\b| \b\b/ \b\b- \b\b\\ \b\b| \b\b/ \b\b- \b\b\\ \b\b| \b\b/ \b\b- \b\b\\ \b\b| \b\b/ \b\b- \b\bdone\n",
            "\n",
            "# All requested packages already installed.\n",
            "\n"
          ]
        }
      ]
    },
    {
      "cell_type": "code",
      "metadata": {
        "colab": {
          "base_uri": "https://localhost:8080/"
        },
        "id": "ZfV530y2rjEp",
        "outputId": "3a7790a8-9e9a-4718-ebac-8cebf0c0eb56"
      },
      "source": [
        "!conda install h5py\n",
        "!conda install cython"
      ],
      "execution_count": 33,
      "outputs": [
        {
          "output_type": "stream",
          "name": "stdout",
          "text": [
            "Collecting package metadata (current_repodata.json): - \b\b\\ \b\b| \b\b/ \b\b- \b\b\\ \b\b| \b\b/ \b\b- \b\b\\ \b\b| \b\b/ \b\b- \b\b\\ \b\b| \b\b/ \b\b- \b\bdone\n",
            "Solving environment: | \b\b/ \b\b- \b\b\\ \b\b| \b\b/ \b\b- \b\b\\ \b\b| \b\b/ \b\b- \b\b\\ \b\b| \b\b/ \b\b- \b\b\\ \b\b| \b\b/ \b\b- \b\b\\ \b\b| \b\b/ \b\b- \b\b\\ \b\b| \b\b/ \b\b- \b\b\\ \b\b| \b\b/ \b\b- \b\b\\ \b\b| \b\b/ \b\b- \b\bdone\n",
            "\n",
            "# All requested packages already installed.\n",
            "\n",
            "Collecting package metadata (current_repodata.json): - \b\b\\ \b\b| \b\b/ \b\b- \b\b\\ \b\b| \b\b/ \b\b- \b\b\\ \b\b| \b\b/ \b\b- \b\b\\ \b\b| \b\b/ \b\b- \b\bdone\n",
            "Solving environment: | \b\b/ \b\b- \b\b\\ \b\b| \b\b/ \b\b- \b\b\\ \b\b| \b\b/ \b\b- \b\b\\ \b\b| \b\b/ \b\b- \b\b\\ \b\b| \b\b/ \b\b- \b\b\\ \b\b| \b\b/ \b\b- \b\b\\ \b\b| \b\b/ \b\bdone\n",
            "\n",
            "# All requested packages already installed.\n",
            "\n"
          ]
        }
      ]
    },
    {
      "cell_type": "code",
      "metadata": {
        "colab": {
          "base_uri": "https://localhost:8080/"
        },
        "id": "qwMGWt6ZtERG",
        "outputId": "3ea46b24-70ef-4967-ad6d-b3639b7f423e"
      },
      "source": [
        "!conda install opencv \n",
        "import cv2 \n"
      ],
      "execution_count": 35,
      "outputs": [
        {
          "output_type": "stream",
          "name": "stdout",
          "text": [
            "Collecting package metadata (current_repodata.json): - \b\b\\ \b\b| \b\b/ \b\b- \b\b\\ \b\b| \b\b/ \b\b- \b\b\\ \b\b| \b\b/ \b\b- \b\b\\ \b\b| \b\b/ \b\b- \b\bdone\n",
            "Solving environment: | \b\b/ \b\b- \b\b\\ \b\b| \b\b/ \b\b- \b\b\\ \b\b| \b\b/ \b\b- \b\b\\ \b\b| \b\b/ \b\b- \b\b\\ \b\b| \b\b/ \b\b- \b\b\\ \b\b| \b\b/ \b\b- \b\b\\ \b\b| \b\b/ \b\b- \b\b\\ \b\b| \b\b/ \b\b- \b\b\\ \b\b| \b\b/ \b\b- \b\b\\ \b\b| \b\b/ \b\b- \b\b\\ \b\b| \b\b/ \b\b- \b\b\\ \b\b| \b\b/ \b\b- \b\b\\ \b\b| \b\b/ \b\b- \b\b\\ \b\b| \b\b/ \b\b- \b\b\\ \b\b| \b\b/ \b\b- \b\b\\ \b\b| \b\b/ \b\b- \b\b\\ \b\b| \b\b/ \b\b- \b\b\\ \b\b| \b\b/ \b\b- \b\b\\ \b\b| \b\b/ \b\b- \b\b\\ \b\b| \b\b/ \b\b- \b\b\\ \b\b| \b\b/ \b\b- \b\b\\ \b\b| \b\b/ \b\b- \b\b\\ \b\b| \b\b/ \b\b- \b\b\\ \b\b| \b\b/ \b\b- \b\b\\ \b\b| \b\b/ \b\b- \b\b\\ \b\b| \b\b/ \b\b- \b\b\\ \b\b| \b\b/ \b\b- \b\b\\ \b\b| \b\b/ \b\b- \b\b\\ \b\b| \b\b/ \b\b- \b\b\\ \b\b| \b\b/ \b\b- \b\b\\ \b\b| \b\b/ \b\b- \b\b\\ \b\b| \b\b/ \b\b- \b\b\\ \b\b| \b\b/ \b\b- \b\b\\ \b\b| \b\b/ \b\b- \b\b\\ \b\b| \b\b/ \b\b- \b\b\\ \b\b| \b\b/ \b\b- \b\b\\ \b\b| \b\b/ \b\b- \b\b\\ \b\b| \b\b/ \b\b- \b\b\\ \b\b| \b\b/ \b\b- \b\b\\ \b\b| \b\b/ \b\b- \b\b\\ \b\b| \b\b/ \b\b- \b\b\\ \b\b| \b\b/ \b\b- \b\b\\ \b\b| \b\b/ \b\b- \b\b\\ \b\b| \b\b/ \b\b- \b\b\\ \b\b| \b\b/ \b\b- \b\b\\ \b\b| \b\b/ \b\b- \b\b\\ \b\b| \b\b/ \b\b- \b\b\\ \b\b| \b\b/ \b\b- \b\b\\ \b\b| \b\b/ \b\b- \b\b\\ \b\b| \b\b/ \b\b- \b\bfailed with initial frozen solve. Retrying with flexible solve.\n",
            "Solving environment: | \b\b/ \b\b- \b\b\\ \b\b| \b\b/ \b\b- \b\b\\ \b\b| \b\b/ \b\b- \b\b\\ \b\b| \b\b/ \b\b- \b\b\\ \b\b| \b\b/ \b\b- \b\b\\ \b\b| \b\b/ \b\b- \b\b\\ \b\b| \b\b/ \b\b- \b\b\\ \b\b| \b\b/ \b\b- \b\b\\ \b\b| \b\b/ \b\b- \b\b\\ \b\b| \b\b/ \b\b- \b\b\\ \b\b| \b\b/ \b\b- \b\b\\ \b\b| \b\b/ \b\b- \b\b\\ \b\b| \b\b/ \b\b- \b\b\\ \b\b| \b\b/ \b\bfailed with repodata from current_repodata.json, will retry with next repodata source.\n",
            "\n",
            "ResolvePackageNotFound: \n",
            "  - conda==4.9.2\n",
            "\n"
          ]
        }
      ]
    },
    {
      "cell_type": "code",
      "metadata": {
        "colab": {
          "base_uri": "https://localhost:8080/"
        },
        "id": "uilmeNuc5ij5",
        "outputId": "d9c0600d-0035-4c19-8fe0-5426119b2ff9"
      },
      "source": [
        "%%bash\n",
        "mkdir foldername\n",
        "tar -xvf '/content/drive/MyDrive/SISR/LESRCNN/dataset/Urban100.tar.gz' -C '/content/drive/MyDrive/SISR/LESRCNN/dataset'"
      ],
      "execution_count": 58,
      "outputs": [
        {
          "output_type": "stream",
          "name": "stdout",
          "text": [
            "Urban100/x4/img_011_SRF_4_LR.png\n",
            "Urban100/x3/img_084_SRF_3_LR.png\n",
            "Urban100/x4/img_030_SRF_4_HR.png\n",
            "Urban100/x3/img_066_SRF_3_LR.png\n",
            "Urban100/x4/img_012_SRF_4_HR.png\n",
            "Urban100/x3/img_048_SRF_3_LR.png\n",
            "Urban100/x3/img_085_SRF_3_HR.png\n",
            "Urban100/x3/img_067_SRF_3_HR.png\n",
            "Urban100/x4/img_021_SRF_4_HR.png\n",
            "Urban100/x3/img_049_SRF_3_HR.png\n",
            "Urban100/x4/img_061_SRF_4_LR.png\n",
            "Urban100/x4/img_043_SRF_4_LR.png\n",
            "Urban100/x4/img_080_SRF_4_HR.png\n",
            "Urban100/x4/img_062_SRF_4_HR.png\n",
            "Urban100/x4/img_079_SRF_4_LR.png\n",
            "Urban100/x3/img_098_SRF_3_LR.png\n",
            "Urban100/x2/img_013_SRF_2_HR.png\n",
            "Urban100/x4/img_098_SRF_4_HR.png\n",
            "Urban100/x3/img_040_SRF_3_HR.png\n",
            "Urban100/x2/img_062_SRF_2_LR.png\n",
            "Urban100/x2/img_044_SRF_2_LR.png\n",
            "Urban100/x2/img_026_SRF_2_LR.png\n",
            "Urban100/x2/img_081_SRF_2_HR.png\n",
            "Urban100/x2/img_008_SRF_2_LR.png\n",
            "Urban100/x2/img_063_SRF_2_HR.png\n",
            "Urban100/x4/img_002_SRF_4_LR.png\n",
            "Urban100/x2/img_045_SRF_2_HR.png\n",
            "Urban100/x2/img_027_SRF_2_HR.png\n",
            "Urban100/x3/img_008_SRF_3_HR.png\n",
            "Urban100/x4/img_003_SRF_4_HR.png\n",
            "Urban100/x2/img_009_SRF_2_HR.png\n",
            "Urban100/x3/img_021_SRF_3_LR.png\n",
            "Urban100/x3/img_003_SRF_3_LR.png\n",
            "Urban100/x3/img_039_SRF_3_LR.png\n",
            "Urban100/x2/img_094_SRF_2_LR.png\n",
            "Urban100/x3/img_057_SRF_3_LR.png\n",
            "Urban100/x2/img_076_SRF_2_LR.png\n",
            "Urban100/x3/img_022_SRF_3_HR.png\n",
            "Urban100/x2/img_058_SRF_2_LR.png\n",
            "Urban100/x2/img_095_SRF_2_HR.png\n",
            "Urban100/x3/img_076_SRF_3_HR.png\n",
            "Urban100/x2/img_077_SRF_2_HR.png\n",
            "Urban100/x3/img_058_SRF_3_HR.png\n",
            "Urban100/x4/img_070_SRF_4_LR.png\n",
            "Urban100/x4/img_052_SRF_4_LR.png\n",
            "Urban100/x3/img_071_SRF_3_LR.png\n",
            "Urban100/x4/img_034_SRF_4_LR.png\n",
            "Urban100/x4/img_016_SRF_4_LR.png\n",
            "Urban100/x4/img_071_SRF_4_HR.png\n",
            "Urban100/x3/img_090_SRF_3_HR.png\n",
            "Urban100/x4/img_053_SRF_4_HR.png\n",
            "Urban100/x3/img_089_SRF_3_LR.png\n",
            "Urban100/x4/img_035_SRF_4_HR.png\n",
            "Urban100/x4/img_017_SRF_4_HR.png\n",
            "Urban100/x4/img_084_SRF_4_LR.png\n",
            "Urban100/x4/img_066_SRF_4_LR.png\n",
            "Urban100/x2/img_017_SRF_2_LR.png\n",
            "Urban100/x4/img_085_SRF_4_HR.png\n",
            "Urban100/x4/img_026_SRF_4_HR.png\n",
            "Urban100/x2/img_036_SRF_2_HR.png\n",
            "Urban100/x2/img_018_SRF_2_HR.png\n",
            "Urban100/x3/img_030_SRF_3_LR.png\n",
            "Urban100/x3/img_012_SRF_3_LR.png\n",
            "Urban100/x2/img_085_SRF_2_LR.png\n",
            "Urban100/x3/img_031_SRF_3_HR.png\n",
            "Urban100/x2/img_067_SRF_2_LR.png\n",
            "Urban100/x3/img_013_SRF_3_HR.png\n",
            "Urban100/x2/img_049_SRF_2_LR.png\n",
            "Urban100/x2/img_086_SRF_2_HR.png\n",
            "Urban100/x2/img_068_SRF_2_HR.png\n",
            "Urban100/x3/img_080_SRF_3_LR.png\n",
            "Urban100/x3/img_062_SRF_3_LR.png\n",
            "Urban100/x2/img_100_SRF_2_LR.png\n",
            "Urban100/x3/img_044_SRF_3_LR.png\n",
            "Urban100/x4/img_025_SRF_4_LR.png\n",
            "Urban100/x4/img_007_SRF_4_LR.png\n",
            "Urban100/x3/img_026_SRF_3_LR.png\n",
            "Urban100/x3/img_081_SRF_3_HR.png\n",
            "Urban100/x3/img_100_SRF_3_HR.png\n",
            "Urban100/x4/img_044_SRF_4_HR.png\n",
            "Urban100/x3/img_063_SRF_3_HR.png\n",
            "Urban100/x2/img_099_SRF_2_LR.png\n",
            "Urban100/x3/img_045_SRF_3_HR.png\n",
            "Urban100/x4/img_008_SRF_4_HR.png\n",
            "Urban100/x3/img_099_SRF_3_HR.png\n",
            "Urban100/x4/img_093_SRF_4_LR.png\n",
            "Urban100/x3/img_094_SRF_3_LR.png\n",
            "Urban100/x4/img_075_SRF_4_LR.png\n",
            "Urban100/x4/img_057_SRF_4_LR.png\n",
            "Urban100/x4/img_039_SRF_4_LR.png\n",
            "Urban100/x4/img_094_SRF_4_HR.png\n",
            "Urban100/x4/img_076_SRF_4_HR.png\n",
            "Urban100/x4/img_058_SRF_4_HR.png\n",
            "Urban100/x2/img_040_SRF_2_LR.png\n",
            "Urban100/x2/img_022_SRF_2_LR.png\n",
            "Urban100/x2/img_004_SRF_2_LR.png\n",
            "Urban100/x4/img_089_SRF_4_LR.png\n",
            "Urban100/x2/img_041_SRF_2_HR.png\n",
            "Urban100/x3/img_004_SRF_3_HR.png\n",
            "Urban100/x2/img_023_SRF_2_HR.png\n",
            "Urban100/x2/img_059_SRF_2_HR.png\n",
            "Urban100/x2/img_090_SRF_2_LR.png\n",
            "Urban100/x2/img_072_SRF_2_LR.png\n",
            "Urban100/x3/img_053_SRF_3_LR.png\n",
            "Urban100/x3/img_035_SRF_3_LR.png\n",
            "Urban100/x3/img_017_SRF_3_LR.png\n",
            "Urban100/x3/img_072_SRF_3_HR.png\n",
            "Urban100/x2/img_091_SRF_2_HR.png\n",
            "Urban100/x3/img_054_SRF_3_HR.png\n",
            "Urban100/x3/img_036_SRF_3_HR.png\n",
            "Urban100/x3/img_018_SRF_3_HR.png\n",
            "Urban100/x4/img_030_SRF_4_LR.png\n",
            "Urban100/x4/img_012_SRF_4_LR.png\n",
            "Urban100/x4/img_048_SRF_4_LR.png\n",
            "Urban100/x3/img_085_SRF_3_LR.png\n",
            "Urban100/x4/img_031_SRF_4_HR.png\n",
            "Urban100/x3/img_067_SRF_3_LR.png\n",
            "Urban100/x4/img_013_SRF_4_HR.png\n",
            "Urban100/x3/img_049_SRF_3_LR.png\n",
            "Urban100/x4/img_067_SRF_4_HR.png\n",
            "Urban100/x3/img_086_SRF_3_HR.png\n",
            "Urban100/x4/img_049_SRF_4_HR.png\n",
            "Urban100/x3/img_068_SRF_3_HR.png\n",
            "Urban100/x4/img_080_SRF_4_LR.png\n",
            "Urban100/x4/img_062_SRF_4_LR.png\n",
            "Urban100/x2/img_031_SRF_2_LR.png\n",
            "Urban100/x2/img_013_SRF_2_LR.png\n",
            "Urban100/x4/img_081_SRF_4_HR.png\n",
            "Urban100/x4/img_100_SRF_4_HR.png\n",
            "Urban100/x4/img_098_SRF_4_LR.png\n",
            "Urban100/x2/img_050_SRF_2_HR.png\n",
            "Urban100/x2/img_032_SRF_2_HR.png\n",
            "Urban100/x2/img_014_SRF_2_HR.png\n",
            "Urban100/x4/img_099_SRF_4_HR.png\n",
            "Urban100/x4/img_022_SRF_4_HR.png\n",
            "Urban100/x2/img_081_SRF_2_LR.png\n",
            "Urban100/x2/img_063_SRF_2_LR.png\n",
            "Urban100/x2/img_045_SRF_2_LR.png\n",
            "Urban100/x3/img_008_SRF_3_LR.png\n",
            "Urban100/x2/img_027_SRF_2_LR.png\n",
            "Urban100/x2/img_009_SRF_2_LR.png\n",
            "Urban100/x2/img_082_SRF_2_HR.png\n",
            "Urban100/x4/img_021_SRF_4_LR.png\n",
            "Urban100/x2/img_064_SRF_2_HR.png\n",
            "Urban100/x2/img_046_SRF_2_HR.png\n",
            "Urban100/x3/img_027_SRF_3_HR.png\n",
            "Urban100/x2/img_028_SRF_2_HR.png\n",
            "Urban100/x3/img_009_SRF_3_HR.png\n",
            "Urban100/x3/img_040_SRF_3_LR.png\n",
            "Urban100/x4/img_003_SRF_4_LR.png\n",
            "Urban100/x3/img_022_SRF_3_LR.png\n",
            "Urban100/x4/img_040_SRF_4_HR.png\n",
            "Urban100/x2/img_095_SRF_2_LR.png\n",
            "Urban100/x3/img_076_SRF_3_LR.png\n",
            "Urban100/x3/img_058_SRF_3_LR.png\n",
            "Urban100/x2/img_077_SRF_2_LR.png\n",
            "Urban100/x4/img_004_SRF_4_HR.png\n",
            "Urban100/x4/img_071_SRF_4_LR.png\n",
            "Urban100/x3/img_095_SRF_3_HR.png\n",
            "Urban100/x2/img_096_SRF_2_HR.png\n",
            "Urban100/x3/img_077_SRF_3_HR.png\n",
            "Urban100/x3/img_059_SRF_3_HR.png\n",
            "Urban100/x3/img_090_SRF_3_LR.png\n",
            "Urban100/x4/img_053_SRF_4_LR.png\n",
            "Urban100/x4/img_035_SRF_4_LR.png\n",
            "Urban100/x4/img_017_SRF_4_LR.png\n",
            "Urban100/x4/img_090_SRF_4_HR.png\n",
            "Urban100/x4/img_072_SRF_4_HR.png\n",
            "Urban100/x4/img_054_SRF_4_HR.png\n",
            "Urban100/x4/img_036_SRF_4_HR.png\n",
            "Urban100/x2/img_005_SRF_2_HR.png\n",
            "Urban100/x4/img_085_SRF_4_LR.png\n",
            "Urban100/x2/img_054_SRF_2_LR.png\n",
            "Urban100/x2/img_036_SRF_2_LR.png\n",
            "Urban100/.DS_Store\n",
            "Urban100/x2/img_018_SRF_2_LR.png\n",
            "Urban100/x2/img_073_SRF_2_HR.png\n",
            "Urban100/x2/img_055_SRF_2_HR.png\n",
            "Urban100/x2/img_037_SRF_2_HR.png\n",
            "Urban100/x2/img_019_SRF_2_HR.png\n",
            "Urban100/x3/img_031_SRF_3_LR.png\n",
            "Urban100/x3/img_013_SRF_3_LR.png\n",
            "Urban100/x4/img_063_SRF_4_HR.png\n",
            "Urban100/x3/img_050_SRF_3_HR.png\n",
            "Urban100/x2/img_086_SRF_2_LR.png\n",
            "Urban100/x3/img_032_SRF_3_HR.png\n",
            "Urban100/x2/img_068_SRF_2_LR.png\n",
            "Urban100/x3/img_014_SRF_3_HR.png\n",
            "Urban100/x3/img_082_SRF_3_HR.png\n",
            "Urban100/x4/img_045_SRF_4_HR.png\n",
            "Urban100/x2/img_087_SRF_2_HR.png\n",
            "Urban100/x2/img_069_SRF_2_HR.png\n",
            "Urban100/x3/img_100_SRF_3_LR.png\n",
            "Urban100/x3/img_081_SRF_3_LR.png\n",
            "Urban100/x4/img_044_SRF_4_LR.png\n",
            "Urban100/x3/img_063_SRF_3_LR.png\n",
            "Urban100/x3/img_045_SRF_3_LR.png\n",
            "Urban100/x4/img_026_SRF_4_LR.png\n",
            "Urban100/x4/\n",
            "Urban100/x4/img_008_SRF_4_LR.png\n",
            "Urban100/x2/\n",
            "Urban100/x3/\n",
            "Urban100/x3/img_099_SRF_3_LR.png\n",
            "Urban100/x3/img_064_SRF_3_HR.png\n",
            "Urban100/x4/img_027_SRF_4_HR.png\n",
            "Urban100/x4/img_009_SRF_4_HR.png\n",
            "Urban100/x4/img_094_SRF_4_LR.png\n",
            "Urban100/x4/img_076_SRF_4_LR.png\n",
            "Urban100/x4/img_058_SRF_4_LR.png\n",
            "Urban100/x2/img_010_SRF_2_HR.png\n",
            "Urban100/x4/img_095_SRF_4_HR.png\n",
            "Urban100/x4/img_077_SRF_4_HR.png\n",
            "Urban100/x4/img_059_SRF_4_HR.png\n",
            "Urban100/x2/img_041_SRF_2_LR.png\n",
            "Urban100/x2/img_023_SRF_2_LR.png\n",
            "Urban100/x3/img_004_SRF_3_LR.png\n",
            "Urban100/x2/img_060_SRF_2_HR.png\n",
            "Urban100/x3/img_041_SRF_3_HR.png\n",
            "Urban100/x3/img_023_SRF_3_HR.png\n",
            "Urban100/x2/img_042_SRF_2_HR.png\n",
            "Urban100/x2/img_059_SRF_2_LR.png\n",
            "Urban100/x3/img_005_SRF_3_HR.png\n",
            "Urban100/x2/img_078_SRF_2_HR.png\n",
            "Urban100/x3/img_072_SRF_3_LR.png\n",
            "Urban100/x2/img_091_SRF_2_LR.png\n",
            "Urban100/x3/img_054_SRF_3_LR.png\n",
            "Urban100/x3/img_036_SRF_3_LR.png\n",
            "Urban100/x3/img_018_SRF_3_LR.png\n",
            "Urban100/x3/img_091_SRF_3_HR.png\n",
            "Urban100/x3/img_073_SRF_3_HR.png\n",
            "Urban100/x3/img_055_SRF_3_HR.png\n",
            "Urban100/x4/img_018_SRF_4_HR.png\n",
            "Urban100/x3/img_037_SRF_3_HR.png\n",
            "Urban100/x3/img_019_SRF_3_HR.png\n",
            "Urban100/x4/img_031_SRF_4_LR.png\n",
            "Urban100/x4/img_013_SRF_4_LR.png\n",
            "Urban100/x4/img_050_SRF_4_HR.png\n",
            "Urban100/x4/img_032_SRF_4_HR.png\n",
            "Urban100/x3/img_086_SRF_3_LR.png\n",
            "Urban100/x4/img_067_SRF_4_LR.png\n",
            "Urban100/x4/img_049_SRF_4_LR.png\n",
            "Urban100/x3/img_068_SRF_3_LR.png\n",
            "Urban100/x2/img_001_SRF_2_HR.png\n",
            "Urban100/x4/img_086_SRF_4_HR.png\n",
            "Urban100/x4/img_068_SRF_4_HR.png\n",
            "Urban100/x3/img_087_SRF_3_HR.png\n",
            "Urban100/x4/img_081_SRF_4_LR.png\n",
            "Urban100/x4/img_100_SRF_4_LR.png\n",
            "Urban100/x2/img_050_SRF_2_LR.png\n",
            "Urban100/x2/img_032_SRF_2_LR.png\n",
            "Urban100/x2/img_014_SRF_2_LR.png\n",
            "Urban100/x4/img_099_SRF_4_LR.png\n",
            "Urban100/x2/img_051_SRF_2_HR.png\n",
            "Urban100/x2/img_033_SRF_2_HR.png\n",
            "Urban100/x2/img_015_SRF_2_HR.png\n",
            "Urban100/x2/img_082_SRF_2_LR.png\n",
            "Urban100/x2/img_046_SRF_2_LR.png\n",
            "Urban100/x2/img_064_SRF_2_LR.png\n",
            "Urban100/x3/img_010_SRF_3_HR.png\n",
            "Urban100/x3/img_027_SRF_3_LR.png\n",
            "Urban100/x3/img_009_SRF_3_LR.png\n",
            "Urban100/x2/img_083_SRF_2_HR.png\n",
            "Urban100/x3/img_046_SRF_3_HR.png\n",
            "Urban100/x2/img_065_SRF_2_HR.png\n",
            "Urban100/x3/img_028_SRF_3_HR.png\n",
            "Urban100/x4/img_040_SRF_4_LR.png\n",
            "Urban100/x4/img_022_SRF_4_LR.png\n",
            "Urban100/x4/img_004_SRF_4_LR.png\n",
            "Urban100/x3/img_095_SRF_3_LR.png\n",
            "Urban100/x4/img_041_SRF_4_HR.png\n",
            "Urban100/x3/img_077_SRF_3_LR.png\n",
            "Urban100/x4/img_023_SRF_4_HR.png\n",
            "Urban100/x3/img_059_SRF_3_LR.png\n",
            "Urban100/x4/img_005_SRF_4_HR.png\n",
            "Urban100/x3/img_096_SRF_3_HR.png\n",
            "Urban100/x3/img_078_SRF_3_HR.png\n",
            "Urban100/x4/img_090_SRF_4_LR.png\n",
            "Urban100/x4/img_072_SRF_4_LR.png\n",
            "Urban100/x4/img_054_SRF_4_LR.png\n",
            "Urban100/x4/img_036_SRF_4_LR.png\n",
            "Urban100/x2/img_005_SRF_2_LR.png\n",
            "Urban100/x4/img_091_SRF_4_HR.png\n",
            "Urban100/x4/img_073_SRF_4_HR.png\n",
            "Urban100/x4/img_055_SRF_4_HR.png\n",
            "Urban100/x2/img_024_SRF_2_HR.png\n",
            "Urban100/x2/img_006_SRF_2_HR.png\n",
            "Urban100/x2/img_073_SRF_2_LR.png\n",
            "Urban100/x2/img_055_SRF_2_LR.png\n",
            "Urban100/x3/img_001_SRF_3_HR.png\n",
            "Urban100/x2/img_037_SRF_2_LR.png\n",
            "Urban100/x2/img_092_SRF_2_HR.png\n",
            "Urban100/x2/img_019_SRF_2_LR.png\n",
            "Urban100/x2/img_074_SRF_2_HR.png\n",
            "Urban100/x2/img_056_SRF_2_HR.png\n",
            "Urban100/x2/img_038_SRF_2_HR.png\n",
            "Urban100/x3/img_050_SRF_3_LR.png\n",
            "Urban100/x3/img_032_SRF_3_LR.png\n",
            "Urban100/x3/img_014_SRF_3_LR.png\n",
            "Urban100/x4/img_014_SRF_4_HR.png\n",
            "Urban100/x3/img_051_SRF_3_HR.png\n",
            "Urban100/x2/img_087_SRF_2_LR.png\n",
            "Urban100/x3/img_033_SRF_3_HR.png\n",
            "Urban100/x2/img_069_SRF_2_LR.png\n",
            "Urban100/x3/img_069_SRF_3_HR.png\n",
            "Urban100/x2/img_088_SRF_2_HR.png\n",
            "Urban100/x4/img_063_SRF_4_LR.png\n",
            "Urban100/x3/img_082_SRF_3_LR.png\n",
            "Urban100/x4/img_045_SRF_4_LR.png\n",
            "Urban100/x4/img_027_SRF_4_LR.png\n",
            "Urban100/x4/img_009_SRF_4_LR.png\n",
            "Urban100/x4/img_082_SRF_4_HR.png\n",
            "Urban100/x4/img_064_SRF_4_HR.png\n",
            "Urban100/x4/img_046_SRF_4_HR.png\n",
            "Urban100/x4/img_028_SRF_4_HR.png\n",
            "Urban100/x2/img_010_SRF_2_LR.png\n",
            "Urban100/x4/img_095_SRF_4_LR.png\n",
            "Urban100/x4/img_077_SRF_4_LR.png\n",
            "Urban100/x4/img_059_SRF_4_LR.png\n",
            "Urban100/x2/img_011_SRF_2_HR.png\n",
            "Urban100/x2/img_028_SRF_2_LR.png\n",
            "Urban100/x4/img_096_SRF_4_HR.png\n",
            "Urban100/x3/img_041_SRF_3_LR.png\n",
            "Urban100/x4/img_078_SRF_4_HR.png\n",
            "Urban100/x2/img_047_SRF_2_HR.png\n",
            "Urban100/x2/img_029_SRF_2_HR.png\n",
            "Urban100/x2/img_060_SRF_2_LR.png\n",
            "Urban100/x3/img_023_SRF_3_LR.png\n",
            "Urban100/x2/img_042_SRF_2_LR.png\n",
            "Urban100/x3/img_005_SRF_3_LR.png\n",
            "Urban100/x2/img_061_SRF_2_HR.png\n",
            "Urban100/x3/img_060_SRF_3_HR.png\n",
            "Urban100/x2/img_096_SRF_2_LR.png\n",
            "Urban100/x3/img_042_SRF_3_HR.png\n",
            "Urban100/x2/img_078_SRF_2_LR.png\n",
            "Urban100/x3/img_024_SRF_3_HR.png\n",
            "Urban100/x3/img_006_SRF_3_HR.png\n",
            "Urban100/x2/img_097_SRF_2_HR.png\n",
            "Urban100/x2/img_079_SRF_2_HR.png\n",
            "Urban100/x3/img_091_SRF_3_LR.png\n",
            "Urban100/x3/img_073_SRF_3_LR.png\n",
            "Urban100/x4/img_018_SRF_4_LR.png\n",
            "Urban100/x3/img_055_SRF_3_LR.png\n",
            "Urban100/x4/img_001_SRF_4_HR.png\n",
            "Urban100/x3/img_037_SRF_3_LR.png\n",
            "Urban100/x3/img_019_SRF_3_LR.png\n",
            "Urban100/x3/img_092_SRF_3_HR.png\n",
            "Urban100/x3/img_074_SRF_3_HR.png\n",
            "Urban100/x4/img_037_SRF_4_HR.png\n",
            "Urban100/x3/img_056_SRF_3_HR.png\n",
            "Urban100/x4/img_019_SRF_4_HR.png\n",
            "Urban100/x3/img_038_SRF_3_HR.png\n",
            "Urban100/x4/img_050_SRF_4_LR.png\n",
            "Urban100/x2/img_001_SRF_2_LR.png\n",
            "Urban100/x4/img_086_SRF_4_LR.png\n",
            "Urban100/x4/img_068_SRF_4_LR.png\n",
            "Urban100/x3/img_087_SRF_3_LR.png\n",
            "Urban100/x2/img_020_SRF_2_HR.png\n",
            "Urban100/x2/img_002_SRF_2_HR.png\n",
            "Urban100/x4/img_087_SRF_4_HR.png\n",
            "Urban100/x4/img_069_SRF_4_HR.png\n",
            "Urban100/x2/img_051_SRF_2_LR.png\n",
            "Urban100/x2/img_033_SRF_2_LR.png\n",
            "Urban100/x2/img_015_SRF_2_LR.png\n",
            "Urban100/x2/img_070_SRF_2_HR.png\n",
            "Urban100/x2/img_052_SRF_2_HR.png\n",
            "Urban100/x3/img_015_SRF_3_HR.png\n",
            "Urban100/x2/img_034_SRF_2_HR.png\n",
            "Urban100/x2/img_016_SRF_2_HR.png\n",
            "Urban100/x3/img_010_SRF_3_LR.png\n",
            "Urban100/x4/img_010_SRF_4_HR.png\n",
            "Urban100/x3/img_064_SRF_3_LR.png\n",
            "Urban100/x2/img_083_SRF_2_LR.png\n",
            "Urban100/x2/img_065_SRF_2_LR.png\n",
            "Urban100/x3/img_046_SRF_3_LR.png\n",
            "Urban100/x3/img_028_SRF_3_LR.png\n",
            "Urban100/x3/img_083_SRF_3_HR.png\n",
            "Urban100/x3/img_065_SRF_3_HR.png\n",
            "Urban100/x2/img_084_SRF_2_HR.png\n",
            "Urban100/x3/img_047_SRF_3_HR.png\n",
            "Urban100/x3/img_029_SRF_3_HR.png\n",
            "Urban100/x4/img_041_SRF_4_LR.png\n",
            "Urban100/x4/img_023_SRF_4_LR.png\n",
            "Urban100/x4/img_005_SRF_4_LR.png\n",
            "Urban100/x4/img_060_SRF_4_HR.png\n",
            "Urban100/x3/img_096_SRF_3_LR.png\n",
            "Urban100/x4/img_042_SRF_4_HR.png\n",
            "Urban100/x3/img_078_SRF_3_LR.png\n",
            "Urban100/x4/img_024_SRF_4_HR.png\n",
            "Urban100/x4/img_006_SRF_4_HR.png\n",
            "Urban100/x3/img_097_SRF_3_HR.png\n",
            "Urban100/x3/img_079_SRF_3_HR.png\n",
            "Urban100/x4/img_091_SRF_4_LR.png\n",
            "Urban100/x4/img_073_SRF_4_LR.png\n",
            "Urban100/x4/img_055_SRF_4_LR.png\n",
            "Urban100/x2/img_024_SRF_2_LR.png\n",
            "Urban100/x2/img_006_SRF_2_LR.png\n",
            "Urban100/x4/img_092_SRF_4_HR.png\n",
            "Urban100/x4/img_074_SRF_4_HR.png\n",
            "Urban100/x2/img_043_SRF_2_HR.png\n",
            "Urban100/x2/img_025_SRF_2_HR.png\n",
            "Urban100/x2/img_007_SRF_2_HR.png\n",
            "Urban100/x3/img_001_SRF_3_LR.png\n",
            "Urban100/x2/img_092_SRF_2_LR.png\n",
            "Urban100/x2/img_074_SRF_2_LR.png\n",
            "Urban100/x3/img_020_SRF_3_HR.png\n",
            "Urban100/x2/img_056_SRF_2_LR.png\n",
            "Urban100/x3/img_002_SRF_3_HR.png\n",
            "Urban100/x2/img_038_SRF_2_LR.png\n",
            "Urban100/x2/img_093_SRF_2_HR.png\n",
            "Urban100/x3/img_051_SRF_3_LR.png\n",
            "Urban100/x2/img_075_SRF_2_HR.png\n",
            "Urban100/x2/img_057_SRF_2_HR.png\n",
            "Urban100/x2/img_039_SRF_2_HR.png\n",
            "Urban100/x4/img_032_SRF_4_LR.png\n",
            "Urban100/x4/img_014_SRF_4_LR.png\n",
            "Urban100/x3/img_033_SRF_3_LR.png\n",
            "Urban100/x2/img_088_SRF_2_LR.png\n",
            "Urban100/x4/img_051_SRF_4_HR.png\n",
            "Urban100/x3/img_070_SRF_3_HR.png\n",
            "Urban100/x4/img_033_SRF_4_HR.png\n",
            "Urban100/x3/img_052_SRF_3_HR.png\n",
            "Urban100/x3/img_069_SRF_3_LR.png\n",
            "Urban100/x4/img_015_SRF_4_HR.png\n",
            "Urban100/x3/img_088_SRF_3_HR.png\n",
            "Urban100/x4/img_082_SRF_4_LR.png\n",
            "Urban100/x4/img_064_SRF_4_LR.png\n",
            "Urban100/x4/img_046_SRF_4_LR.png\n",
            "Urban100/x4/img_028_SRF_4_LR.png\n",
            "Urban100/x4/img_083_SRF_4_HR.png\n",
            "Urban100/x4/img_065_SRF_4_HR.png\n",
            "Urban100/x4/img_047_SRF_4_HR.png\n",
            "Urban100/x4/img_029_SRF_4_HR.png\n",
            "Urban100/x2/img_011_SRF_2_LR.png\n",
            "Urban100/x4/img_096_SRF_4_LR.png\n",
            "Urban100/x4/img_078_SRF_4_LR.png\n",
            "Urban100/x2/img_030_SRF_2_HR.png\n",
            "Urban100/x3/img_011_SRF_3_HR.png\n",
            "Urban100/x2/img_047_SRF_2_LR.png\n",
            "Urban100/x2/img_012_SRF_2_HR.png\n",
            "Urban100/x2/img_029_SRF_2_LR.png\n",
            "Urban100/x4/img_097_SRF_4_HR.png\n",
            "Urban100/x2/img_066_SRF_2_HR.png\n",
            "Urban100/x2/img_048_SRF_2_HR.png\n",
            "Urban100/x3/img_060_SRF_3_LR.png\n",
            "Urban100/x3/img_042_SRF_3_LR.png\n",
            "Urban100/x2/img_061_SRF_2_LR.png\n",
            "Urban100/x3/img_024_SRF_3_LR.png\n",
            "Urban100/x3/img_006_SRF_3_LR.png\n",
            "Urban100/x2/img_080_SRF_2_HR.png\n",
            "Urban100/x3/img_061_SRF_3_HR.png\n",
            "Urban100/x2/img_097_SRF_2_LR.png\n",
            "Urban100/x3/img_043_SRF_3_HR.png\n",
            "Urban100/x2/img_079_SRF_2_LR.png\n",
            "Urban100/x3/img_025_SRF_3_HR.png\n",
            "Urban100/x4/img_020_SRF_4_HR.png\n",
            "Urban100/x3/img_007_SRF_3_HR.png\n",
            "Urban100/x4/img_001_SRF_4_LR.png\n",
            "Urban100/x2/img_098_SRF_2_HR.png\n",
            "Urban100/x3/img_092_SRF_3_LR.png\n",
            "Urban100/x3/img_074_SRF_3_LR.png\n",
            "Urban100/x4/img_037_SRF_4_LR.png\n",
            "Urban100/x3/img_056_SRF_3_LR.png\n",
            "Urban100/x4/img_019_SRF_4_LR.png\n",
            "Urban100/x3/img_093_SRF_3_HR.png\n",
            "Urban100/x4/img_056_SRF_4_HR.png\n",
            "Urban100/x3/img_075_SRF_3_HR.png\n",
            "Urban100/x4/img_038_SRF_4_HR.png\n",
            "Urban100/x2/img_020_SRF_2_LR.png\n",
            "Urban100/x2/img_002_SRF_2_LR.png\n",
            "Urban100/x4/img_087_SRF_4_LR.png\n",
            "Urban100/x4/img_069_SRF_4_LR.png\n",
            "Urban100/x2/img_021_SRF_2_HR.png\n",
            "Urban100/x2/img_003_SRF_2_HR.png\n",
            "Urban100/x4/img_088_SRF_4_HR.png\n",
            "Urban100/x2/img_070_SRF_2_LR.png\n",
            "Urban100/x2/img_052_SRF_2_LR.png\n",
            "Urban100/x3/img_015_SRF_3_LR.png\n",
            "Urban100/x2/img_034_SRF_2_LR.png\n",
            "Urban100/x2/img_016_SRF_2_LR.png\n",
            "Urban100/x2/img_071_SRF_2_HR.png\n",
            "Urban100/x2/img_053_SRF_2_HR.png\n",
            "Urban100/x3/img_034_SRF_3_HR.png\n",
            "Urban100/x3/img_016_SRF_3_HR.png\n",
            "Urban100/x2/img_035_SRF_2_HR.png\n",
            "Urban100/x4/img_010_SRF_4_LR.png\n",
            "Urban100/x2/img_089_SRF_2_HR.png\n",
            "Urban100/x3/img_083_SRF_3_LR.png\n",
            "Urban100/x3/img_065_SRF_3_LR.png\n",
            "Urban100/x2/img_084_SRF_2_LR.png\n",
            "Urban100/x4/img_011_SRF_4_HR.png\n",
            "Urban100/x3/img_047_SRF_3_LR.png\n",
            "Urban100/x3/img_029_SRF_3_LR.png\n",
            "Urban100/x3/img_084_SRF_3_HR.png\n",
            "Urban100/x3/img_066_SRF_3_HR.png\n",
            "Urban100/x3/img_048_SRF_3_HR.png\n",
            "Urban100/x4/img_060_SRF_4_LR.png\n",
            "Urban100/x4/img_042_SRF_4_LR.png\n",
            "Urban100/x4/img_024_SRF_4_LR.png\n",
            "Urban100/x4/img_061_SRF_4_HR.png\n",
            "Urban100/x3/img_097_SRF_3_LR.png\n",
            "Urban100/x4/img_043_SRF_4_HR.png\n",
            "Urban100/x3/img_079_SRF_3_LR.png\n",
            "Urban100/x4/img_079_SRF_4_HR.png\n",
            "Urban100/x3/img_098_SRF_3_HR.png\n",
            "Urban100/x4/img_092_SRF_4_LR.png\n",
            "Urban100/x2/img_043_SRF_2_LR.png\n",
            "Urban100/x2/img_025_SRF_2_LR.png\n",
            "Urban100/x2/img_007_SRF_2_LR.png\n",
            "Urban100/x2/img_062_SRF_2_HR.png\n",
            "Urban100/x2/img_044_SRF_2_HR.png\n",
            "Urban100/x2/img_026_SRF_2_HR.png\n",
            "Urban100/x4/img_002_SRF_4_HR.png\n",
            "Urban100/x2/img_008_SRF_2_HR.png\n",
            "Urban100/x3/img_020_SRF_3_LR.png\n",
            "Urban100/x3/img_002_SRF_3_LR.png\n",
            "Urban100/x2/img_093_SRF_2_LR.png\n",
            "Urban100/x3/img_038_SRF_3_LR.png\n",
            "Urban100/x2/img_075_SRF_2_LR.png\n",
            "Urban100/x3/img_021_SRF_3_HR.png\n",
            "Urban100/x2/img_057_SRF_2_LR.png\n",
            "Urban100/x3/img_003_SRF_3_HR.png\n",
            "Urban100/x2/img_039_SRF_2_LR.png\n",
            "Urban100/x4/img_051_SRF_4_LR.png\n",
            "Urban100/x2/img_094_SRF_2_HR.png\n",
            "Urban100/x2/img_076_SRF_2_HR.png\n",
            "Urban100/x3/img_057_SRF_3_HR.png\n",
            "Urban100/x3/img_039_SRF_3_HR.png\n",
            "Urban100/x2/img_058_SRF_2_HR.png\n",
            "Urban100/x3/img_070_SRF_3_LR.png\n",
            "Urban100/x3/img_052_SRF_3_LR.png\n",
            "Urban100/x4/img_033_SRF_4_LR.png\n",
            "Urban100/x4/img_015_SRF_4_LR.png\n",
            "Urban100/x4/img_070_SRF_4_HR.png\n",
            "Urban100/x4/img_052_SRF_4_HR.png\n",
            "Urban100/x3/img_071_SRF_3_HR.png\n",
            "Urban100/x3/img_088_SRF_3_LR.png\n",
            "Urban100/x4/img_034_SRF_4_HR.png\n",
            "Urban100/x4/img_016_SRF_4_HR.png\n",
            "Urban100/x3/img_089_SRF_3_HR.png\n",
            "Urban100/x4/img_083_SRF_4_LR.png\n",
            "Urban100/x4/img_065_SRF_4_LR.png\n",
            "Urban100/x4/img_047_SRF_4_LR.png\n",
            "Urban100/x4/img_029_SRF_4_LR.png\n",
            "Urban100/x4/img_084_SRF_4_HR.png\n",
            "Urban100/x4/img_025_SRF_4_HR.png\n",
            "Urban100/x4/img_066_SRF_4_HR.png\n",
            "Urban100/x4/img_048_SRF_4_HR.png\n",
            "Urban100/x2/img_017_SRF_2_HR.png\n",
            "Urban100/x2/img_030_SRF_2_LR.png\n",
            "Urban100/x3/img_011_SRF_3_LR.png\n",
            "Urban100/x2/img_012_SRF_2_LR.png\n",
            "Urban100/x4/img_097_SRF_4_LR.png\n",
            "Urban100/x2/img_031_SRF_2_HR.png\n",
            "Urban100/x3/img_030_SRF_3_HR.png\n",
            "Urban100/x2/img_066_SRF_2_LR.png\n",
            "Urban100/x3/img_012_SRF_3_HR.png\n",
            "Urban100/x2/img_048_SRF_2_LR.png\n",
            "Urban100/x2/img_080_SRF_2_LR.png\n",
            "Urban100/x2/img_085_SRF_2_HR.png\n",
            "Urban100/x2/img_067_SRF_2_HR.png\n",
            "Urban100/x2/img_049_SRF_2_HR.png\n",
            "Urban100/x3/img_061_SRF_3_LR.png\n",
            "Urban100/x3/img_043_SRF_3_LR.png\n",
            "Urban100/x3/img_025_SRF_3_LR.png\n",
            "Urban100/x4/img_006_SRF_4_LR.png\n",
            "Urban100/x3/img_080_SRF_3_HR.png\n",
            "Urban100/x3/img_007_SRF_3_LR.png\n",
            "Urban100/x2/img_100_SRF_2_HR.png\n",
            "Urban100/x3/img_062_SRF_3_HR.png\n",
            "Urban100/x2/img_098_SRF_2_LR.png\n",
            "Urban100/x3/img_044_SRF_3_HR.png\n",
            "Urban100/x4/img_007_SRF_4_HR.png\n",
            "Urban100/x3/img_026_SRF_3_HR.png\n",
            "Urban100/x4/img_020_SRF_4_LR.png\n",
            "Urban100/x2/img_099_SRF_2_HR.png\n",
            "Urban100/x3/img_093_SRF_3_LR.png\n",
            "Urban100/x4/img_074_SRF_4_LR.png\n",
            "Urban100/x3/img_075_SRF_3_LR.png\n",
            "Urban100/x4/img_056_SRF_4_LR.png\n",
            "Urban100/x4/img_038_SRF_4_LR.png\n",
            "Urban100/x4/img_093_SRF_4_HR.png\n",
            "Urban100/x4/img_075_SRF_4_HR.png\n",
            "Urban100/x3/img_094_SRF_3_HR.png\n",
            "Urban100/x4/img_057_SRF_4_HR.png\n",
            "Urban100/x4/img_039_SRF_4_HR.png\n",
            "Urban100/\n",
            "Urban100/x2/img_021_SRF_2_LR.png\n",
            "Urban100/x2/img_003_SRF_2_LR.png\n",
            "Urban100/x4/img_088_SRF_4_LR.png\n",
            "Urban100/x2/img_040_SRF_2_HR.png\n",
            "Urban100/x2/img_022_SRF_2_HR.png\n",
            "Urban100/x2/img_004_SRF_2_HR.png\n",
            "Urban100/x4/img_089_SRF_4_HR.png\n",
            "Urban100/x2/img_071_SRF_2_LR.png\n",
            "Urban100/x3/img_034_SRF_3_LR.png\n",
            "Urban100/x2/img_053_SRF_2_LR.png\n",
            "Urban100/x3/img_016_SRF_3_LR.png\n",
            "Urban100/x2/img_035_SRF_2_LR.png\n",
            "Urban100/x3/img_053_SRF_3_HR.png\n",
            "Urban100/x2/img_090_SRF_2_HR.png\n",
            "Urban100/x2/img_054_SRF_2_HR.png\n",
            "Urban100/x2/img_072_SRF_2_HR.png\n",
            "Urban100/x2/img_089_SRF_2_LR.png\n",
            "Urban100/x3/img_035_SRF_3_HR.png\n",
            "Urban100/x3/img_017_SRF_3_HR.png\n"
          ]
        }
      ]
    },
    {
      "cell_type": "code",
      "metadata": {
        "colab": {
          "base_uri": "https://localhost:8080/"
        },
        "id": "Q7QwrfsVkXiD",
        "outputId": "45d9aa6e-6993-4e5e-f0f3-ae818fbb5e54"
      },
      "source": [
        "!cd '/content/drive/MyDrive/SISR/dataset/DIV2K'\n",
        "#preprocessing\n",
        "!python '/content/drive/MyDrive/SISR/LESRCNN/dataset/div2h5.py' \n"
      ],
      "execution_count": 36,
      "outputs": [
        {
          "output_type": "stream",
          "name": "stdout",
          "text": [
            "/content/drive/MyDrive/SISR/dataset/DIV2K/DIV2K_train_HR/0001.png\n",
            "/content/drive/MyDrive/SISR/dataset/DIV2K/DIV2K_train_HR/0002.png\n",
            "/content/drive/MyDrive/SISR/dataset/DIV2K/DIV2K_train_HR/0003.png\n",
            "/content/drive/MyDrive/SISR/dataset/DIV2K/DIV2K_train_HR/0004.png\n",
            "/content/drive/MyDrive/SISR/dataset/DIV2K/DIV2K_train_HR/0005.png\n",
            "/content/drive/MyDrive/SISR/dataset/DIV2K/DIV2K_train_HR/0006.png\n",
            "/content/drive/MyDrive/SISR/dataset/DIV2K/DIV2K_train_HR/0007.png\n",
            "/content/drive/MyDrive/SISR/dataset/DIV2K/DIV2K_train_HR/0008.png\n",
            "/content/drive/MyDrive/SISR/dataset/DIV2K/DIV2K_train_HR/0009.png\n",
            "/content/drive/MyDrive/SISR/dataset/DIV2K/DIV2K_train_HR/0010.png\n",
            "/content/drive/MyDrive/SISR/dataset/DIV2K/DIV2K_train_HR/0011.png\n",
            "/content/drive/MyDrive/SISR/dataset/DIV2K/DIV2K_train_HR/0012.png\n",
            "/content/drive/MyDrive/SISR/dataset/DIV2K/DIV2K_train_HR/0013.png\n",
            "/content/drive/MyDrive/SISR/dataset/DIV2K/DIV2K_train_HR/0014.png\n",
            "/content/drive/MyDrive/SISR/dataset/DIV2K/DIV2K_train_HR/0015.png\n",
            "/content/drive/MyDrive/SISR/dataset/DIV2K/DIV2K_train_HR/0016.png\n",
            "/content/drive/MyDrive/SISR/dataset/DIV2K/DIV2K_train_HR/0017.png\n",
            "/content/drive/MyDrive/SISR/dataset/DIV2K/DIV2K_train_HR/0018.png\n",
            "/content/drive/MyDrive/SISR/dataset/DIV2K/DIV2K_train_HR/0019.png\n",
            "/content/drive/MyDrive/SISR/dataset/DIV2K/DIV2K_train_HR/0020.png\n",
            "/content/drive/MyDrive/SISR/dataset/DIV2K/DIV2K_train_HR/0021.png\n",
            "/content/drive/MyDrive/SISR/dataset/DIV2K/DIV2K_train_LR_bicubic/X2/0001x2.png\n",
            "/content/drive/MyDrive/SISR/dataset/DIV2K/DIV2K_train_LR_bicubic/X2/0002x2.png\n",
            "/content/drive/MyDrive/SISR/dataset/DIV2K/DIV2K_train_LR_bicubic/X2/0003x2.png\n",
            "/content/drive/MyDrive/SISR/dataset/DIV2K/DIV2K_train_LR_bicubic/X2/0004x2.png\n",
            "/content/drive/MyDrive/SISR/dataset/DIV2K/DIV2K_train_LR_bicubic/X2/0005x2.png\n",
            "/content/drive/MyDrive/SISR/dataset/DIV2K/DIV2K_train_LR_bicubic/X2/0006x2.png\n",
            "/content/drive/MyDrive/SISR/dataset/DIV2K/DIV2K_train_LR_bicubic/X2/0007x2.png\n",
            "/content/drive/MyDrive/SISR/dataset/DIV2K/DIV2K_train_LR_bicubic/X2/0008x2.png\n",
            "/content/drive/MyDrive/SISR/dataset/DIV2K/DIV2K_train_LR_bicubic/X2/0009x2.png\n",
            "/content/drive/MyDrive/SISR/dataset/DIV2K/DIV2K_train_LR_bicubic/X2/0010x2.png\n",
            "/content/drive/MyDrive/SISR/dataset/DIV2K/DIV2K_train_LR_bicubic/X2/0011x2.png\n",
            "/content/drive/MyDrive/SISR/dataset/DIV2K/DIV2K_train_LR_bicubic/X2/0012x2.png\n",
            "/content/drive/MyDrive/SISR/dataset/DIV2K/DIV2K_train_LR_bicubic/X2/0013x2.png\n",
            "/content/drive/MyDrive/SISR/dataset/DIV2K/DIV2K_train_LR_bicubic/X2/0014x2.png\n",
            "/content/drive/MyDrive/SISR/dataset/DIV2K/DIV2K_train_LR_bicubic/X2/0015x2.png\n",
            "/content/drive/MyDrive/SISR/dataset/DIV2K/DIV2K_train_LR_bicubic/X2/0016x2.png\n",
            "/content/drive/MyDrive/SISR/dataset/DIV2K/DIV2K_train_LR_bicubic/X2/0017x2.png\n",
            "/content/drive/MyDrive/SISR/dataset/DIV2K/DIV2K_train_LR_bicubic/X2/0018x2.png\n",
            "/content/drive/MyDrive/SISR/dataset/DIV2K/DIV2K_train_LR_bicubic/X2/0019x2.png\n",
            "/content/drive/MyDrive/SISR/dataset/DIV2K/DIV2K_train_LR_bicubic/X2/0020x2.png\n",
            "/content/drive/MyDrive/SISR/dataset/DIV2K/DIV2K_train_LR_bicubic/X2/0021x2.png\n",
            "/content/drive/MyDrive/SISR/dataset/DIV2K/DIV2K_train_LR_bicubic/X3/0001x3.png\n",
            "/content/drive/MyDrive/SISR/dataset/DIV2K/DIV2K_train_LR_bicubic/X3/0002x3.png\n",
            "/content/drive/MyDrive/SISR/dataset/DIV2K/DIV2K_train_LR_bicubic/X3/0003x3.png\n",
            "/content/drive/MyDrive/SISR/dataset/DIV2K/DIV2K_train_LR_bicubic/X3/0004x3.png\n",
            "/content/drive/MyDrive/SISR/dataset/DIV2K/DIV2K_train_LR_bicubic/X3/0005x3.png\n",
            "/content/drive/MyDrive/SISR/dataset/DIV2K/DIV2K_train_LR_bicubic/X3/0006x3.png\n",
            "/content/drive/MyDrive/SISR/dataset/DIV2K/DIV2K_train_LR_bicubic/X3/0007x3.png\n",
            "/content/drive/MyDrive/SISR/dataset/DIV2K/DIV2K_train_LR_bicubic/X3/0008x3.png\n",
            "/content/drive/MyDrive/SISR/dataset/DIV2K/DIV2K_train_LR_bicubic/X3/0009x3.png\n",
            "/content/drive/MyDrive/SISR/dataset/DIV2K/DIV2K_train_LR_bicubic/X3/0010x3.png\n",
            "/content/drive/MyDrive/SISR/dataset/DIV2K/DIV2K_train_LR_bicubic/X3/0011x3.png\n",
            "/content/drive/MyDrive/SISR/dataset/DIV2K/DIV2K_train_LR_bicubic/X3/0012x3.png\n",
            "/content/drive/MyDrive/SISR/dataset/DIV2K/DIV2K_train_LR_bicubic/X3/0013x3.png\n",
            "/content/drive/MyDrive/SISR/dataset/DIV2K/DIV2K_train_LR_bicubic/X3/0014x3.png\n",
            "/content/drive/MyDrive/SISR/dataset/DIV2K/DIV2K_train_LR_bicubic/X3/0015x3.png\n",
            "/content/drive/MyDrive/SISR/dataset/DIV2K/DIV2K_train_LR_bicubic/X3/0016x3.png\n",
            "/content/drive/MyDrive/SISR/dataset/DIV2K/DIV2K_train_LR_bicubic/X3/0017x3.png\n",
            "/content/drive/MyDrive/SISR/dataset/DIV2K/DIV2K_train_LR_bicubic/X3/0018x3.png\n",
            "/content/drive/MyDrive/SISR/dataset/DIV2K/DIV2K_train_LR_bicubic/X3/0019x3.png\n",
            "/content/drive/MyDrive/SISR/dataset/DIV2K/DIV2K_train_LR_bicubic/X3/0020x3.png\n",
            "/content/drive/MyDrive/SISR/dataset/DIV2K/DIV2K_train_LR_bicubic/X3/0021x3.png\n",
            "/content/drive/MyDrive/SISR/dataset/DIV2K/DIV2K_train_LR_bicubic/X4/0001x4.png\n",
            "/content/drive/MyDrive/SISR/dataset/DIV2K/DIV2K_train_LR_bicubic/X4/0002x4.png\n",
            "/content/drive/MyDrive/SISR/dataset/DIV2K/DIV2K_train_LR_bicubic/X4/0003x4.png\n",
            "/content/drive/MyDrive/SISR/dataset/DIV2K/DIV2K_train_LR_bicubic/X4/0004x4.png\n",
            "/content/drive/MyDrive/SISR/dataset/DIV2K/DIV2K_train_LR_bicubic/X4/0005x4.png\n",
            "/content/drive/MyDrive/SISR/dataset/DIV2K/DIV2K_train_LR_bicubic/X4/0006x4.png\n",
            "/content/drive/MyDrive/SISR/dataset/DIV2K/DIV2K_train_LR_bicubic/X4/0007x4.png\n",
            "/content/drive/MyDrive/SISR/dataset/DIV2K/DIV2K_train_LR_bicubic/X4/0008x4.png\n",
            "/content/drive/MyDrive/SISR/dataset/DIV2K/DIV2K_train_LR_bicubic/X4/0009x4.png\n",
            "/content/drive/MyDrive/SISR/dataset/DIV2K/DIV2K_train_LR_bicubic/X4/0010x4.png\n",
            "/content/drive/MyDrive/SISR/dataset/DIV2K/DIV2K_train_LR_bicubic/X4/0011x4.png\n",
            "/content/drive/MyDrive/SISR/dataset/DIV2K/DIV2K_train_LR_bicubic/X4/0012x4.png\n",
            "/content/drive/MyDrive/SISR/dataset/DIV2K/DIV2K_train_LR_bicubic/X4/0013x4.png\n",
            "/content/drive/MyDrive/SISR/dataset/DIV2K/DIV2K_train_LR_bicubic/X4/0014x4.png\n",
            "/content/drive/MyDrive/SISR/dataset/DIV2K/DIV2K_train_LR_bicubic/X4/0015x4.png\n",
            "/content/drive/MyDrive/SISR/dataset/DIV2K/DIV2K_train_LR_bicubic/X4/0016x4.png\n",
            "/content/drive/MyDrive/SISR/dataset/DIV2K/DIV2K_train_LR_bicubic/X4/0017x4.png\n",
            "/content/drive/MyDrive/SISR/dataset/DIV2K/DIV2K_train_LR_bicubic/X4/0018x4.png\n",
            "/content/drive/MyDrive/SISR/dataset/DIV2K/DIV2K_train_LR_bicubic/X4/0019x4.png\n",
            "/content/drive/MyDrive/SISR/dataset/DIV2K/DIV2K_train_LR_bicubic/X4/0020x4.png\n",
            "/content/drive/MyDrive/SISR/dataset/DIV2K/DIV2K_train_LR_bicubic/X4/0021x4.png\n"
          ]
        }
      ]
    },
    {
      "cell_type": "code",
      "metadata": {
        "colab": {
          "base_uri": "https://localhost:8080/"
        },
        "id": "i144uY4Atbtl",
        "outputId": "1ebeba91-4820-4752-bfd1-b8f523dc7889"
      },
      "source": [
        "!pip install opencv-python"
      ],
      "execution_count": 37,
      "outputs": [
        {
          "output_type": "stream",
          "name": "stdout",
          "text": [
            "Requirement already satisfied: opencv-python in /usr/local/lib/python3.7/site-packages (4.5.3.56)\n",
            "Requirement already satisfied: numpy>=1.14.5 in /usr/local/lib/python3.7/site-packages (from opencv-python) (1.20.3)\n"
          ]
        }
      ]
    },
    {
      "cell_type": "code",
      "metadata": {
        "id": "E42ea75NtfpZ"
      },
      "source": [
        "import cv2"
      ],
      "execution_count": 38,
      "outputs": []
    },
    {
      "cell_type": "code",
      "metadata": {
        "colab": {
          "base_uri": "https://localhost:8080/"
        },
        "id": "DLlsAOIv8Wpd",
        "outputId": "cfbdc027-6699-4677-f09f-48da6ab97078"
      },
      "source": [
        "!pip uninstall scikit-image\n",
        "!pip install scikit-image==0.15.0 -U -i https://pypi.tuna.tsinghua.edu.cn/simple\n"
      ],
      "execution_count": 62,
      "outputs": [
        {
          "output_type": "stream",
          "name": "stdout",
          "text": [
            "Found existing installation: scikit-image 0.18.3\n",
            "Uninstalling scikit-image-0.18.3:\n",
            "  Would remove:\n",
            "    /usr/local/bin/skivi\n",
            "    /usr/local/lib/python3.7/site-packages/scikit_image-0.18.3-py3.7.egg-info\n",
            "    /usr/local/lib/python3.7/site-packages/skimage\n",
            "Proceed (y/n)? y\n",
            "  Successfully uninstalled scikit-image-0.18.3\n",
            "Looking in indexes: https://pypi.tuna.tsinghua.edu.cn/simple\n",
            "Collecting scikit-image==0.15.0\n",
            "  Downloading https://pypi.tuna.tsinghua.edu.cn/packages/2e/21/ea56c8bb2e8112837dd71aebeb2ac67913e784911c0d7f493a593fa1a207/scikit_image-0.15.0-cp37-cp37m-manylinux1_x86_64.whl (26.3 MB)\n",
            "\u001b[K     |████████████████████████████████| 26.3 MB 28 kB/s \n",
            "\u001b[?25hRequirement already satisfied: PyWavelets>=0.4.0 in /usr/local/lib/python3.7/site-packages (from scikit-image==0.15.0) (1.1.1)\n",
            "Requirement already satisfied: matplotlib!=3.0.0,>=2.0.0 in /usr/local/lib/python3.7/site-packages (from scikit-image==0.15.0) (3.4.3)\n",
            "Requirement already satisfied: scipy>=0.17.0 in /usr/local/lib/python3.7/site-packages (from scikit-image==0.15.0) (1.7.1)\n",
            "Requirement already satisfied: networkx>=2.0 in /usr/local/lib/python3.7/site-packages (from scikit-image==0.15.0) (2.6.3)\n",
            "Requirement already satisfied: pillow>=4.3.0 in /usr/local/lib/python3.7/site-packages (from scikit-image==0.15.0) (6.2.1)\n",
            "Requirement already satisfied: imageio>=2.0.1 in /usr/local/lib/python3.7/site-packages (from scikit-image==0.15.0) (2.9.0)\n",
            "Requirement already satisfied: numpy in /usr/local/lib/python3.7/site-packages (from imageio>=2.0.1->scikit-image==0.15.0) (1.20.3)\n",
            "Requirement already satisfied: kiwisolver>=1.0.1 in /usr/local/lib/python3.7/site-packages (from matplotlib!=3.0.0,>=2.0.0->scikit-image==0.15.0) (1.3.2)\n",
            "Requirement already satisfied: pyparsing>=2.2.1 in /usr/local/lib/python3.7/site-packages (from matplotlib!=3.0.0,>=2.0.0->scikit-image==0.15.0) (2.4.7)\n",
            "Requirement already satisfied: python-dateutil>=2.7 in /usr/local/lib/python3.7/site-packages (from matplotlib!=3.0.0,>=2.0.0->scikit-image==0.15.0) (2.8.2)\n",
            "Requirement already satisfied: cycler>=0.10 in /usr/local/lib/python3.7/site-packages (from matplotlib!=3.0.0,>=2.0.0->scikit-image==0.15.0) (0.10.0)\n",
            "Requirement already satisfied: six in /usr/local/lib/python3.7/site-packages (from cycler>=0.10->matplotlib!=3.0.0,>=2.0.0->scikit-image==0.15.0) (1.15.0)\n",
            "Installing collected packages: scikit-image\n",
            "Successfully installed scikit-image-0.15.0\n"
          ]
        }
      ]
    },
    {
      "cell_type": "code",
      "metadata": {
        "colab": {
          "base_uri": "https://localhost:8080/"
        },
        "id": "rs4TDu0dfo8_",
        "outputId": "78cc1035-8b1e-45c1-87a6-d49421372d92"
      },
      "source": [
        "#!python '/content/drive/MyDrive/SISR/LESRCNN/x2/train.py' --patch_size 64 --batch_size 1 --max_steps 30000 --decay 10000 --model lesrcnn --ckpt_name lesrcnn_x2 --ckpt_dir '/content/drive/MyDrive/SISR/LESRCNN/checkpoint' --scale 2 --num_gpu 1\n",
        "!python '/content/drive/MyDrive/SISR/LESRCNN/x2/train.py' --patch_size 64 --batch_size 1 --max_steps 600000 --decay 400000 --model lesrcnn --ckpt_name lesrcnn_x2 --ckpt_dir '/content/drive/MyDrive/SISR/LESRCNN/checkpoint' --scale 2 --num_gpu 1"
      ],
      "execution_count": 63,
      "outputs": [
        {
          "output_type": "stream",
          "name": "stdout",
          "text": [
            "{\n",
            "    \"batch_size\": 1,\n",
            "    \"ckpt_dir\": \"/content/drive/MyDrive/SISR/LESRCNN/checkpoint\",\n",
            "    \"ckpt_name\": \"lesrcnn_x2\",\n",
            "    \"clip\": 10.0,\n",
            "    \"decay\": 400000,\n",
            "    \"group\": 1,\n",
            "    \"loss_fn\": \"MSE\",\n",
            "    \"lr\": 0.0001,\n",
            "    \"max_steps\": 600000,\n",
            "    \"model\": \"lesrcnn\",\n",
            "    \"num_gpu\": 1,\n",
            "    \"patch_size\": 64,\n",
            "    \"print_interval\": 1000,\n",
            "    \"sample_dir\": \"/content/drive/MyDrive/SISR/LESRCNN/sample/\",\n",
            "    \"scale\": 2,\n",
            "    \"shave\": 20,\n",
            "    \"train_data_path\": \"/content/drive/MyDrive/SISR/LESRCNN/DIV2K_train.h5\",\n",
            "    \"verbose\": \"store_true\"\n",
            "}\n",
            "# of params: 626328\n",
            "ds\n",
            "epochs is 1000, mean_psnr is 23.721201, mean_ssim is 0.742976\n",
            "epochs is 2000, mean_psnr is 25.897667, mean_ssim is 0.814797\n",
            "epochs is 3000, mean_psnr is 27.001732, mean_ssim is 0.840191\n",
            "epochs is 4000, mean_psnr is 27.365208, mean_ssim is 0.858313\n",
            "epochs is 5000, mean_psnr is 27.948889, mean_ssim is 0.867239\n",
            "epochs is 6000, mean_psnr is 28.104025, mean_ssim is 0.870034\n",
            "epochs is 7000, mean_psnr is 27.076115, mean_ssim is 0.867277\n",
            "epochs is 8000, mean_psnr is 27.786149, mean_ssim is 0.870721\n",
            "epochs is 9000, mean_psnr is 28.215308, mean_ssim is 0.876007\n",
            "epochs is 10000, mean_psnr is 28.314462, mean_ssim is 0.876963\n",
            "epochs is 11000, mean_psnr is 28.352576, mean_ssim is 0.877283\n",
            "epochs is 12000, mean_psnr is 28.018156, mean_ssim is 0.877790\n",
            "epochs is 13000, mean_psnr is 28.517801, mean_ssim is 0.878722\n",
            "epochs is 14000, mean_psnr is 28.347007, mean_ssim is 0.878825\n",
            "epochs is 15000, mean_psnr is 28.185753, mean_ssim is 0.877386\n",
            "epochs is 16000, mean_psnr is 28.724902, mean_ssim is 0.883756\n",
            "epochs is 17000, mean_psnr is 28.652579, mean_ssim is 0.882467\n",
            "epochs is 18000, mean_psnr is 28.795537, mean_ssim is 0.884130\n",
            "epochs is 19000, mean_psnr is 28.811178, mean_ssim is 0.884865\n",
            "epochs is 20000, mean_psnr is 28.627688, mean_ssim is 0.882644\n",
            "epochs is 21000, mean_psnr is 28.808585, mean_ssim is 0.886006\n",
            "epochs is 22000, mean_psnr is 28.718505, mean_ssim is 0.885022\n",
            "Traceback (most recent call last):\n",
            "  File \"/content/drive/MyDrive/SISR/LESRCNN/x2/train.py\", line 54, in <module>\n",
            "    main(cfg)\n",
            "  File \"/content/drive/MyDrive/SISR/LESRCNN/x2/train.py\", line 50, in main\n",
            "    solver.fit()\n",
            "  File \"/content/drive/.shortcut-targets-by-id/1BKwPP2ZywCKYF3dJLVL_sxW9waxXkACw/SISR/LESRCNN/x2/solver.py\", line 103, in fit\n",
            "    psnr = self.evaluate(\"/content/drive/MyDrive/SISR/LESRCNN/dataset/Urban100\", scale=cfg.scale, num_step=self.step)\n",
            "  File \"/content/drive/.shortcut-targets-by-id/1BKwPP2ZywCKYF3dJLVL_sxW9waxXkACw/SISR/LESRCNN/x2/solver.py\", line 164, in evaluate\n",
            "    result = torch.FloatTensor(3, h, w).to(self.device)\n",
            "KeyboardInterrupt\n"
          ]
        }
      ]
    },
    {
      "cell_type": "code",
      "metadata": {
        "id": "K6V_z6oX3uhv"
      },
      "source": [
        "!python x3/train.py --patch_size 64 --batch_size 64 --max_steps 600000 --decay 400000 --model lesrcnn --ckpt_name lesrcnn_x3 --ckpt_dir checkpoint/lesrcnn_x3 --scale 3 --num_gpu 1"
      ],
      "execution_count": null,
      "outputs": []
    }
  ]
}