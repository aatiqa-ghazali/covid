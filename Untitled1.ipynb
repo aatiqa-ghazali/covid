{
  "nbformat": 4,
  "nbformat_minor": 0,
  "metadata": {
    "accelerator": "GPU",
    "colab": {
      "name": "Untitled1.ipynb",
      "provenance": [],
      "collapsed_sections": [],
      "authorship_tag": "ABX9TyMty2DbwUUKyw/p3yZkWVB0",
      "include_colab_link": true
    },
    "kernelspec": {
      "display_name": "Python 3",
      "name": "python3"
    },
    "language_info": {
      "name": "python"
    }
  },
  "cells": [
    {
      "cell_type": "markdown",
      "metadata": {
        "id": "view-in-github",
        "colab_type": "text"
      },
      "source": [
        "<a href=\"https://colab.research.google.com/github/aatiqa-ghazali/covid/blob/main/Untitled1.ipynb\" target=\"_parent\"><img src=\"https://colab.research.google.com/assets/colab-badge.svg\" alt=\"Open In Colab\"/></a>"
      ]
    },
    {
      "cell_type": "code",
      "metadata": {
        "colab": {
          "base_uri": "https://localhost:8080/"
        },
        "id": "bFtfTkE8AJlt",
        "outputId": "1eb77d1c-b092-4dae-d2b7-e742a3036bf8"
      },
      "source": [
        "from google.colab import drive\n",
        "drive.mount('/content/drive')\n"
      ],
      "execution_count": 7,
      "outputs": [
        {
          "output_type": "stream",
          "name": "stdout",
          "text": [
            "Drive already mounted at /content/drive; to attempt to forcibly remount, call drive.mount(\"/content/drive\", force_remount=True).\n"
          ]
        }
      ]
    },
    {
      "cell_type": "code",
      "metadata": {
        "colab": {
          "base_uri": "https://localhost:8080/"
        },
        "id": "mbYxr7ORASWl",
        "outputId": "e186c985-8947-4f0d-cf49-d47caaa9b3e9"
      },
      "source": [
        "!git clone https://github.com/Sudo-Biao/s-LWSR.git"
      ],
      "execution_count": null,
      "outputs": [
        {
          "name": "stdout",
          "output_type": "stream",
          "text": [
            "Cloning into 's-LWSR'...\n",
            "remote: Enumerating objects: 287, done.\u001b[K\n",
            "remote: Total 287 (delta 0), reused 0 (delta 0), pack-reused 287\u001b[K\n",
            "Receiving objects: 100% (287/287), 87.87 MiB | 38.82 MiB/s, done.\n",
            "Resolving deltas: 100% (47/47), done.\n"
          ]
        }
      ]
    },
    {
      "cell_type": "code",
      "metadata": {
        "id": "f0eQvZSOCK9o"
      },
      "source": [
        "!cd '/content/drive/MyDrive/s-LWSR/Train/code'"
      ],
      "execution_count": 8,
      "outputs": []
    },
    {
      "cell_type": "code",
      "metadata": {
        "colab": {
          "base_uri": "https://localhost:8080/"
        },
        "id": "dWyaedB-QA6g",
        "outputId": "49e38fc3-6917-431b-970a-be9fe4be0897"
      },
      "source": [
        "!unzip '/content/drive/MyDrive/s-LWSR/Train/DIV2K.zip'  -d '/content/drive/MyDrive/s-LWSR/Train'"
      ],
      "execution_count": 5,
      "outputs": [
        {
          "output_type": "stream",
          "name": "stdout",
          "text": [
            "Archive:  /content/drive/MyDrive/s-LWSR/Train/DIV2K.zip\n",
            "replace /content/drive/MyDrive/s-LWSR/Train/DIV2K/DIV2K_test_LR_bicubic/X2/0901x2.png? [y]es, [n]o, [A]ll, [N]one, [r]ename: "
          ]
        }
      ]
    },
    {
      "cell_type": "code",
      "metadata": {
        "colab": {
          "base_uri": "https://localhost:8080/"
        },
        "id": "WSS_dms8KTZg",
        "outputId": "79add9c7-f34b-47aa-bfb9-32acbde755ce"
      },
      "source": [
        "!pip install torch==1.0.1 torchvision"
      ],
      "execution_count": 9,
      "outputs": [
        {
          "output_type": "stream",
          "name": "stdout",
          "text": [
            "Requirement already satisfied: torch==1.0.1 in /usr/local/lib/python3.7/dist-packages (1.0.1)\n",
            "Requirement already satisfied: torchvision in /usr/local/lib/python3.7/dist-packages (0.2.2.post3)\n",
            "Requirement already satisfied: pillow>=4.1.1 in /usr/local/lib/python3.7/dist-packages (from torchvision) (7.1.2)\n",
            "Requirement already satisfied: numpy in /usr/local/lib/python3.7/dist-packages (from torchvision) (1.19.5)\n",
            "Requirement already satisfied: six in /usr/local/lib/python3.7/dist-packages (from torchvision) (1.15.0)\n"
          ]
        }
      ]
    },
    {
      "cell_type": "code",
      "metadata": {
        "colab": {
          "base_uri": "https://localhost:8080/"
        },
        "id": "1YFRdWJgpe0v",
        "outputId": "d2d73ca0-bfa8-42f6-f5bb-9239fb01897e"
      },
      "source": [
        "!pip install pillow"
      ],
      "execution_count": 13,
      "outputs": [
        {
          "output_type": "stream",
          "name": "stdout",
          "text": [
            "Requirement already satisfied: pillow in /usr/local/lib/python3.7/dist-packages (7.1.2)\n"
          ]
        }
      ]
    },
    {
      "cell_type": "code",
      "metadata": {
        "id": "OS0Ulvbgpk51"
      },
      "source": [
        "import scipy.misc\n"
      ],
      "execution_count": 15,
      "outputs": []
    },
    {
      "cell_type": "code",
      "metadata": {
        "id": "ILNpdSkmpN-P"
      },
      "source": [
        "import cv2\n",
        "import os\n",
        "import numpy as np\n",
        "import h5py\n",
        "import skimage\n",
        "import scipy\n",
        "from PIL import Image\n",
        "import importlib\n",
        "import scipy.misc"
      ],
      "execution_count": 11,
      "outputs": []
    },
    {
      "cell_type": "code",
      "metadata": {
        "colab": {
          "base_uri": "https://localhost:8080/"
        },
        "id": "SowrqP95CuDF",
        "outputId": "aa117f65-b581-4948-cafd-f03bd67cbef2"
      },
      "source": [
        "!CUDA_VISIBLE_DEVICES=0 python '/content/drive/MyDrive/s-LWSR/Train/code/main.py' --model LWSR --save s-LWSR_BIX2_P48 --scale 2 --n_feats 32  --reset --chop --save_results --print_model --patch_size 96 2>&1 | tee $LOG"
      ],
      "execution_count": null,
      "outputs": [
        {
          "output_type": "stream",
          "name": "stdout",
          "text": [
            "converting\n",
            "converted\n",
            "Preparing seperated binary files\n",
            "Preparing seperated binary files\n",
            "Making model...\n",
            "LWSR(\n",
            "  (sub_mean): MeanShift(3, 3, kernel_size=(1, 1), stride=(1, 1))\n",
            "  (add_mean): MeanShift(3, 3, kernel_size=(1, 1), stride=(1, 1))\n",
            "  (head): Sequential(\n",
            "    (0): Conv2d(3, 32, kernel_size=(3, 3), stride=(1, 1), padding=(1, 1))\n",
            "  )\n",
            "  (feat2_1): ResBlock(\n",
            "    (body): Sequential(\n",
            "      (0): Conv2d(32, 32, kernel_size=(3, 3), stride=(1, 1), padding=(1, 1))\n",
            "      (1): ReLU()\n",
            "      (2): Conv2d(32, 32, kernel_size=(3, 3), stride=(1, 1), padding=(1, 1))\n",
            "    )\n",
            "  )\n",
            "  (feat2_2): ResBlock(\n",
            "    (body): Sequential(\n",
            "      (0): Conv2d(32, 32, kernel_size=(3, 3), stride=(1, 1), padding=(1, 1))\n",
            "      (1): ReLU()\n",
            "      (2): Conv2d(32, 32, kernel_size=(3, 3), stride=(1, 1), padding=(1, 1))\n",
            "    )\n",
            "  )\n",
            "  (feat2_3): ResBlock(\n",
            "    (body): Sequential(\n",
            "      (0): Conv2d(32, 32, kernel_size=(3, 3), stride=(1, 1), padding=(1, 1))\n",
            "      (1): ReLU(inplace)\n",
            "      (2): Conv2d(32, 32, kernel_size=(3, 3), stride=(1, 1), padding=(1, 1))\n",
            "    )\n",
            "  )\n",
            "  (feat3_1): ResBlock(\n",
            "    (body): Sequential(\n",
            "      (0): Conv2d(32, 32, kernel_size=(3, 3), stride=(1, 1), padding=(1, 1))\n",
            "      (1): ReLU()\n",
            "      (2): Conv2d(32, 32, kernel_size=(3, 3), stride=(1, 1), padding=(1, 1))\n",
            "    )\n",
            "  )\n",
            "  (feat3_2): ResBlock(\n",
            "    (body): Sequential(\n",
            "      (0): Conv2d(32, 32, kernel_size=(3, 3), stride=(1, 1), padding=(1, 1))\n",
            "      (1): ReLU()\n",
            "      (2): Conv2d(32, 32, kernel_size=(3, 3), stride=(1, 1), padding=(1, 1))\n",
            "    )\n",
            "  )\n",
            "  (feat3_3): ResBlock(\n",
            "    (body): Sequential(\n",
            "      (0): Conv2d(32, 32, kernel_size=(3, 3), stride=(1, 1), padding=(1, 1))\n",
            "      (1): ReLU(inplace)\n",
            "      (2): Conv2d(32, 32, kernel_size=(3, 3), stride=(1, 1), padding=(1, 1))\n",
            "    )\n",
            "  )\n",
            "  (feat4_1): ResBlock(\n",
            "    (body): Sequential(\n",
            "      (0): Conv2d(32, 32, kernel_size=(3, 3), stride=(1, 1), padding=(1, 1))\n",
            "      (1): ReLU(inplace)\n",
            "      (2): Conv2d(32, 32, kernel_size=(3, 3), stride=(1, 1), padding=(1, 1))\n",
            "    )\n",
            "  )\n",
            "  (feat4_2): ResBlock(\n",
            "    (body): Sequential(\n",
            "      (0): Conv2d(32, 32, kernel_size=(3, 3), stride=(1, 1), padding=(1, 1))\n",
            "      (1): ReLU()\n",
            "      (2): Conv2d(32, 32, kernel_size=(3, 3), stride=(1, 1), padding=(1, 1))\n",
            "    )\n",
            "  )\n",
            "  (feat4_3): ResBlock(\n",
            "    (body): Sequential(\n",
            "      (0): Conv2d(32, 32, kernel_size=(3, 3), stride=(1, 1), padding=(1, 1))\n",
            "      (1): ReLU(inplace)\n",
            "      (2): Conv2d(32, 32, kernel_size=(3, 3), stride=(1, 1), padding=(1, 1))\n",
            "    )\n",
            "  )\n",
            "  (feat5_1): ResBlock(\n",
            "    (body): Sequential(\n",
            "      (0): Conv2d(32, 32, kernel_size=(3, 3), stride=(1, 1), padding=(1, 1))\n",
            "      (1): ReLU(inplace)\n",
            "      (2): Conv2d(32, 32, kernel_size=(3, 3), stride=(1, 1), padding=(1, 1))\n",
            "    )\n",
            "  )\n",
            "  (feat5_2): ResBlock(\n",
            "    (body): Sequential(\n",
            "      (0): Conv2d(32, 32, kernel_size=(3, 3), stride=(1, 1), padding=(1, 1))\n",
            "      (1): ReLU()\n",
            "      (2): Conv2d(32, 32, kernel_size=(3, 3), stride=(1, 1), padding=(1, 1))\n",
            "    )\n",
            "  )\n",
            "  (feat5_3): ResBlock(\n",
            "    (body): Sequential(\n",
            "      (0): Conv2d(32, 32, kernel_size=(3, 3), stride=(1, 1), padding=(1, 1))\n",
            "      (1): ReLU(inplace)\n",
            "      (2): Conv2d(32, 32, kernel_size=(3, 3), stride=(1, 1), padding=(1, 1))\n",
            "    )\n",
            "  )\n",
            "  (feat6_1): ResBlock(\n",
            "    (body): Sequential(\n",
            "      (0): Conv2d(32, 32, kernel_size=(3, 3), stride=(1, 1), padding=(1, 1))\n",
            "      (1): ReLU(inplace)\n",
            "      (2): Conv2d(32, 32, kernel_size=(3, 3), stride=(1, 1), padding=(1, 1))\n",
            "    )\n",
            "  )\n",
            "  (feat6_2): ResBlock(\n",
            "    (body): Sequential(\n",
            "      (0): Conv2d(32, 32, kernel_size=(3, 3), stride=(1, 1), padding=(1, 1))\n",
            "      (1): ReLU(inplace)\n",
            "      (2): Conv2d(32, 32, kernel_size=(3, 3), stride=(1, 1), padding=(1, 1))\n",
            "    )\n",
            "  )\n",
            "  (conv1): Conv2d(192, 32, kernel_size=(1, 1), stride=(1, 1), bias=False)\n",
            "  (feat7_1): ResBlock2(\n",
            "    (conv): Conv2d(64, 32, kernel_size=(1, 1), stride=(1, 1))\n",
            "    (body): Sequential(\n",
            "      (0): Conv2d(32, 32, kernel_size=(3, 3), stride=(1, 1), padding=(1, 1))\n",
            "      (1): ReLU(inplace)\n",
            "      (2): Conv2d(32, 32, kernel_size=(3, 3), stride=(1, 1), padding=(1, 1))\n",
            "    )\n",
            "  )\n",
            "  (feat7_2): ResBlock(\n",
            "    (body): Sequential(\n",
            "      (0): Conv2d(32, 32, kernel_size=(3, 3), stride=(1, 1), padding=(1, 1))\n",
            "      (1): ReLU()\n",
            "      (2): Conv2d(32, 32, kernel_size=(3, 3), stride=(1, 1), padding=(1, 1))\n",
            "    )\n",
            "  )\n",
            "  (conv7): ResBlock(\n",
            "    (body): Sequential(\n",
            "      (0): Conv2d(32, 32, kernel_size=(3, 3), stride=(1, 1), padding=(1, 1))\n",
            "      (1): ReLU()\n",
            "      (2): Conv2d(32, 32, kernel_size=(3, 3), stride=(1, 1), padding=(1, 1))\n",
            "    )\n",
            "  )\n",
            "  (feat8_1): ResBlock2(\n",
            "    (conv): Conv2d(64, 32, kernel_size=(1, 1), stride=(1, 1))\n",
            "    (body): Sequential(\n",
            "      (0): Conv2d(32, 32, kernel_size=(3, 3), stride=(1, 1), padding=(1, 1))\n",
            "      (1): ReLU(inplace)\n",
            "      (2): Conv2d(32, 32, kernel_size=(3, 3), stride=(1, 1), padding=(1, 1))\n",
            "    )\n",
            "  )\n",
            "  (feat8_2): ResBlock(\n",
            "    (body): Sequential(\n",
            "      (0): Conv2d(32, 32, kernel_size=(3, 3), stride=(1, 1), padding=(1, 1))\n",
            "      (1): ReLU()\n",
            "      (2): Conv2d(32, 32, kernel_size=(3, 3), stride=(1, 1), padding=(1, 1))\n",
            "    )\n",
            "  )\n",
            "  (conv8): ResBlock(\n",
            "    (body): Sequential(\n",
            "      (0): Conv2d(32, 32, kernel_size=(3, 3), stride=(1, 1), padding=(1, 1))\n",
            "      (1): ReLU()\n",
            "      (2): Conv2d(32, 32, kernel_size=(3, 3), stride=(1, 1), padding=(1, 1))\n",
            "    )\n",
            "  )\n",
            "  (feat9_1): ResBlock2(\n",
            "    (conv): Conv2d(64, 32, kernel_size=(1, 1), stride=(1, 1))\n",
            "    (body): Sequential(\n",
            "      (0): Conv2d(32, 32, kernel_size=(3, 3), stride=(1, 1), padding=(1, 1))\n",
            "      (1): ReLU(inplace)\n",
            "      (2): Conv2d(32, 32, kernel_size=(3, 3), stride=(1, 1), padding=(1, 1))\n",
            "    )\n",
            "  )\n",
            "  (feat9_2): ResBlock(\n",
            "    (body): Sequential(\n",
            "      (0): Conv2d(32, 32, kernel_size=(3, 3), stride=(1, 1), padding=(1, 1))\n",
            "      (1): ReLU()\n",
            "      (2): Conv2d(32, 32, kernel_size=(3, 3), stride=(1, 1), padding=(1, 1))\n",
            "    )\n",
            "  )\n",
            "  (conv9): ResBlock(\n",
            "    (body): Sequential(\n",
            "      (0): Conv2d(32, 32, kernel_size=(3, 3), stride=(1, 1), padding=(1, 1))\n",
            "      (1): ReLU()\n",
            "      (2): Conv2d(32, 32, kernel_size=(3, 3), stride=(1, 1), padding=(1, 1))\n",
            "    )\n",
            "  )\n",
            "  (feat10_1): ResBlock2(\n",
            "    (conv): Conv2d(64, 32, kernel_size=(1, 1), stride=(1, 1))\n",
            "    (body): Sequential(\n",
            "      (0): Conv2d(32, 32, kernel_size=(3, 3), stride=(1, 1), padding=(1, 1))\n",
            "      (1): ReLU(inplace)\n",
            "      (2): Conv2d(32, 32, kernel_size=(3, 3), stride=(1, 1), padding=(1, 1))\n",
            "    )\n",
            "  )\n",
            "  (feat10_2): ResBlock(\n",
            "    (body): Sequential(\n",
            "      (0): Conv2d(32, 32, kernel_size=(3, 3), stride=(1, 1), padding=(1, 1))\n",
            "      (1): ReLU()\n",
            "      (2): Conv2d(32, 32, kernel_size=(3, 3), stride=(1, 1), padding=(1, 1))\n",
            "    )\n",
            "  )\n",
            "  (conv10): ResBlock(\n",
            "    (body): Sequential(\n",
            "      (0): Conv2d(32, 32, kernel_size=(3, 3), stride=(1, 1), padding=(1, 1))\n",
            "      (1): ReLU()\n",
            "      (2): Conv2d(32, 32, kernel_size=(3, 3), stride=(1, 1), padding=(1, 1))\n",
            "    )\n",
            "  )\n",
            "  (tail): Sequential(\n",
            "    (0): Upsampler(\n",
            "      (0): Conv2d(32, 128, kernel_size=(3, 3), stride=(1, 1), padding=(1, 1))\n",
            "      (1): PixelShuffle(upscale_factor=2)\n",
            "    )\n",
            "    (1): Conv2d(32, 3, kernel_size=(3, 3), stride=(1, 1), padding=(1, 1))\n",
            "  )\n",
            ")\n",
            "Preparing loss function:\n",
            "1.000 * L1\n",
            "[Epoch 1]\tLearning rate: 1.00e-4\n",
            "[1600/16000]\t[L1: 16.1391]\t23.6+314.2s\n",
            "[3200/16000]\t[L1: 12.5816]\t24.0+203.4s\n",
            "[4800/16000]\t[L1: 10.9581]\t23.4+196.7s\n",
            "[6400/16000]\t[L1: 9.9630]\t23.9+206.3s\n",
            "[8000/16000]\t[L1: 9.2215]\t23.5+236.9s\n",
            "[9600/16000]\t[L1: 8.6650]\t23.2+260.1s\n",
            "[11200/16000]\t[L1: 8.2690]\t23.5+227.4s\n",
            "[12800/16000]\t[L1: 7.9716]\t23.6+190.8s\n",
            "[14400/16000]\t[L1: 7.6889]\t23.5+179.5s\n",
            "[16000/16000]\t[L1: 7.4616]\t23.0+203.9s\n",
            "总参数数量和：534139\n",
            "\n",
            "Evaluation:\n",
            "100%|█████████████████████████████████████████████| 5/5 [00:34<00:00,  6.81s/it][DIV2K x2]\tPSNR: 36.971 (Best: 36.971 @epoch 1)\n",
            "Total time: 34.17s\n",
            "\n",
            "[Epoch 2]\tLearning rate: 1.00e-4\n",
            "\n",
            "[1600/16000]\t[L1: 5.3730]\t23.3+216.9s\n",
            "[3200/16000]\t[L1: 5.2663]\t23.1+217.8s\n",
            "[4800/16000]\t[L1: 5.2889]\t23.2+214.8s\n",
            "[6400/16000]\t[L1: 5.2579]\t23.1+288.6s\n",
            "[8000/16000]\t[L1: 5.2087]\t23.2+382.5s\n",
            "[9600/16000]\t[L1: 5.1743]\t23.5+286.2s\n",
            "[11200/16000]\t[L1: 5.1376]\t23.0+351.5s\n",
            "[12800/16000]\t[L1: 5.1393]\t23.2+359.4s\n",
            "[14400/16000]\t[L1: 5.0707]\t23.1+211.6s\n",
            "[16000/16000]\t[L1: 5.0606]\t23.9+169.6s\n",
            "总参数数量和：534139\n",
            "\n",
            "Evaluation:\n",
            "100%|█████████████████████████████████████████████| 5/5 [00:35<00:00,  7.15s/it][DIV2K x2]\tPSNR: 37.110 (Best: 37.110 @epoch 2)\n",
            "Total time: 35.80s\n",
            "\n",
            "[Epoch 3]\tLearning rate: 1.00e-4\n",
            "\n",
            "[1600/16000]\t[L1: 4.8564]\t23.9+156.5s\n",
            "[3200/16000]\t[L1: 4.8636]\t24.1+186.9s\n",
            "[4800/16000]\t[L1: 4.8641]\t23.1+214.1s\n",
            "[6400/16000]\t[L1: 4.8043]\t23.4+214.9s\n",
            "[8000/16000]\t[L1: 4.7496]\t23.8+202.8s\n",
            "[9600/16000]\t[L1: 4.7605]\t23.2+300.8s\n",
            "[11200/16000]\t[L1: 4.7259]\t23.3+405.9s\n",
            "[12800/16000]\t[L1: 4.7279]\t23.3+329.1s\n",
            "[14400/16000]\t[L1: 4.7124]\t23.6+211.8s\n",
            "[16000/16000]\t[L1: 4.6995]\t23.9+199.1s\n",
            "总参数数量和：534139\n",
            "\n",
            "Evaluation:\n",
            "100%|█████████████████████████████████████████████| 5/5 [00:38<00:00,  7.70s/it][DIV2K x2]\tPSNR: 37.627 (Best: 37.627 @epoch 3)\n",
            "Total time: 38.56s\n",
            "\n",
            "[Epoch 4]\tLearning rate: 1.00e-4\n",
            "\n",
            "[1600/16000]\t[L1: 4.5087]\t24.3+206.5s\n",
            "[3200/16000]\t[L1: 4.5207]\t23.6+223.2s\n",
            "[4800/16000]\t[L1: 4.5799]\t24.2+224.9s\n",
            "[6400/16000]\t[L1: 4.5721]\t23.8+246.6s\n",
            "[8000/16000]\t[L1: 4.5621]\t24.3+250.3s\n",
            "[9600/16000]\t[L1: 4.5623]\t23.6+365.7s\n",
            "[11200/16000]\t[L1: 4.5536]\t23.4+301.5s\n",
            "[12800/16000]\t[L1: 4.5410]\t24.0+291.9s\n",
            "[14400/16000]\t[L1: 4.5279]\t23.9+258.9s\n",
            "[16000/16000]\t[L1: 4.5238]\t23.7+244.2s\n",
            "总参数数量和：534139\n",
            "\n",
            "Evaluation:\n",
            "100%|█████████████████████████████████████████████| 5/5 [00:37<00:00,  7.42s/it][DIV2K x2]\tPSNR: 37.748 (Best: 37.748 @epoch 4)\n",
            "Total time: 37.12s\n",
            "\n",
            "[Epoch 5]\tLearning rate: 1.00e-4\n",
            "\n"
          ]
        }
      ]
    }
  ]
}